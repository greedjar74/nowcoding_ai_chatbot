{
 "cells": [
  {
   "cell_type": "markdown",
   "id": "e0faa705",
   "metadata": {},
   "source": [
    "# Setting\n",
    "- GPT 모델 설정 필요\n",
    "- 추후에 o4-mini로 테스트 필요"
   ]
  },
  {
   "cell_type": "code",
   "execution_count": 1,
   "id": "c83cee6a",
   "metadata": {},
   "outputs": [],
   "source": [
    "import os\n",
    "key_file = open('key.txt', 'r')\n",
    "os.environ['OPENAI_API_KEY'] = key_file.readline()\n",
    "key_file.close()\n",
    "from openai import OpenAI\n",
    "client = OpenAI()\n",
    "model = \"gpt-4.1-mini\""
   ]
  },
  {
   "cell_type": "markdown",
   "id": "464b9510",
   "metadata": {},
   "source": [
    "- 첫 질문"
   ]
  },
  {
   "cell_type": "code",
   "execution_count": null,
   "id": "b8ce45f9",
   "metadata": {},
   "outputs": [],
   "source": [
    "# %%time\n",
    "\n",
    "# messages = []\n",
    "# system_content = '''\n",
    "\n",
    "# '''\n",
    "# user_content = '''\n",
    "\n",
    "# '''\n",
    "# messages.append({\"role\": \"system\", \"content\": system_content})\n",
    "# messages.append({\"role\": \"user\", \"content\": user_content})\n",
    "\n",
    "# response = client.chat.completions.create(\n",
    "#     model=model,\n",
    "#     messages=messages)\n",
    "# messages.append(response.choices[0].message)\n",
    "\n",
    "# print('*'*20, 'answer', '*'*20)\n",
    "# print(response.choices[0].message.content)\n",
    "# print('*'*40)\n",
    "# print('tokens:', response.usage)"
   ]
  },
  {
   "cell_type": "markdown",
   "id": "b2723392",
   "metadata": {},
   "source": [
    "- 이어서 질문"
   ]
  },
  {
   "cell_type": "code",
   "execution_count": null,
   "id": "c0a14bd8",
   "metadata": {},
   "outputs": [],
   "source": [
    "# %%time\n",
    "\n",
    "# user_content = '''\n",
    "\n",
    "# '''\n",
    "# messages.append({\"role\": \"user\", \"content\": user_content})\n",
    "\n",
    "# response = client.chat.completions.create(\n",
    "#     model=model,\n",
    "#     messages=messages)\n",
    "# messages.append(response.choices[0].message)\n",
    "\n",
    "# print('*'*20, 'answer', '*'*20)\n",
    "# print(response.choices[0].message.content)\n",
    "# print('*'*40)\n",
    "# print('tokens:', response.usage)"
   ]
  },
  {
   "cell_type": "markdown",
   "id": "97dba0ad",
   "metadata": {},
   "source": [
    "# chapter 10 (종합)"
   ]
  },
  {
   "cell_type": "code",
   "execution_count": 2,
   "id": "d773a07a",
   "metadata": {},
   "outputs": [
    {
     "name": "stdout",
     "output_type": "stream",
     "text": [
      "******************** answer ********************\n",
      "이해했습니다.\n",
      "****************************************\n",
      "tokens: CompletionUsage(completion_tokens=5, prompt_tokens=200, total_tokens=205, completion_tokens_details=CompletionTokensDetails(accepted_prediction_tokens=0, audio_tokens=0, reasoning_tokens=0, rejected_prediction_tokens=0), prompt_tokens_details=PromptTokensDetails(audio_tokens=0, cached_tokens=0))\n",
      "CPU times: total: 31.2 ms\n",
      "Wall time: 720 ms\n"
     ]
    }
   ],
   "source": [
    "%%time\n",
    "\n",
    "messages = []\n",
    "\n",
    "system_content = '''\n",
    "너는 아바타를 제어하는 명령어를 모른다. 아바타를 제어하는 명령어를 설명하기 전에는 아바타를 제어하는 파이썬 코드를 작성할 수 없으며 ‘명령어를 모릅니다.’ 문구를 출력한다.\n",
    "\n",
    "while, if, elif, else에 대해서 모른다. for, while, if, elif, else에 대해서 각각 설명하기 전에는 for, while, if, elif, else를 사용한 파이썬 코드를 만들 수 없다. \n",
    "각각의 문법을 배우기 전에 for, while, if, elif, else 없이 코드를 만들 수 없다면 ‘제가 모르는 부분입니다.’ 문구를 출력한다.\n",
    "\n",
    "너는 내가 작성한 설명을 기반으로 파이썬 코드를 만든다.\n",
    "\n",
    "이해했으면 ‘이해했습니다.’라는 문구 출력\n",
    "'''\n",
    "\n",
    "user_content = '''\n",
    "'''\n",
    "\n",
    "messages.append({\"role\": \"system\", \"content\": system_content})\n",
    "messages.append({\"role\": \"user\", \"content\": user_content})\n",
    "\n",
    "response = client.chat.completions.create(\n",
    "    model=model,\n",
    "    messages=messages)\n",
    "messages.append(response.choices[0].message)\n",
    "\n",
    "print('*'*20, 'answer', '*'*20)\n",
    "print(response.choices[0].message.content)\n",
    "print('*'*40)\n",
    "print('tokens:', response.usage)"
   ]
  },
  {
   "cell_type": "markdown",
   "id": "f3097591",
   "metadata": {},
   "source": [
    "## 문법, 명령어 설명 없이 문제풀이"
   ]
  },
  {
   "cell_type": "code",
   "execution_count": null,
   "id": "57237647",
   "metadata": {},
   "outputs": [],
   "source": [
    "%%time\n",
    "\n",
    "user_content = ''' \n",
    "코드 생성 prompt\n",
    "\n",
    "설명에 맞는 코드를 만든다. 결과는 코드 또는 ‘제가 모르는 부분입니다.’ 또는 ‘명령어를 모릅니다.’’만 출력한다. 이해했으면 ‘이해했습니다.’ 문구 출력\n",
    "'''\n",
    "\n",
    "messages.append({\"role\": \"user\", \"content\": user_content})\n",
    "\n",
    "response = client.chat.completions.create(\n",
    "    model=model,\n",
    "    messages=messages)\n",
    "messages.append(response.choices[0].message)\n",
    "\n",
    "print('*'*20, 'answer', '*'*20)\n",
    "print(response.choices[0].message.content)\n",
    "print('*'*40)\n",
    "print('tokens:', response.usage)"
   ]
  },
  {
   "cell_type": "code",
   "execution_count": null,
   "id": "6e0b08f7",
   "metadata": {},
   "outputs": [],
   "source": [
    "%%time\n",
    "\n",
    "user_content = ''' \n",
    "#1. [앞으로 한 칸 전진한다.] [오른쪽으로 90도 회전한다.] [앞으로 한 칸 전진한다.] [왼쪽으로 90도 회전한다.] (코드 또는 ‘제가 모르는 부분입니다.’ 또는 ‘명령어를 모릅니다.’만 출력)\n",
    "'''\n",
    "\n",
    "messages.append({\"role\": \"user\", \"content\": user_content})\n",
    "\n",
    "response = client.chat.completions.create(\n",
    "    model=model,\n",
    "    messages=messages)\n",
    "messages.append(response.choices[0].message)\n",
    "\n",
    "print('*'*20, 'answer', '*'*20)\n",
    "print(response.choices[0].message.content)\n",
    "print('*'*40)\n",
    "print('tokens:', response.usage)"
   ]
  },
  {
   "cell_type": "code",
   "execution_count": null,
   "id": "c7ab5d89",
   "metadata": {},
   "outputs": [],
   "source": [
    "%%time\n",
    "\n",
    "user_content = ''' \n",
    "#2. [[왼쪽으로 90도 회전한다.] [앞으로 한 칸 전진한다.] [앞으로 한 칸 전진한다.] [오른쪽으로 90도 회전한다.] [앞으로 한 칸 전진한다.] [오른쪽으로 90도 회전한다.] [앞으로 한 칸 전진한다.] [앞으로 한 칸 전진한다.] [왼쪽으로 90도 회전한다.] [앞으로 한 칸 전진한다.] 이 동작을 2번 반복한다.] [앞으로 한 칸 전진한다.] (코드 또는 ‘제가 모르는 부분입니다.’ 또는 ‘명령어를 모릅니다.’만 출력)\n",
    "'''\n",
    "\n",
    "messages.append({\"role\": \"user\", \"content\": user_content})\n",
    "\n",
    "response = client.chat.completions.create(\n",
    "    model=model,\n",
    "    messages=messages)\n",
    "messages.append(response.choices[0].message)\n",
    "\n",
    "print('*'*20, 'answer', '*'*20)\n",
    "print(response.choices[0].message.content)\n",
    "print('*'*40)\n",
    "print('tokens:', response.usage)"
   ]
  },
  {
   "cell_type": "code",
   "execution_count": null,
   "id": "79e62e9d",
   "metadata": {},
   "outputs": [],
   "source": [
    "%%time\n",
    "\n",
    "user_content = ''' \n",
    "#3. [[앞으로 한 칸 이동한다.] [왼쪽으로 90도 회전한다.] [앞으로 한 칸 이동한다.] [오른쪽으로 90도 회전한다.] 이 과정을 2번 반복한다.] [왼쪽으로 90도 회전한다.] [[앞으로 한 칸 이동한다.] [왼쪽으로 90도 회전한다.] [앞으로 한 칸 이동한다.] 이 과정을 2번 반복한다.] (코드 또는 ‘제가 모르는 부분입니다.’ 또는 ‘명령어를 모릅니다.’만 출력)\n",
    "'''\n",
    "\n",
    "messages.append({\"role\": \"user\", \"content\": user_content})\n",
    "\n",
    "response = client.chat.completions.create(\n",
    "    model=model,\n",
    "    messages=messages)\n",
    "messages.append(response.choices[0].message)\n",
    "\n",
    "print('*'*20, 'answer', '*'*20)\n",
    "print(response.choices[0].message.content)\n",
    "print('*'*40)\n",
    "print('tokens:', response.usage)"
   ]
  },
  {
   "cell_type": "code",
   "execution_count": null,
   "id": "ff3025e7",
   "metadata": {},
   "outputs": [],
   "source": [
    "%%time\n",
    "\n",
    "user_content = ''' \n",
    "#4. [[앞으로 한 칸 이동한다.] [앞으로 한 칸 이동한다.] [왼쪽으로 90도 회전한다.] [앞으로 한 칸 이동한다.] [오른쪽으로 90도 회전한다.] 이 과정을 3번 반복한다.] [앞으로 한 칸 이동한다.] [왼쪽으로 90도 회전한다.] [[앞으로 한 칸 이동한다.] [앞으로 한 칸 이동한다.] [앞으로 한 칸 이동한다.] [오른쪽으로 90도 회전한다.] 이 과정을 3번 반복한다.] [[앞으로 한 칸 이동한다.] 이 과정을 10번 반복한다.] (코드 또는 ‘제가 모르는 부분입니다.’ 또는 ‘명령어를 모릅니다.’만 출력)\n",
    "'''\n",
    "\n",
    "messages.append({\"role\": \"user\", \"content\": user_content})\n",
    "\n",
    "response = client.chat.completions.create(\n",
    "    model=model,\n",
    "    messages=messages)\n",
    "messages.append(response.choices[0].message)\n",
    "\n",
    "print('*'*20, 'answer', '*'*20)\n",
    "print(response.choices[0].message.content)\n",
    "print('*'*40)\n",
    "print('tokens:', response.usage)"
   ]
  },
  {
   "cell_type": "code",
   "execution_count": null,
   "id": "6ba741c2",
   "metadata": {},
   "outputs": [],
   "source": [
    "%%time\n",
    "\n",
    "user_content = ''' \n",
    "#5. [아바타가 앞으로 이동할 수 있는 경우 앞으로 한 칸 이동한다.] [아바타가 앞으로 이동할 수 없으며 왼쪽으로 이동할 수 있는 경우 왼쪽으로 90도 회전한다.] [아바타가 앞으로 이동할 수 없고 왼쪽으로 이동할 수 없는 경우 오른쪽으로 90도 회전한다.] (코드 또는 ‘제가 모르는 부분입니다.’ 또는 ‘명령어를 모릅니다.’만 출력)\n",
    "'''\n",
    "\n",
    "messages.append({\"role\": \"user\", \"content\": user_content})\n",
    "\n",
    "response = client.chat.completions.create(\n",
    "    model=model,\n",
    "    messages=messages)\n",
    "messages.append(response.choices[0].message)\n",
    "\n",
    "print('*'*20, 'answer', '*'*20)\n",
    "print(response.choices[0].message.content)\n",
    "print('*'*40)\n",
    "print('tokens:', response.usage)"
   ]
  },
  {
   "cell_type": "markdown",
   "id": "e2b7eca0",
   "metadata": {},
   "source": [
    "## 명령어 설명"
   ]
  },
  {
   "cell_type": "code",
   "execution_count": null,
   "id": "bf48a608",
   "metadata": {},
   "outputs": [],
   "source": [
    "%%time\n",
    "\n",
    "user_content = ''' \n",
    "명령어 설명 \n",
    "\n",
    "moveForward() : 앞으로 한칸 전진\n",
    "turnLeft() : 좌로 90도 회전\n",
    "turnRight() : 우로 90도 회전\n",
    "turnBack() : 180도 회전\n",
    "pathAhead() : 앞으로 이동 가능한지 반환\n",
    "pathRight() : 우측으로 이동 가능한지 반환.\n",
    "pathLeft() : 좌측으로 이동 가능한지 반환.\n",
    "pathAheadRight() : 앞과 우측으로 모두 이동 가능한지 반환.\n",
    "pathAheadLeft() : 앞과 좌측으로 모두 이동 가능한지 반환.\n",
    "pathRightLeft() : 우, 좌측으로 모두 이동 가능한지 반환.\n",
    "pathCrossroad() : 앞, 뒤, 좌, 우측으로 모두 이동가능한지 반환.\n",
    "\n",
    " 위 명령어에 대해서 이해했으면 ‘이해했습니다.’ 문구 출력\n",
    "'''\n",
    "\n",
    "messages.append({\"role\": \"user\", \"content\": user_content})\n",
    "\n",
    "response = client.chat.completions.create(\n",
    "    model=model,\n",
    "    messages=messages)\n",
    "messages.append(response.choices[0].message)\n",
    "\n",
    "print('*'*20, 'answer', '*'*20)\n",
    "print(response.choices[0].message.content)\n",
    "print('*'*40)\n",
    "print('tokens:', response.usage)"
   ]
  },
  {
   "cell_type": "code",
   "execution_count": null,
   "id": "b523daef",
   "metadata": {},
   "outputs": [],
   "source": [
    "%%time\n",
    "\n",
    "user_content = ''' \n",
    "코드 생성 prompt\n",
    "\n",
    " 설명에 맞는 코드를 만든다. 결과는 코드 또는 ‘제가 모르는 부분입니다.’ 또는 ‘명령어를 모릅니다.’만 출력한다. 이해했으면 ‘이해했습니다.’ 문구 출력\n",
    "'''\n",
    "\n",
    "messages.append({\"role\": \"user\", \"content\": user_content})\n",
    "\n",
    "response = client.chat.completions.create(\n",
    "    model=model,\n",
    "    messages=messages)\n",
    "messages.append(response.choices[0].message)\n",
    "\n",
    "print('*'*20, 'answer', '*'*20)\n",
    "print(response.choices[0].message.content)\n",
    "print('*'*40)\n",
    "print('tokens:', response.usage)"
   ]
  },
  {
   "cell_type": "code",
   "execution_count": null,
   "id": "cefe0271",
   "metadata": {},
   "outputs": [],
   "source": [
    "%%time\n",
    "\n",
    "user_content = ''' \n",
    "#1. [앞으로 한 칸 전진한다.] [오른쪽으로 90도 회전한다.] [앞으로 한 칸 전진한다.] [왼쪽으로 90도 회전한다.] (코드 또는 ‘제가 모르는 부분입니다.’ 또는 ‘명령어를 모릅니다.’만 출력)\n",
    "'''\n",
    "\n",
    "messages.append({\"role\": \"user\", \"content\": user_content})\n",
    "\n",
    "response = client.chat.completions.create(\n",
    "    model=model,\n",
    "    messages=messages)\n",
    "messages.append(response.choices[0].message)\n",
    "\n",
    "print('*'*20, 'answer', '*'*20)\n",
    "print(response.choices[0].message.content)\n",
    "print('*'*40)\n",
    "print('tokens:', response.usage)"
   ]
  },
  {
   "cell_type": "code",
   "execution_count": null,
   "id": "903c92a5",
   "metadata": {},
   "outputs": [],
   "source": [
    "%%time\n",
    "\n",
    "user_content = ''' \n",
    "#2. [[왼쪽으로 90도 회전한다.] [앞으로 한 칸 전진한다.] [앞으로 한 칸 전진한다.] [오른쪽으로 90도 회전한다.] [앞으로 한 칸 전진한다.] [오른쪽으로 90도 회전한다.] [앞으로 한 칸 전진한다.] [앞으로 한 칸 전진한다.] [왼쪽으로 90도 회전한다.] [앞으로 한 칸 전진한다.] 이 동작을 2번 반복한다.] [앞으로 한 칸 전진한다.] (코드 또는 ‘제가 모르는 부분입니다.’ 또는 ‘명령어를 모릅니다.’만 출력)\n",
    "'''\n",
    "\n",
    "messages.append({\"role\": \"user\", \"content\": user_content})\n",
    "\n",
    "response = client.chat.completions.create(\n",
    "    model=model,\n",
    "    messages=messages)\n",
    "messages.append(response.choices[0].message)\n",
    "\n",
    "print('*'*20, 'answer', '*'*20)\n",
    "print(response.choices[0].message.content)\n",
    "print('*'*40)\n",
    "print('tokens:', response.usage)"
   ]
  },
  {
   "cell_type": "code",
   "execution_count": null,
   "id": "0e6e1dc7",
   "metadata": {},
   "outputs": [],
   "source": [
    "%%time\n",
    "\n",
    "user_content = ''' \n",
    "#3. [[앞으로 한 칸 이동한다.] [왼쪽으로 90도 회전한다.] [앞으로 한 칸 이동한다.] [오른쪽으로 90도 회전한다.] 이 과정을 2번 반복한다.] [왼쪽으로 90도 회전한다.] [[앞으로 한 칸 이동한다.] [왼쪽으로 90도 회전한다.] [앞으로 한 칸 이동한다.] 이 과정을 2번 반복한다.] (코드 또는 ‘제가 모르는 부분입니다.’ 또는 ‘명령어를 모릅니다.’만 출력)\n",
    "'''\n",
    "\n",
    "messages.append({\"role\": \"user\", \"content\": user_content})\n",
    "\n",
    "response = client.chat.completions.create(\n",
    "    model=model,\n",
    "    messages=messages)\n",
    "messages.append(response.choices[0].message)\n",
    "\n",
    "print('*'*20, 'answer', '*'*20)\n",
    "print(response.choices[0].message.content)\n",
    "print('*'*40)\n",
    "print('tokens:', response.usage)"
   ]
  },
  {
   "cell_type": "code",
   "execution_count": null,
   "id": "214ab874",
   "metadata": {},
   "outputs": [],
   "source": [
    "%%time\n",
    "\n",
    "user_content = ''' \n",
    "#4. [[앞으로 한 칸 이동한다.] [앞으로 한 칸 이동한다.] [왼쪽으로 90도 회전한다.] [앞으로 한 칸 이동한다.] [오른쪽으로 90도 회전한다.] 이 과정을 3번 반복한다.] [앞으로 한 칸 이동한다.] [왼쪽으로 90도 회전한다.] [[앞으로 한 칸 이동한다.] [앞으로 한 칸 이동한다.] [앞으로 한 칸 이동한다.] [오른쪽으로 90도 회전한다.] 이 과정을 3번 반복한다.] [[앞으로 한 칸 이동한다.] 이 과정을 10번 반복한다.] (코드 또는 ‘제가 모르는 부분입니다.’ 또는 ‘명령어를 모릅니다.’만 출력)\n",
    "'''\n",
    "\n",
    "messages.append({\"role\": \"user\", \"content\": user_content})\n",
    "\n",
    "response = client.chat.completions.create(\n",
    "    model=model,\n",
    "    messages=messages)\n",
    "messages.append(response.choices[0].message)\n",
    "\n",
    "print('*'*20, 'answer', '*'*20)\n",
    "print(response.choices[0].message.content)\n",
    "print('*'*40)\n",
    "print('tokens:', response.usage)"
   ]
  },
  {
   "cell_type": "code",
   "execution_count": null,
   "id": "f014ca9f",
   "metadata": {},
   "outputs": [],
   "source": [
    "%%time\n",
    "\n",
    "user_content = ''' \n",
    "#5. [아바타가 앞으로 이동할 수 있는 경우 앞으로 한 칸 이동한다.] [아바타가 앞으로 이동할 수 없으며 왼쪽으로 이동할 수 있는 경우 왼쪽으로 90도 회전한다.] [아바타가 앞으로 이동할 수 없고 왼쪽으로 이동할 수 없는 경우 오른쪽으로 90도 회전한다.] (코드 또는 ‘제가 모르는 부분입니다.’ 또는 ‘명령어를 모릅니다.’만 출력)\n",
    "'''\n",
    "\n",
    "messages.append({\"role\": \"user\", \"content\": user_content})\n",
    "\n",
    "response = client.chat.completions.create(\n",
    "    model=model,\n",
    "    messages=messages)\n",
    "messages.append(response.choices[0].message)\n",
    "\n",
    "print('*'*20, 'answer', '*'*20)\n",
    "print(response.choices[0].message.content)\n",
    "print('*'*40)\n",
    "print('tokens:', response.usage)"
   ]
  },
  {
   "cell_type": "markdown",
   "id": "76684da4",
   "metadata": {},
   "source": [
    "## 문법 설명"
   ]
  },
  {
   "cell_type": "code",
   "execution_count": 3,
   "id": "9bbeaded",
   "metadata": {},
   "outputs": [
    {
     "name": "stdout",
     "output_type": "stream",
     "text": [
      "******************** answer ********************\n",
      "이해했습니다.\n",
      "****************************************\n",
      "tokens: CompletionUsage(completion_tokens=5, prompt_tokens=384, total_tokens=389, completion_tokens_details=CompletionTokensDetails(accepted_prediction_tokens=0, audio_tokens=0, reasoning_tokens=0, rejected_prediction_tokens=0), prompt_tokens_details=PromptTokensDetails(audio_tokens=0, cached_tokens=0))\n",
      "CPU times: total: 15.6 ms\n",
      "Wall time: 667 ms\n"
     ]
    }
   ],
   "source": [
    "%%time\n",
    "\n",
    "user_content = ''' \n",
    "명령어 설명 \n",
    "\n",
    "moveForward() : 앞으로 한칸 전진\n",
    "turnLeft() : 좌로 90도 회전\n",
    "turnRight() : 우로 90도 회전\n",
    "turnBack() : 180도 회전\n",
    "pathAhead() : 앞으로 이동 가능한지 반환\n",
    "pathRight() : 우측으로 이동 가능한지 반환.\n",
    "pathLeft() : 좌측으로 이동 가능한지 반환.\n",
    "pathAheadRight() : 앞과 우측으로 모두 이동 가능한지 반환.\n",
    "pathAheadLeft() : 앞과 좌측으로 모두 이동 가능한지 반환.\n",
    "pathRightLeft() : 우, 좌측으로 모두 이동 가능한지 반환.\n",
    "pathCrossroad() : 앞, 뒤, 좌, 우측으로 모두 이동가능한지 반환.\n",
    "\n",
    " 위 명령어에 대해서 이해했으면 ‘이해했습니다.’ 문구 출력\n",
    "'''\n",
    "\n",
    "messages.append({\"role\": \"user\", \"content\": user_content})\n",
    "\n",
    "response = client.chat.completions.create(\n",
    "    model=model,\n",
    "    messages=messages)\n",
    "messages.append(response.choices[0].message)\n",
    "\n",
    "print('*'*20, 'answer', '*'*20)\n",
    "print(response.choices[0].message.content)\n",
    "print('*'*40)\n",
    "print('tokens:', response.usage)"
   ]
  },
  {
   "cell_type": "code",
   "execution_count": 4,
   "id": "8a3e6063",
   "metadata": {},
   "outputs": [
    {
     "name": "stdout",
     "output_type": "stream",
     "text": [
      "******************** answer ********************\n",
      "이해했습니다.\n",
      "****************************************\n",
      "tokens: CompletionUsage(completion_tokens=5, prompt_tokens=455, total_tokens=460, completion_tokens_details=CompletionTokensDetails(accepted_prediction_tokens=0, audio_tokens=0, reasoning_tokens=0, rejected_prediction_tokens=0), prompt_tokens_details=PromptTokensDetails(audio_tokens=0, cached_tokens=0))\n",
      "CPU times: total: 31.2 ms\n",
      "Wall time: 619 ms\n"
     ]
    }
   ],
   "source": [
    "%%time\n",
    "\n",
    "user_content = ''' \n",
    "문법 설명 - for\n",
    "\n",
    "for문: 동일한 행위를 반복적으로 수행할 때 사용한다.\n",
    "\n",
    "for 변수이름 in range(범위):\n",
    "    동작할 코드\n",
    "\n",
    "위 형태로 작성한다.\n",
    "\n",
    "이해했으면 ‘이해했습니다.’ 문구를 출력한다.\n",
    "'''\n",
    "\n",
    "messages.append({\"role\": \"user\", \"content\": user_content})\n",
    "\n",
    "response = client.chat.completions.create(\n",
    "    model=model,\n",
    "    messages=messages)\n",
    "messages.append(response.choices[0].message)\n",
    "\n",
    "print('*'*20, 'answer', '*'*20)\n",
    "print(response.choices[0].message.content)\n",
    "print('*'*40)\n",
    "print('tokens:', response.usage)"
   ]
  },
  {
   "cell_type": "code",
   "execution_count": 5,
   "id": "f4f89cb5",
   "metadata": {},
   "outputs": [
    {
     "name": "stdout",
     "output_type": "stream",
     "text": [
      "******************** answer ********************\n",
      "이해했습니다.\n",
      "****************************************\n",
      "tokens: CompletionUsage(completion_tokens=5, prompt_tokens=519, total_tokens=524, completion_tokens_details=CompletionTokensDetails(accepted_prediction_tokens=0, audio_tokens=0, reasoning_tokens=0, rejected_prediction_tokens=0), prompt_tokens_details=PromptTokensDetails(audio_tokens=0, cached_tokens=0))\n",
      "CPU times: total: 15.6 ms\n",
      "Wall time: 672 ms\n"
     ]
    }
   ],
   "source": [
    "%%time\n",
    "\n",
    "user_content = ''' \n",
    "코드 생성 prompt\n",
    "\n",
    " 설명에 맞는 코드를 만든다. 결과는 코드 또는 ‘제가 모르는 부분입니다.’ 또는 ‘명령어를 모릅니다.’만 출력한다. 이해했으면 ‘이해했습니다.’ 문구 출력\n",
    "'''\n",
    "\n",
    "messages.append({\"role\": \"user\", \"content\": user_content})\n",
    "\n",
    "response = client.chat.completions.create(\n",
    "    model=model,\n",
    "    messages=messages)\n",
    "messages.append(response.choices[0].message)\n",
    "\n",
    "print('*'*20, 'answer', '*'*20)\n",
    "print(response.choices[0].message.content)\n",
    "print('*'*40)\n",
    "print('tokens:', response.usage)"
   ]
  },
  {
   "cell_type": "code",
   "execution_count": 6,
   "id": "18e32940",
   "metadata": {},
   "outputs": [
    {
     "name": "stdout",
     "output_type": "stream",
     "text": [
      "******************** answer ********************\n",
      "moveForward()\n",
      "turnRight()\n",
      "moveForward()\n",
      "turnLeft()\n",
      "****************************************\n",
      "tokens: CompletionUsage(completion_tokens=13, prompt_tokens=603, total_tokens=616, completion_tokens_details=CompletionTokensDetails(accepted_prediction_tokens=0, audio_tokens=0, reasoning_tokens=0, rejected_prediction_tokens=0), prompt_tokens_details=PromptTokensDetails(audio_tokens=0, cached_tokens=0))\n",
      "CPU times: total: 15.6 ms\n",
      "Wall time: 752 ms\n"
     ]
    }
   ],
   "source": [
    "%%time\n",
    "\n",
    "user_content = ''' \n",
    "#1. [앞으로 한 칸 전진한다.] [오른쪽으로 90도 회전한다.] [앞으로 한 칸 전진한다.] [왼쪽으로 90도 회전한다.] (코드 또는 ‘제가 모르는 부분입니다.’ 또는 ‘명령어를 모릅니다.’만 출력)\n",
    "'''\n",
    "\n",
    "messages.append({\"role\": \"user\", \"content\": user_content})\n",
    "\n",
    "response = client.chat.completions.create(\n",
    "    model=model,\n",
    "    messages=messages)\n",
    "messages.append(response.choices[0].message)\n",
    "\n",
    "print('*'*20, 'answer', '*'*20)\n",
    "print(response.choices[0].message.content)\n",
    "print('*'*40)\n",
    "print('tokens:', response.usage)"
   ]
  },
  {
   "cell_type": "code",
   "execution_count": 7,
   "id": "eee8ba87",
   "metadata": {},
   "outputs": [
    {
     "name": "stdout",
     "output_type": "stream",
     "text": [
      "******************** answer ********************\n",
      "for _ in range(2):\n",
      "    turnLeft()\n",
      "    moveForward()\n",
      "    moveForward()\n",
      "    turnRight()\n",
      "    moveForward()\n",
      "    turnRight()\n",
      "    moveForward()\n",
      "    moveForward()\n",
      "    turnLeft()\n",
      "    moveForward()\n",
      "moveForward()\n",
      "****************************************\n",
      "tokens: CompletionUsage(completion_tokens=51, prompt_tokens=779, total_tokens=830, completion_tokens_details=CompletionTokensDetails(accepted_prediction_tokens=0, audio_tokens=0, reasoning_tokens=0, rejected_prediction_tokens=0), prompt_tokens_details=PromptTokensDetails(audio_tokens=0, cached_tokens=0))\n",
      "CPU times: total: 31.2 ms\n",
      "Wall time: 1.15 s\n"
     ]
    }
   ],
   "source": [
    "%%time\n",
    "\n",
    "user_content = ''' \n",
    "#2. [[왼쪽으로 90도 회전한다.] [앞으로 한 칸 전진한다.] [앞으로 한 칸 전진한다.] [오른쪽으로 90도 회전한다.] [앞으로 한 칸 전진한다.] [오른쪽으로 90도 회전한다.] [앞으로 한 칸 전진한다.] [앞으로 한 칸 전진한다.] [왼쪽으로 90도 회전한다.] [앞으로 한 칸 전진한다.] 이 동작을 2번 반복한다.] [앞으로 한 칸 전진한다.] (코드 또는 ‘제가 모르는 부분입니다.’ 또는 ‘명령어를 모릅니다.’만 출력)\n",
    "'''\n",
    "\n",
    "messages.append({\"role\": \"user\", \"content\": user_content})\n",
    "\n",
    "response = client.chat.completions.create(\n",
    "    model=model,\n",
    "    messages=messages)\n",
    "messages.append(response.choices[0].message)\n",
    "\n",
    "print('*'*20, 'answer', '*'*20)\n",
    "print(response.choices[0].message.content)\n",
    "print('*'*40)\n",
    "print('tokens:', response.usage)"
   ]
  },
  {
   "cell_type": "code",
   "execution_count": 8,
   "id": "597f7fa0",
   "metadata": {},
   "outputs": [
    {
     "name": "stdout",
     "output_type": "stream",
     "text": [
      "******************** answer ********************\n",
      "for _ in range(2):\n",
      "    moveForward()\n",
      "    turnLeft()\n",
      "    moveForward()\n",
      "    turnRight()\n",
      "turnLeft()\n",
      "for _ in range(2):\n",
      "    moveForward()\n",
      "    turnLeft()\n",
      "    moveForward()\n",
      "****************************************\n",
      "tokens: CompletionUsage(completion_tokens=46, prompt_tokens=967, total_tokens=1013, completion_tokens_details=CompletionTokensDetails(accepted_prediction_tokens=0, audio_tokens=0, reasoning_tokens=0, rejected_prediction_tokens=0), prompt_tokens_details=PromptTokensDetails(audio_tokens=0, cached_tokens=0))\n",
      "CPU times: total: 31.2 ms\n",
      "Wall time: 1.45 s\n"
     ]
    }
   ],
   "source": [
    "%%time\n",
    "\n",
    "user_content = ''' \n",
    "#3. [[앞으로 한 칸 이동한다.] [왼쪽으로 90도 회전한다.] [앞으로 한 칸 이동한다.] [오른쪽으로 90도 회전한다.] 이 과정을 2번 반복한다.] [왼쪽으로 90도 회전한다.] [[앞으로 한 칸 이동한다.] [왼쪽으로 90도 회전한다.] [앞으로 한 칸 이동한다.] 이 과정을 2번 반복한다.] (코드 또는 ‘제가 모르는 부분입니다.’ 또는 ‘명령어를 모릅니다.’만 출력)\n",
    "'''\n",
    "\n",
    "messages.append({\"role\": \"user\", \"content\": user_content})\n",
    "\n",
    "response = client.chat.completions.create(\n",
    "    model=model,\n",
    "    messages=messages)\n",
    "messages.append(response.choices[0].message)\n",
    "\n",
    "print('*'*20, 'answer', '*'*20)\n",
    "print(response.choices[0].message.content)\n",
    "print('*'*40)\n",
    "print('tokens:', response.usage)"
   ]
  },
  {
   "cell_type": "code",
   "execution_count": 9,
   "id": "23204ab0",
   "metadata": {},
   "outputs": [
    {
     "name": "stdout",
     "output_type": "stream",
     "text": [
      "******************** answer ********************\n",
      "for _ in range(3):\n",
      "    moveForward()\n",
      "    moveForward()\n",
      "    turnLeft()\n",
      "    moveForward()\n",
      "    turnRight()\n",
      "moveForward()\n",
      "turnLeft()\n",
      "for _ in range(3):\n",
      "    moveForward()\n",
      "    moveForward()\n",
      "    moveForward()\n",
      "    turnRight()\n",
      "for _ in range(10):\n",
      "    moveForward()\n",
      "****************************************\n",
      "tokens: CompletionUsage(completion_tokens=68, prompt_tokens=1195, total_tokens=1263, completion_tokens_details=CompletionTokensDetails(accepted_prediction_tokens=0, audio_tokens=0, reasoning_tokens=0, rejected_prediction_tokens=0), prompt_tokens_details=PromptTokensDetails(audio_tokens=0, cached_tokens=0))\n",
      "CPU times: total: 46.9 ms\n",
      "Wall time: 2.1 s\n"
     ]
    }
   ],
   "source": [
    "%%time\n",
    "\n",
    "user_content = ''' \n",
    "#4. [[앞으로 한 칸 이동한다.] [앞으로 한 칸 이동한다.] [왼쪽으로 90도 회전한다.] [앞으로 한 칸 이동한다.] [오른쪽으로 90도 회전한다.] 이 과정을 3번 반복한다.] [앞으로 한 칸 이동한다.] [왼쪽으로 90도 회전한다.] [[앞으로 한 칸 이동한다.] [앞으로 한 칸 이동한다.] [앞으로 한 칸 이동한다.] [오른쪽으로 90도 회전한다.] 이 과정을 3번 반복한다.] [[앞으로 한 칸 이동한다.] 이 과정을 10번 반복한다.] (코드 또는 ‘제가 모르는 부분입니다.’ 또는 ‘명령어를 모릅니다.’만 출력)\n",
    "'''\n",
    "\n",
    "messages.append({\"role\": \"user\", \"content\": user_content})\n",
    "\n",
    "response = client.chat.completions.create(\n",
    "    model=model,\n",
    "    messages=messages)\n",
    "messages.append(response.choices[0].message)\n",
    "\n",
    "print('*'*20, 'answer', '*'*20)\n",
    "print(response.choices[0].message.content)\n",
    "print('*'*40)\n",
    "print('tokens:', response.usage)"
   ]
  },
  {
   "cell_type": "code",
   "execution_count": 10,
   "id": "dac05ff8",
   "metadata": {},
   "outputs": [
    {
     "name": "stdout",
     "output_type": "stream",
     "text": [
      "******************** answer ********************\n",
      "제가 모르는 부분입니다.\n",
      "****************************************\n",
      "tokens: CompletionUsage(completion_tokens=7, prompt_tokens=1377, total_tokens=1384, completion_tokens_details=CompletionTokensDetails(accepted_prediction_tokens=0, audio_tokens=0, reasoning_tokens=0, rejected_prediction_tokens=0), prompt_tokens_details=PromptTokensDetails(audio_tokens=0, cached_tokens=1152))\n",
      "CPU times: total: 46.9 ms\n",
      "Wall time: 722 ms\n"
     ]
    }
   ],
   "source": [
    "%%time\n",
    "\n",
    "user_content = ''' \n",
    "#5. [아바타가 앞으로 이동할 수 있는 경우 앞으로 한 칸 이동한다.] [아바타가 앞으로 이동할 수 없으며 왼쪽으로 이동할 수 있는 경우 왼쪽으로 90도 회전한다.] [아바타가 앞으로 이동할 수 없고 왼쪽으로 이동할 수 없는 경우 오른쪽으로 90도 회전한다.] (코드 또는 ‘제가 모르는 부분입니다.’ 또는 ‘명령어를 모릅니다.’만 출력)\n",
    "'''\n",
    "\n",
    "messages.append({\"role\": \"user\", \"content\": user_content})\n",
    "\n",
    "response = client.chat.completions.create(\n",
    "    model=model,\n",
    "    messages=messages)\n",
    "messages.append(response.choices[0].message)\n",
    "\n",
    "print('*'*20, 'answer', '*'*20)\n",
    "print(response.choices[0].message.content)\n",
    "print('*'*40)\n",
    "print('tokens:', response.usage)"
   ]
  }
 ],
 "metadata": {
  "kernelspec": {
   "display_name": "base",
   "language": "python",
   "name": "python3"
  },
  "language_info": {
   "codemirror_mode": {
    "name": "ipython",
    "version": 3
   },
   "file_extension": ".py",
   "mimetype": "text/x-python",
   "name": "python",
   "nbconvert_exporter": "python",
   "pygments_lexer": "ipython3",
   "version": "3.10.9"
  }
 },
 "nbformat": 4,
 "nbformat_minor": 5
}
