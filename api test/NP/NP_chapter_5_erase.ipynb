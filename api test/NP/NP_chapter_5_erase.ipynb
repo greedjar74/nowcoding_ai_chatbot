{
 "cells": [
  {
   "cell_type": "markdown",
   "id": "a784e8af",
   "metadata": {},
   "source": [
    "# chapter 5 (명령어 가르치기)"
   ]
  },
  {
   "cell_type": "markdown",
   "id": "e0faa705",
   "metadata": {},
   "source": [
    "## Setting\n",
    "- GPT 모델 설정 필요"
   ]
  },
  {
   "cell_type": "code",
   "execution_count": 1,
   "id": "c83cee6a",
   "metadata": {},
   "outputs": [],
   "source": [
    "import os\n",
    "key_file = open('key.txt', 'r')\n",
    "os.environ['OPENAI_API_KEY'] = key_file.readline()\n",
    "key_file.close()\n",
    "from openai import OpenAI\n",
    "client = OpenAI()\n",
    "model = \"gpt-4o-mini\""
   ]
  },
  {
   "cell_type": "markdown",
   "id": "464b9510",
   "metadata": {},
   "source": [
    "- 첫 질문"
   ]
  },
  {
   "cell_type": "code",
   "execution_count": 2,
   "id": "b8ce45f9",
   "metadata": {},
   "outputs": [],
   "source": [
    "# %%time\n",
    "\n",
    "# messages = []\n",
    "# system_content = '''\n",
    "\n",
    "# '''\n",
    "# user_content = '''\n",
    "\n",
    "# '''\n",
    "# messages.append({\"role\": \"system\", \"content\": system_content})\n",
    "# messages.append({\"role\": \"user\", \"content\": user_content})\n",
    "\n",
    "# response = client.chat.completions.create(\n",
    "#     model=model,\n",
    "#     messages=messages)\n",
    "# messages.append(response.choices[0].message)\n",
    "\n",
    "# print('*'*20, 'answer', '*'*20)\n",
    "# print(response.choices[0].message.content)\n",
    "# print('*'*40)\n",
    "# print('tokens:', response.usage)"
   ]
  },
  {
   "cell_type": "markdown",
   "id": "b2723392",
   "metadata": {},
   "source": [
    "- 이어서 질문"
   ]
  },
  {
   "cell_type": "code",
   "execution_count": 3,
   "id": "c0a14bd8",
   "metadata": {},
   "outputs": [],
   "source": [
    "# %%time\n",
    "\n",
    "# user_content = '''\n",
    "\n",
    "# '''\n",
    "# messages.append({\"role\": \"user\", \"content\": user_content})\n",
    "\n",
    "# response = client.chat.completions.create(\n",
    "#     model=model,\n",
    "#     messages=messages)\n",
    "# messages.append(response.choices[0].message)\n",
    "\n",
    "# print('*'*20, 'answer', '*'*20)\n",
    "# print(response.choices[0].message.content)\n",
    "# print('*'*40)\n",
    "# print('tokens:', response.usage)"
   ]
  },
  {
   "cell_type": "markdown",
   "id": "ada7b3b0",
   "metadata": {},
   "source": [
    "## 초기 설정"
   ]
  },
  {
   "cell_type": "code",
   "execution_count": 4,
   "id": "d773a07a",
   "metadata": {},
   "outputs": [
    {
     "name": "stdout",
     "output_type": "stream",
     "text": [
      "******************** answer ********************\n",
      "이해했습니다.\n",
      "****************************************\n",
      "tokens: CompletionUsage(completion_tokens=5, prompt_tokens=105, total_tokens=110, completion_tokens_details=CompletionTokensDetails(accepted_prediction_tokens=0, audio_tokens=0, reasoning_tokens=0, rejected_prediction_tokens=0), prompt_tokens_details=PromptTokensDetails(audio_tokens=0, cached_tokens=0))\n",
      "CPU times: total: 31.2 ms\n",
      "Wall time: 1.08 s\n"
     ]
    }
   ],
   "source": [
    "%%time\n",
    "\n",
    "messages = []\n",
    "\n",
    "system_content = '''\n",
    "n by n 크기의 행렬이 주어진다. 너는 (x, y)위치의 값을 1 감소시키기 위한 명령어를 모른다. \n",
    "명령어를 설명하기 전에는 행렬의 값을 감소시키는 파이썬 코드를 작성할 수 없으며 ‘명령어를 모릅니다.’ 문구를 출력한다.\n",
    "\n",
    "이해했으면 ‘이해했습니다.’ 문구 출력\n",
    "'''\n",
    "\n",
    "user_content = '''\n",
    "'''\n",
    "\n",
    "messages.append({\"role\": \"system\", \"content\": system_content})\n",
    "messages.append({\"role\": \"user\", \"content\": user_content})\n",
    "\n",
    "response = client.chat.completions.create(\n",
    "    model=model,\n",
    "    messages=messages)\n",
    "messages.append(response.choices[0].message)\n",
    "\n",
    "print('*'*20, 'answer', '*'*20)\n",
    "print(response.choices[0].message.content)\n",
    "print('*'*40)\n",
    "print('tokens:', response.usage)"
   ]
  },
  {
   "cell_type": "markdown",
   "id": "de34b3d3",
   "metadata": {},
   "source": [
    "## 명령어 설명 없이 문제풀이"
   ]
  },
  {
   "cell_type": "code",
   "execution_count": 5,
   "id": "57237647",
   "metadata": {},
   "outputs": [
    {
     "name": "stdout",
     "output_type": "stream",
     "text": [
      "******************** answer ********************\n",
      "이해했습니다.\n",
      "****************************************\n",
      "tokens: CompletionUsage(completion_tokens=5, prompt_tokens=160, total_tokens=165, completion_tokens_details=CompletionTokensDetails(accepted_prediction_tokens=0, audio_tokens=0, reasoning_tokens=0, rejected_prediction_tokens=0), prompt_tokens_details=PromptTokensDetails(audio_tokens=0, cached_tokens=0))\n",
      "CPU times: total: 31.2 ms\n",
      "Wall time: 603 ms\n"
     ]
    }
   ],
   "source": [
    "%%time\n",
    "\n",
    "user_content = ''' \n",
    "Test case\n",
    " 각 문제에 맞는 코드를 작성한다. 결과는 코드 또는 ‘명령어를 모릅니다.’만 출력한다. 이해했으면 '이해했습니다.' 문구 출력\n",
    "'''\n",
    "\n",
    "messages.append({\"role\": \"user\", \"content\": user_content})\n",
    "\n",
    "response = client.chat.completions.create(\n",
    "    model=model,\n",
    "    messages=messages)\n",
    "messages.append(response.choices[0].message)\n",
    "\n",
    "print('*'*20, 'answer', '*'*20)\n",
    "print(response.choices[0].message.content)\n",
    "print('*'*40)\n",
    "print('tokens:', response.usage)"
   ]
  },
  {
   "cell_type": "code",
   "execution_count": 6,
   "id": "325477e2",
   "metadata": {},
   "outputs": [
    {
     "name": "stdout",
     "output_type": "stream",
     "text": [
      "******************** answer ********************\n",
      "명령어를 모릅니다.\n",
      "****************************************\n",
      "tokens: CompletionUsage(completion_tokens=9, prompt_tokens=222, total_tokens=231, completion_tokens_details=CompletionTokensDetails(accepted_prediction_tokens=0, audio_tokens=0, reasoning_tokens=0, rejected_prediction_tokens=0), prompt_tokens_details=PromptTokensDetails(audio_tokens=0, cached_tokens=0))\n",
      "CPU times: total: 15.6 ms\n",
      "Wall time: 658 ms\n"
     ]
    }
   ],
   "source": [
    "%%time\n",
    "\n",
    "user_content = ''' \n",
    "#1. (2, 2), (2, 3), (2, 4) 위치의 값에서 1을 뺀다. (코드 또는 ‘명령어를 모릅니다.’만 출력)\n",
    "'''\n",
    "\n",
    "messages.append({\"role\": \"user\", \"content\": user_content})\n",
    "\n",
    "response = client.chat.completions.create(\n",
    "    model=model,\n",
    "    messages=messages)\n",
    "messages.append(response.choices[0].message)\n",
    "\n",
    "print('*'*20, 'answer', '*'*20)\n",
    "print(response.choices[0].message.content)\n",
    "print('*'*40)\n",
    "print('tokens:', response.usage)"
   ]
  },
  {
   "cell_type": "code",
   "execution_count": 7,
   "id": "2f977ee0",
   "metadata": {},
   "outputs": [
    {
     "name": "stdout",
     "output_type": "stream",
     "text": [
      "******************** answer ********************\n",
      "명령어를 모릅니다.\n",
      "****************************************\n",
      "tokens: CompletionUsage(completion_tokens=9, prompt_tokens=276, total_tokens=285, completion_tokens_details=CompletionTokensDetails(accepted_prediction_tokens=0, audio_tokens=0, reasoning_tokens=0, rejected_prediction_tokens=0), prompt_tokens_details=PromptTokensDetails(audio_tokens=0, cached_tokens=0))\n",
      "CPU times: total: 15.6 ms\n",
      "Wall time: 674 ms\n"
     ]
    }
   ],
   "source": [
    "%%time\n",
    "\n",
    "user_content = ''' \n",
    "#2. (0, 0) 위치의 값에서 3을 뺀다. (코드 또는 ‘명령어를 모릅니다.’만 출력)\n",
    "'''\n",
    "\n",
    "messages.append({\"role\": \"user\", \"content\": user_content})\n",
    "\n",
    "response = client.chat.completions.create(\n",
    "    model=model,\n",
    "    messages=messages)\n",
    "messages.append(response.choices[0].message)\n",
    "\n",
    "print('*'*20, 'answer', '*'*20)\n",
    "print(response.choices[0].message.content)\n",
    "print('*'*40)\n",
    "print('tokens:', response.usage)"
   ]
  },
  {
   "cell_type": "code",
   "execution_count": 8,
   "id": "da5157e5",
   "metadata": {},
   "outputs": [
    {
     "name": "stdout",
     "output_type": "stream",
     "text": [
      "******************** answer ********************\n",
      "명령어를 모릅니다.\n",
      "****************************************\n",
      "tokens: CompletionUsage(completion_tokens=9, prompt_tokens=330, total_tokens=339, completion_tokens_details=CompletionTokensDetails(accepted_prediction_tokens=0, audio_tokens=0, reasoning_tokens=0, rejected_prediction_tokens=0), prompt_tokens_details=PromptTokensDetails(audio_tokens=0, cached_tokens=0))\n",
      "CPU times: total: 15.6 ms\n",
      "Wall time: 660 ms\n"
     ]
    }
   ],
   "source": [
    "%%time\n",
    "\n",
    "user_content = ''' \n",
    "#3. (1, 2) 위치의 값에서 5를 뺀다. (코드 또는 ‘명령어를 모릅니다.’만 출력)\n",
    "'''\n",
    "\n",
    "messages.append({\"role\": \"user\", \"content\": user_content})\n",
    "\n",
    "response = client.chat.completions.create(\n",
    "    model=model,\n",
    "    messages=messages)\n",
    "messages.append(response.choices[0].message)\n",
    "\n",
    "print('*'*20, 'answer', '*'*20)\n",
    "print(response.choices[0].message.content)\n",
    "print('*'*40)\n",
    "print('tokens:', response.usage)"
   ]
  },
  {
   "cell_type": "code",
   "execution_count": 9,
   "id": "032e349d",
   "metadata": {},
   "outputs": [
    {
     "name": "stdout",
     "output_type": "stream",
     "text": [
      "******************** answer ********************\n",
      "명령어를 모릅니다.\n",
      "****************************************\n",
      "tokens: CompletionUsage(completion_tokens=9, prompt_tokens=391, total_tokens=400, completion_tokens_details=CompletionTokensDetails(accepted_prediction_tokens=0, audio_tokens=0, reasoning_tokens=0, rejected_prediction_tokens=0), prompt_tokens_details=PromptTokensDetails(audio_tokens=0, cached_tokens=0))\n",
      "CPU times: total: 31.2 ms\n",
      "Wall time: 828 ms\n"
     ]
    }
   ],
   "source": [
    "%%time\n",
    "\n",
    "user_content = ''' \n",
    "#4. (5, 5) 위치의 값에서 1을 빼는 동작을 3번 반복한다. (코드 또는 ‘명령어를 모릅니다.’만 출력)\n",
    "'''\n",
    "\n",
    "messages.append({\"role\": \"user\", \"content\": user_content})\n",
    "\n",
    "response = client.chat.completions.create(\n",
    "    model=model,\n",
    "    messages=messages)\n",
    "messages.append(response.choices[0].message)\n",
    "\n",
    "print('*'*20, 'answer', '*'*20)\n",
    "print(response.choices[0].message.content)\n",
    "print('*'*40)\n",
    "print('tokens:', response.usage)"
   ]
  },
  {
   "cell_type": "code",
   "execution_count": 10,
   "id": "39e6a5e9",
   "metadata": {},
   "outputs": [
    {
     "name": "stdout",
     "output_type": "stream",
     "text": [
      "******************** answer ********************\n",
      "명령어를 모릅니다.\n",
      "****************************************\n",
      "tokens: CompletionUsage(completion_tokens=9, prompt_tokens=455, total_tokens=464, completion_tokens_details=CompletionTokensDetails(accepted_prediction_tokens=0, audio_tokens=0, reasoning_tokens=0, rejected_prediction_tokens=0), prompt_tokens_details=PromptTokensDetails(audio_tokens=0, cached_tokens=0))\n",
      "CPU times: total: 31.2 ms\n",
      "Wall time: 796 ms\n"
     ]
    }
   ],
   "source": [
    "%%time\n",
    "\n",
    "user_content = ''' \n",
    "#5. (2, 2), (2, 3), (2, 4) 위치의 값에 1을 더한다. (코드 또는 ‘명령어를 모릅니다.’만 출력)\n",
    "'''\n",
    "\n",
    "messages.append({\"role\": \"user\", \"content\": user_content})\n",
    "\n",
    "response = client.chat.completions.create(\n",
    "    model=model,\n",
    "    messages=messages)\n",
    "messages.append(response.choices[0].message)\n",
    "\n",
    "print('*'*20, 'answer', '*'*20)\n",
    "print(response.choices[0].message.content)\n",
    "print('*'*40)\n",
    "print('tokens:', response.usage)"
   ]
  },
  {
   "cell_type": "code",
   "execution_count": 11,
   "id": "7204f933",
   "metadata": {},
   "outputs": [
    {
     "name": "stdout",
     "output_type": "stream",
     "text": [
      "******************** answer ********************\n",
      "명령어를 모릅니다.\n",
      "****************************************\n",
      "tokens: CompletionUsage(completion_tokens=9, prompt_tokens=507, total_tokens=516, completion_tokens_details=CompletionTokensDetails(accepted_prediction_tokens=0, audio_tokens=0, reasoning_tokens=0, rejected_prediction_tokens=0), prompt_tokens_details=PromptTokensDetails(audio_tokens=0, cached_tokens=0))\n",
      "CPU times: total: 31.2 ms\n",
      "Wall time: 898 ms\n"
     ]
    }
   ],
   "source": [
    "%%time\n",
    "\n",
    "user_content = ''' \n",
    "#6. (0, 0) 위치의 값에 3을 더한다. (코드 또는 ‘명령어를 모릅니다.’만 출력)\n",
    "'''\n",
    "\n",
    "messages.append({\"role\": \"user\", \"content\": user_content})\n",
    "\n",
    "response = client.chat.completions.create(\n",
    "    model=model,\n",
    "    messages=messages)\n",
    "messages.append(response.choices[0].message)\n",
    "\n",
    "print('*'*20, 'answer', '*'*20)\n",
    "print(response.choices[0].message.content)\n",
    "print('*'*40)\n",
    "print('tokens:', response.usage)"
   ]
  },
  {
   "cell_type": "code",
   "execution_count": 12,
   "id": "f6edf636",
   "metadata": {},
   "outputs": [
    {
     "name": "stdout",
     "output_type": "stream",
     "text": [
      "******************** answer ********************\n",
      "명령어를 모릅니다.\n",
      "****************************************\n",
      "tokens: CompletionUsage(completion_tokens=9, prompt_tokens=559, total_tokens=568, completion_tokens_details=CompletionTokensDetails(accepted_prediction_tokens=0, audio_tokens=0, reasoning_tokens=0, rejected_prediction_tokens=0), prompt_tokens_details=PromptTokensDetails(audio_tokens=0, cached_tokens=0))\n",
      "CPU times: total: 31.2 ms\n",
      "Wall time: 667 ms\n"
     ]
    }
   ],
   "source": [
    "%%time\n",
    "\n",
    "user_content = ''' \n",
    "#7. (1, 2) 위치의 값에 5를 더한다. (코드 또는 ‘명령어를 모릅니다.’만 출력)\n",
    "'''\n",
    "\n",
    "messages.append({\"role\": \"user\", \"content\": user_content})\n",
    "\n",
    "response = client.chat.completions.create(\n",
    "    model=model,\n",
    "    messages=messages)\n",
    "messages.append(response.choices[0].message)\n",
    "\n",
    "print('*'*20, 'answer', '*'*20)\n",
    "print(response.choices[0].message.content)\n",
    "print('*'*40)\n",
    "print('tokens:', response.usage)"
   ]
  },
  {
   "cell_type": "code",
   "execution_count": 13,
   "id": "53813796",
   "metadata": {},
   "outputs": [
    {
     "name": "stdout",
     "output_type": "stream",
     "text": [
      "******************** answer ********************\n",
      "명령어를 모릅니다.\n",
      "****************************************\n",
      "tokens: CompletionUsage(completion_tokens=9, prompt_tokens=619, total_tokens=628, completion_tokens_details=CompletionTokensDetails(accepted_prediction_tokens=0, audio_tokens=0, reasoning_tokens=0, rejected_prediction_tokens=0), prompt_tokens_details=PromptTokensDetails(audio_tokens=0, cached_tokens=0))\n",
      "CPU times: total: 62.5 ms\n",
      "Wall time: 665 ms\n"
     ]
    }
   ],
   "source": [
    "%%time\n",
    "\n",
    "user_content = ''' \n",
    "#8. (5, 5) 위치의 값에 1을 더하는 동작을 3번 반복한다. (코드 또는 ‘명령어를 모릅니다.’만 출력)\n",
    "'''\n",
    "\n",
    "messages.append({\"role\": \"user\", \"content\": user_content})\n",
    "\n",
    "response = client.chat.completions.create(\n",
    "    model=model,\n",
    "    messages=messages)\n",
    "messages.append(response.choices[0].message)\n",
    "\n",
    "print('*'*20, 'answer', '*'*20)\n",
    "print(response.choices[0].message.content)\n",
    "print('*'*40)\n",
    "print('tokens:', response.usage)"
   ]
  },
  {
   "cell_type": "markdown",
   "id": "f788e103",
   "metadata": {},
   "source": [
    "## 명령어 설명 - erase"
   ]
  },
  {
   "cell_type": "code",
   "execution_count": 14,
   "id": "42bd268a",
   "metadata": {},
   "outputs": [
    {
     "name": "stdout",
     "output_type": "stream",
     "text": [
      "******************** answer ********************\n",
      "이해했습니다.\n",
      "****************************************\n",
      "tokens: CompletionUsage(completion_tokens=5, prompt_tokens=686, total_tokens=691, completion_tokens_details=CompletionTokensDetails(accepted_prediction_tokens=0, audio_tokens=0, reasoning_tokens=0, rejected_prediction_tokens=0), prompt_tokens_details=PromptTokensDetails(audio_tokens=0, cached_tokens=0))\n",
      "CPU times: total: 31.2 ms\n",
      "Wall time: 715 ms\n"
     ]
    }
   ],
   "source": [
    "%%time\n",
    "\n",
    "user_content = ''' \n",
    "명령어 설명\n",
    "erase(x, y): n by n 크기의 행렬에서 x행, y열 위치의 값에서 1을 뺀다.\n",
    "\n",
    "이해했으면 ‘이해했습니다.’ 문구를 출력한다.\n",
    "'''\n",
    "\n",
    "messages.append({\"role\": \"user\", \"content\": user_content})\n",
    "\n",
    "response = client.chat.completions.create(\n",
    "    model=model,\n",
    "    messages=messages)\n",
    "messages.append(response.choices[0].message)\n",
    "\n",
    "print('*'*20, 'answer', '*'*20)\n",
    "print(response.choices[0].message.content)\n",
    "print('*'*40)\n",
    "print('tokens:', response.usage)"
   ]
  },
  {
   "cell_type": "code",
   "execution_count": 15,
   "id": "6a432890",
   "metadata": {},
   "outputs": [
    {
     "name": "stdout",
     "output_type": "stream",
     "text": [
      "******************** answer ********************\n",
      "이해했습니다.\n",
      "****************************************\n",
      "tokens: CompletionUsage(completion_tokens=5, prompt_tokens=729, total_tokens=734, completion_tokens_details=CompletionTokensDetails(accepted_prediction_tokens=0, audio_tokens=0, reasoning_tokens=0, rejected_prediction_tokens=0), prompt_tokens_details=PromptTokensDetails(audio_tokens=0, cached_tokens=0))\n",
      "CPU times: total: 46.9 ms\n",
      "Wall time: 716 ms\n"
     ]
    }
   ],
   "source": [
    "%%time\n",
    "\n",
    "user_content = ''' \n",
    "Test case\n",
    " 각 문제에 맞는 코드를 작성한다. 결과는 코드 또는 ‘명령어를 모릅니다.’만 출력한다.\n",
    "'''\n",
    "\n",
    "messages.append({\"role\": \"user\", \"content\": user_content})\n",
    "\n",
    "response = client.chat.completions.create(\n",
    "    model=model,\n",
    "    messages=messages)\n",
    "messages.append(response.choices[0].message)\n",
    "\n",
    "print('*'*20, 'answer', '*'*20)\n",
    "print(response.choices[0].message.content)\n",
    "print('*'*40)\n",
    "print('tokens:', response.usage)"
   ]
  },
  {
   "cell_type": "code",
   "execution_count": 16,
   "id": "62213713",
   "metadata": {},
   "outputs": [
    {
     "name": "stdout",
     "output_type": "stream",
     "text": [
      "******************** answer ********************\n",
      "```python\n",
      "erase(2, 2)\n",
      "erase(2, 3)\n",
      "erase(2, 4)\n",
      "```\n",
      "****************************************\n",
      "tokens: CompletionUsage(completion_tokens=26, prompt_tokens=791, total_tokens=817, completion_tokens_details=CompletionTokensDetails(accepted_prediction_tokens=0, audio_tokens=0, reasoning_tokens=0, rejected_prediction_tokens=0), prompt_tokens_details=PromptTokensDetails(audio_tokens=0, cached_tokens=0))\n",
      "CPU times: total: 46.9 ms\n",
      "Wall time: 898 ms\n"
     ]
    }
   ],
   "source": [
    "%%time\n",
    "\n",
    "user_content = '''\n",
    "#1. (2, 2), (2, 3), (2, 4) 위치의 값에서 1을 뺀다. (코드 또는 ‘명령어를 모릅니다.’만 출력)\n",
    "'''\n",
    "\n",
    "messages.append({\"role\": \"user\", \"content\": user_content})\n",
    "\n",
    "response = client.chat.completions.create(\n",
    "    model=model,\n",
    "    messages=messages)\n",
    "messages.append(response.choices[0].message)\n",
    "\n",
    "print('*'*20, 'answer', '*'*20)\n",
    "print(response.choices[0].message.content)\n",
    "print('*'*40)\n",
    "print('tokens:', response.usage)"
   ]
  },
  {
   "cell_type": "code",
   "execution_count": 17,
   "id": "1a0102f4",
   "metadata": {},
   "outputs": [
    {
     "name": "stdout",
     "output_type": "stream",
     "text": [
      "******************** answer ********************\n",
      "```python\n",
      "erase(0, 0)\n",
      "erase(0, 0)\n",
      "erase(0, 0)\n",
      "```\n",
      "****************************************\n",
      "tokens: CompletionUsage(completion_tokens=26, prompt_tokens=862, total_tokens=888, completion_tokens_details=CompletionTokensDetails(accepted_prediction_tokens=0, audio_tokens=0, reasoning_tokens=0, rejected_prediction_tokens=0), prompt_tokens_details=PromptTokensDetails(audio_tokens=0, cached_tokens=0))\n",
      "CPU times: total: 62.5 ms\n",
      "Wall time: 861 ms\n"
     ]
    }
   ],
   "source": [
    "%%time\n",
    "\n",
    "user_content = '''\n",
    "#2. (0, 0) 위치의 값에서 3을 뺀다. (코드 또는 ‘명령어를 모릅니다.’만 출력)\n",
    "'''\n",
    "\n",
    "messages.append({\"role\": \"user\", \"content\": user_content})\n",
    "\n",
    "response = client.chat.completions.create(\n",
    "    model=model,\n",
    "    messages=messages)\n",
    "messages.append(response.choices[0].message)\n",
    "\n",
    "print('*'*20, 'answer', '*'*20)\n",
    "print(response.choices[0].message.content)\n",
    "print('*'*40)\n",
    "print('tokens:', response.usage)"
   ]
  },
  {
   "cell_type": "code",
   "execution_count": 18,
   "id": "15e8b260",
   "metadata": {},
   "outputs": [
    {
     "name": "stdout",
     "output_type": "stream",
     "text": [
      "******************** answer ********************\n",
      "```python\n",
      "erase(1, 2)\n",
      "erase(1, 2)\n",
      "erase(1, 2)\n",
      "erase(1, 2)\n",
      "erase(1, 2)\n",
      "```\n",
      "****************************************\n",
      "tokens: CompletionUsage(completion_tokens=40, prompt_tokens=933, total_tokens=973, completion_tokens_details=CompletionTokensDetails(accepted_prediction_tokens=0, audio_tokens=0, reasoning_tokens=0, rejected_prediction_tokens=0), prompt_tokens_details=PromptTokensDetails(audio_tokens=0, cached_tokens=0))\n",
      "CPU times: total: 46.9 ms\n",
      "Wall time: 1.09 s\n"
     ]
    }
   ],
   "source": [
    "%%time\n",
    "\n",
    "user_content = '''\n",
    "#3. (1, 2) 위치의 값에서 5를 뺀다. (코드 또는 ‘명령어를 모릅니다.’만 출력)\n",
    "'''\n",
    "\n",
    "messages.append({\"role\": \"user\", \"content\": user_content})\n",
    "\n",
    "response = client.chat.completions.create(\n",
    "    model=model,\n",
    "    messages=messages)\n",
    "messages.append(response.choices[0].message)\n",
    "\n",
    "print('*'*20, 'answer', '*'*20)\n",
    "print(response.choices[0].message.content)\n",
    "print('*'*40)\n",
    "print('tokens:', response.usage)"
   ]
  },
  {
   "cell_type": "code",
   "execution_count": 19,
   "id": "bbe2b949",
   "metadata": {},
   "outputs": [
    {
     "name": "stdout",
     "output_type": "stream",
     "text": [
      "******************** answer ********************\n",
      "```python\n",
      "erase(5, 5)\n",
      "erase(5, 5)\n",
      "erase(5, 5)\n",
      "```\n",
      "****************************************\n",
      "tokens: CompletionUsage(completion_tokens=26, prompt_tokens=1025, total_tokens=1051, completion_tokens_details=CompletionTokensDetails(accepted_prediction_tokens=0, audio_tokens=0, reasoning_tokens=0, rejected_prediction_tokens=0), prompt_tokens_details=PromptTokensDetails(audio_tokens=0, cached_tokens=0))\n",
      "CPU times: total: 78.1 ms\n",
      "Wall time: 915 ms\n"
     ]
    }
   ],
   "source": [
    "%%time\n",
    "\n",
    "user_content = '''\n",
    "#4. (5, 5) 위치의 값에서 1을 빼는 동작을 3번 반복한다. (코드 또는 ‘명령어를 모릅니다.’만 출력)\n",
    "'''\n",
    "\n",
    "messages.append({\"role\": \"user\", \"content\": user_content})\n",
    "\n",
    "response = client.chat.completions.create(\n",
    "    model=model,\n",
    "    messages=messages)\n",
    "messages.append(response.choices[0].message)\n",
    "\n",
    "print('*'*20, 'answer', '*'*20)\n",
    "print(response.choices[0].message.content)\n",
    "print('*'*40)\n",
    "print('tokens:', response.usage)"
   ]
  },
  {
   "cell_type": "code",
   "execution_count": 20,
   "id": "0e35a68d",
   "metadata": {},
   "outputs": [
    {
     "name": "stdout",
     "output_type": "stream",
     "text": [
      "******************** answer ********************\n",
      "명령어를 모릅니다.\n",
      "****************************************\n",
      "tokens: CompletionUsage(completion_tokens=9, prompt_tokens=1106, total_tokens=1115, completion_tokens_details=CompletionTokensDetails(accepted_prediction_tokens=0, audio_tokens=0, reasoning_tokens=0, rejected_prediction_tokens=0), prompt_tokens_details=PromptTokensDetails(audio_tokens=0, cached_tokens=1024))\n",
      "CPU times: total: 62.5 ms\n",
      "Wall time: 802 ms\n"
     ]
    }
   ],
   "source": [
    "%%time\n",
    "\n",
    "user_content = '''\n",
    "#5. (2, 2), (2, 3), (2, 4) 위치의 값에 1을 더한다. (코드 또는 ‘명령어를 모릅니다.’만 출력)\n",
    "'''\n",
    "\n",
    "messages.append({\"role\": \"user\", \"content\": user_content})\n",
    "\n",
    "response = client.chat.completions.create(\n",
    "    model=model,\n",
    "    messages=messages)\n",
    "messages.append(response.choices[0].message)\n",
    "\n",
    "print('*'*20, 'answer', '*'*20)\n",
    "print(response.choices[0].message.content)\n",
    "print('*'*40)\n",
    "print('tokens:', response.usage)"
   ]
  },
  {
   "cell_type": "code",
   "execution_count": 21,
   "id": "6d6c1b80",
   "metadata": {},
   "outputs": [
    {
     "name": "stdout",
     "output_type": "stream",
     "text": [
      "******************** answer ********************\n",
      "명령어를 모릅니다.\n",
      "****************************************\n",
      "tokens: CompletionUsage(completion_tokens=9, prompt_tokens=1158, total_tokens=1167, completion_tokens_details=CompletionTokensDetails(accepted_prediction_tokens=0, audio_tokens=0, reasoning_tokens=0, rejected_prediction_tokens=0), prompt_tokens_details=PromptTokensDetails(audio_tokens=0, cached_tokens=1024))\n",
      "CPU times: total: 78.1 ms\n",
      "Wall time: 826 ms\n"
     ]
    }
   ],
   "source": [
    "%%time\n",
    "\n",
    "user_content = '''\n",
    "#6. (0, 0) 위치의 값에 3을 더한다. (코드 또는 ‘명령어를 모릅니다.’만 출력)\n",
    "'''\n",
    "\n",
    "messages.append({\"role\": \"user\", \"content\": user_content})\n",
    "\n",
    "response = client.chat.completions.create(\n",
    "    model=model,\n",
    "    messages=messages)\n",
    "messages.append(response.choices[0].message)\n",
    "\n",
    "print('*'*20, 'answer', '*'*20)\n",
    "print(response.choices[0].message.content)\n",
    "print('*'*40)\n",
    "print('tokens:', response.usage)"
   ]
  },
  {
   "cell_type": "code",
   "execution_count": 22,
   "id": "c5e65a50",
   "metadata": {},
   "outputs": [
    {
     "name": "stdout",
     "output_type": "stream",
     "text": [
      "******************** answer ********************\n",
      "명령어를 모릅니다.\n",
      "****************************************\n",
      "tokens: CompletionUsage(completion_tokens=9, prompt_tokens=1210, total_tokens=1219, completion_tokens_details=CompletionTokensDetails(accepted_prediction_tokens=0, audio_tokens=0, reasoning_tokens=0, rejected_prediction_tokens=0), prompt_tokens_details=PromptTokensDetails(audio_tokens=0, cached_tokens=1152))\n",
      "CPU times: total: 62.5 ms\n",
      "Wall time: 722 ms\n"
     ]
    }
   ],
   "source": [
    "%%time\n",
    "\n",
    "user_content = '''\n",
    "#7. (1, 2) 위치의 값에 5를 더한다. (코드 또는 ‘명령어를 모릅니다.’만 출력)\n",
    "'''\n",
    "\n",
    "messages.append({\"role\": \"user\", \"content\": user_content})\n",
    "\n",
    "response = client.chat.completions.create(\n",
    "    model=model,\n",
    "    messages=messages)\n",
    "messages.append(response.choices[0].message)\n",
    "\n",
    "print('*'*20, 'answer', '*'*20)\n",
    "print(response.choices[0].message.content)\n",
    "print('*'*40)\n",
    "print('tokens:', response.usage)"
   ]
  },
  {
   "cell_type": "code",
   "execution_count": 23,
   "id": "a8758a15",
   "metadata": {},
   "outputs": [
    {
     "name": "stdout",
     "output_type": "stream",
     "text": [
      "******************** answer ********************\n",
      "명령어를 모릅니다.\n",
      "****************************************\n",
      "tokens: CompletionUsage(completion_tokens=9, prompt_tokens=1270, total_tokens=1279, completion_tokens_details=CompletionTokensDetails(accepted_prediction_tokens=0, audio_tokens=0, reasoning_tokens=0, rejected_prediction_tokens=0), prompt_tokens_details=PromptTokensDetails(audio_tokens=0, cached_tokens=1152))\n",
      "CPU times: total: 46.9 ms\n",
      "Wall time: 816 ms\n"
     ]
    }
   ],
   "source": [
    "%%time\n",
    "\n",
    "user_content = '''\n",
    "#8. (5, 5) 위치의 값에 1을 더하는 동작을 3번 반복한다. (코드 또는 ‘명령어를 모릅니다.’만 출력)\n",
    "'''\n",
    "\n",
    "messages.append({\"role\": \"user\", \"content\": user_content})\n",
    "\n",
    "response = client.chat.completions.create(\n",
    "    model=model,\n",
    "    messages=messages)\n",
    "messages.append(response.choices[0].message)\n",
    "\n",
    "print('*'*20, 'answer', '*'*20)\n",
    "print(response.choices[0].message.content)\n",
    "print('*'*40)\n",
    "print('tokens:', response.usage)"
   ]
  }
 ],
 "metadata": {
  "kernelspec": {
   "display_name": "base",
   "language": "python",
   "name": "python3"
  },
  "language_info": {
   "codemirror_mode": {
    "name": "ipython",
    "version": 3
   },
   "file_extension": ".py",
   "mimetype": "text/x-python",
   "name": "python",
   "nbconvert_exporter": "python",
   "pygments_lexer": "ipython3",
   "version": "3.10.9"
  }
 },
 "nbformat": 4,
 "nbformat_minor": 5
}
