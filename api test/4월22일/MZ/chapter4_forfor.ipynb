{
 "cells": [
  {
   "cell_type": "markdown",
   "id": "af57f1de",
   "metadata": {},
   "source": [
    "# chapter 3. 중첩 반복문"
   ]
  },
  {
   "cell_type": "markdown",
   "id": "e0faa705",
   "metadata": {},
   "source": [
    "## Setting\n",
    "- GPT 모델 설정 필요"
   ]
  },
  {
   "cell_type": "code",
   "execution_count": 1,
   "id": "c83cee6a",
   "metadata": {},
   "outputs": [],
   "source": [
    "import os\n",
    "key_file = open('key.txt', 'r')\n",
    "os.environ['OPENAI_API_KEY'] = key_file.readline()\n",
    "key_file.close()\n",
    "from openai import OpenAI\n",
    "client = OpenAI()\n",
    "model = \"gpt-4o-mini\""
   ]
  },
  {
   "cell_type": "code",
   "execution_count": 2,
   "id": "d773a07a",
   "metadata": {},
   "outputs": [
    {
     "name": "stdout",
     "output_type": "stream",
     "text": [
      "******************** answer ********************\n",
      "이해했습니다.\n",
      "****************************************\n",
      "tokens: CompletionUsage(completion_tokens=5, prompt_tokens=205, total_tokens=210, completion_tokens_details=CompletionTokensDetails(accepted_prediction_tokens=0, audio_tokens=0, reasoning_tokens=0, rejected_prediction_tokens=0), prompt_tokens_details=PromptTokensDetails(audio_tokens=0, cached_tokens=0))\n",
      "CPU times: total: 15.6 ms\n",
      "Wall time: 934 ms\n"
     ]
    }
   ],
   "source": [
    "%%time\n",
    "\n",
    "messages = []\n",
    "\n",
    "system_content = '''\n",
    "파이썬의 'while문'을 사용할 수 없다.\n",
    "\n",
    "너는 '중첩 반복문'에 대한 설명이 주어지기 전에는 문제를 풀 수 없고 '제가 모르는 부분입니다.'를 출력한다.\n",
    "'중첩 반복문'에 대한 설명이 주어지면 설명이 정확한지 분석하고 정확한 경우에만 문제를 풀 수 있다.\n",
    "단, 설명에 '[예시]'가 없는 경우 문제를 풀 수 없다.\n",
    "(for문 사용시 '_'는 사용할 수 없다. 항상 변수를 사용한다.)\n",
    "\n",
    "<명령어 설명>\n",
    "moveForward(): 아바타를 한 칸 앞으로 이동시킨다.\n",
    "turnLeft(): 아바타를 왼쪽으로 90도 회전시킨다.\n",
    "turnRight(): 아바타를 오른쪽으로 90도 회전시킨다.\n",
    "\n",
    "이해했으면 '이해했습니다.' 문구를 출력한다.\n",
    "'''\n",
    "\n",
    "user_content = '''\n",
    "'''\n",
    "\n",
    "messages.append({\"role\": \"system\", \"content\": system_content})\n",
    "messages.append({\"role\": \"user\", \"content\": user_content})\n",
    "\n",
    "response = client.chat.completions.create(\n",
    "    model=model,\n",
    "    messages=messages)\n",
    "messages.append(response.choices[0].message)\n",
    "\n",
    "print('*'*20, 'answer', '*'*20)\n",
    "print(response.choices[0].message.content)\n",
    "print('*'*40)\n",
    "print('tokens:', response.usage)"
   ]
  },
  {
   "cell_type": "markdown",
   "id": "97115da5",
   "metadata": {},
   "source": [
    "## 문법 설명 없이 test case 수행"
   ]
  },
  {
   "cell_type": "code",
   "execution_count": 3,
   "id": "57237647",
   "metadata": {},
   "outputs": [
    {
     "name": "stdout",
     "output_type": "stream",
     "text": [
      "******************** answer ********************\n",
      "제가 모르는 부분입니다.\n",
      "****************************************\n",
      "tokens: CompletionUsage(completion_tokens=7, prompt_tokens=265, total_tokens=272, completion_tokens_details=CompletionTokensDetails(accepted_prediction_tokens=0, audio_tokens=0, reasoning_tokens=0, rejected_prediction_tokens=0), prompt_tokens_details=PromptTokensDetails(audio_tokens=0, cached_tokens=0))\n",
      "CPU times: total: 15.6 ms\n",
      "Wall time: 799 ms\n"
     ]
    }
   ],
   "source": [
    "%%time\n",
    "\n",
    "user_content = '''\n",
    "Test case\n",
    "각 문제에 맞는 파이선 코드를 작성한다. 결과는 코드 또는 '제가 모르는 부분입니다.'만 출력한다.\n",
    "(for문 사용시 '_'는 사용할 수 없다. 항상 변수를 사용한다.)\n",
    "'''\n",
    "\n",
    "messages.append({\"role\": \"user\", \"content\": user_content})\n",
    "\n",
    "response = client.chat.completions.create(\n",
    "    model=model,\n",
    "    messages=messages)\n",
    "messages.append(response.choices[0].message)\n",
    "\n",
    "print('*'*20, 'answer', '*'*20)\n",
    "print(response.choices[0].message.content)\n",
    "print('*'*40)\n",
    "print('tokens:', response.usage)"
   ]
  },
  {
   "cell_type": "code",
   "execution_count": 4,
   "id": "43bddb7a",
   "metadata": {},
   "outputs": [
    {
     "name": "stdout",
     "output_type": "stream",
     "text": [
      "******************** answer ********************\n",
      "제가 모르는 부분입니다.\n",
      "****************************************\n",
      "tokens: CompletionUsage(completion_tokens=7, prompt_tokens=410, total_tokens=417, completion_tokens_details=CompletionTokensDetails(accepted_prediction_tokens=0, audio_tokens=0, reasoning_tokens=0, rejected_prediction_tokens=0), prompt_tokens_details=PromptTokensDetails(audio_tokens=0, cached_tokens=0))\n",
      "CPU times: total: 31.2 ms\n",
      "Wall time: 800 ms\n"
     ]
    }
   ],
   "source": [
    "%%time\n",
    "\n",
    "user_content = '''\n",
    "#1.MZ04PY001V \n",
    "[[[[아바타를 앞으로 한 칸 이동시킨다.] 이 행위를 4번 반복한다.] [아바타를 왼쪽으로 90도 회전시킨다.]] 이 행위를 2번 반복한다.]\n",
    "[[[[아바타를 앞으로 한 칸 이동시킨다.] 이 행위를 2번 반복한다.], [아바타를 왼쪽으로 90도 회전시킨다.]] 이 행위를 2번 반복한다.]\n",
    "(결과는 코드 또는 '제가 모르는 부분입니다.'만 출력)\n",
    "'''\n",
    "\n",
    "messages.append({\"role\": \"user\", \"content\": user_content})\n",
    "\n",
    "response = client.chat.completions.create(\n",
    "    model=model,\n",
    "    messages=messages)\n",
    "messages.append(response.choices[0].message)\n",
    "\n",
    "print('*'*20, 'answer', '*'*20)\n",
    "print(response.choices[0].message.content)\n",
    "print('*'*40)\n",
    "print('tokens:', response.usage)"
   ]
  },
  {
   "cell_type": "code",
   "execution_count": 5,
   "id": "816a41cd",
   "metadata": {},
   "outputs": [
    {
     "name": "stdout",
     "output_type": "stream",
     "text": [
      "******************** answer ********************\n",
      "제가 모르는 부분입니다.\n",
      "****************************************\n",
      "tokens: CompletionUsage(completion_tokens=7, prompt_tokens=501, total_tokens=508, completion_tokens_details=CompletionTokensDetails(accepted_prediction_tokens=0, audio_tokens=0, reasoning_tokens=0, rejected_prediction_tokens=0), prompt_tokens_details=PromptTokensDetails(audio_tokens=0, cached_tokens=0))\n",
      "CPU times: total: 15.6 ms\n",
      "Wall time: 865 ms\n"
     ]
    }
   ],
   "source": [
    "%%time\n",
    "\n",
    "user_content = '''\n",
    "#2. MZ04PY003  \n",
    "[[[아바타를 앞으로 한 칸 이동시킨다.] 이 행위를 5번 반복한다.] [아바타를 왼쪽으로 90도 회전시킨다.] 이 행위를 3번 반복한다.]\n",
    "(결과는 코드 또는 '제가 모르는 부분입니다.'만 출력)\n",
    "'''\n",
    "\n",
    "messages.append({\"role\": \"user\", \"content\": user_content})\n",
    "\n",
    "response = client.chat.completions.create(\n",
    "    model=model,\n",
    "    messages=messages)\n",
    "messages.append(response.choices[0].message)\n",
    "\n",
    "print('*'*20, 'answer', '*'*20)\n",
    "print(response.choices[0].message.content)\n",
    "print('*'*40)\n",
    "print('tokens:', response.usage)"
   ]
  },
  {
   "cell_type": "code",
   "execution_count": 6,
   "id": "7ad1bdf5",
   "metadata": {},
   "outputs": [
    {
     "name": "stdout",
     "output_type": "stream",
     "text": [
      "******************** answer ********************\n",
      "제가 모르는 부분입니다.\n",
      "****************************************\n",
      "tokens: CompletionUsage(completion_tokens=7, prompt_tokens=655, total_tokens=662, completion_tokens_details=CompletionTokensDetails(accepted_prediction_tokens=0, audio_tokens=0, reasoning_tokens=0, rejected_prediction_tokens=0), prompt_tokens_details=PromptTokensDetails(audio_tokens=0, cached_tokens=0))\n",
      "CPU times: total: 31.2 ms\n",
      "Wall time: 1.38 s\n"
     ]
    }
   ],
   "source": [
    "%%time\n",
    "\n",
    "user_content = '''\n",
    "#3. MZ04PY005\n",
    "[[[아바타를 앞으로 한 칸 이동시킨다.] 이 행위를 3번 반복한다.] [[아바타를 오른쪽으로 90도 회전시킨다.] [아바타를 앞으로 한 칸 이동시킨다.] 이 행위를 2번 반복한다.] [[아바타를 앞으로 한 칸 이동시킨다.] [아바타를 왼쪽으로 90도 회전시킨다.] 이 행위를 2번 반복한다.] 이 행위를 3번 반복한다.]\n",
    "(결과는 코드 또는 '제가 모르는 부분입니다.'만 출력)\n",
    "'''\n",
    "\n",
    "messages.append({\"role\": \"user\", \"content\": user_content})\n",
    "\n",
    "response = client.chat.completions.create(\n",
    "    model=model,\n",
    "    messages=messages)\n",
    "messages.append(response.choices[0].message)\n",
    "\n",
    "print('*'*20, 'answer', '*'*20)\n",
    "print(response.choices[0].message.content)\n",
    "print('*'*40)\n",
    "print('tokens:', response.usage)"
   ]
  },
  {
   "cell_type": "markdown",
   "id": "a04d91fc",
   "metadata": {},
   "source": [
    "## 중첩 반복문 설명"
   ]
  },
  {
   "cell_type": "code",
   "execution_count": 7,
   "id": "55444765",
   "metadata": {},
   "outputs": [
    {
     "name": "stdout",
     "output_type": "stream",
     "text": [
      "******************** answer ********************\n",
      "중첩 반복문을 이해했습니다.\n",
      "****************************************\n",
      "tokens: CompletionUsage(completion_tokens=10, prompt_tokens=811, total_tokens=821, completion_tokens_details=CompletionTokensDetails(accepted_prediction_tokens=0, audio_tokens=0, reasoning_tokens=0, rejected_prediction_tokens=0), prompt_tokens_details=PromptTokensDetails(audio_tokens=0, cached_tokens=0))\n",
      "CPU times: total: 31.2 ms\n",
      "Wall time: 1.04 s\n"
     ]
    }
   ],
   "source": [
    "%%time\n",
    "\n",
    "user_content = '''\n",
    "문법 학습\n",
    "\n",
    "중첩 반복문: for문 내부에 또다른 for문이 포함되는 것을 의미한다. \n",
    "\n",
    "[예시]\n",
    "for 변수1 in range(범위):\n",
    "    for 변수2 in range(범위):\n",
    "        동작 코드\n",
    "\n",
    "이렇게 작성할 수 있다.\n",
    "\n",
    "'중첩 반복문' 설명이 정확하지 않은 경우 '중첩 반복문을 이해하지 못했습니다.', 정확하게 설명한 경우 '중첩 반복문을 이해했습니다.'를 출력한다.\n",
    "(예시가 없는 경우 이해할 수 없다.)\n",
    "(‘중첩 반복문을 이해하지 못했습니다.’를 출력한 경우 문제를 풀 수 없다.)\n",
    "'''\n",
    "\n",
    "messages.append({\"role\": \"user\", \"content\": user_content})\n",
    "\n",
    "response = client.chat.completions.create(\n",
    "    model=model,\n",
    "    messages=messages)\n",
    "messages.append(response.choices[0].message)\n",
    "\n",
    "print('*'*20, 'answer', '*'*20)\n",
    "print(response.choices[0].message.content)\n",
    "print('*'*40)\n",
    "print('tokens:', response.usage)"
   ]
  },
  {
   "cell_type": "code",
   "execution_count": 8,
   "id": "2da382bb",
   "metadata": {},
   "outputs": [
    {
     "name": "stdout",
     "output_type": "stream",
     "text": [
      "******************** answer ********************\n",
      "#1.MZ04PY001V\n",
      "```python\n",
      "for i in range(2):\n",
      "    for j in range(4):\n",
      "        moveForward()\n",
      "    turnLeft()\n",
      "```\n",
      "\n",
      "#2. MZ04PY003  \n",
      "```python\n",
      "for i in range(3):\n",
      "    for j in range(5):\n",
      "        moveForward()\n",
      "    turnLeft()\n",
      "```\n",
      "\n",
      "#3. MZ04PY005\n",
      "```python\n",
      "for i in range(3):\n",
      "    for j in range(3):\n",
      "        moveForward()\n",
      "    turnRight()\n",
      "    for k in range(2):\n",
      "        moveForward()\n",
      "    for l in range(2):\n",
      "        moveForward()\n",
      "    turnLeft()\n",
      "```\n",
      "****************************************\n",
      "tokens: CompletionUsage(completion_tokens=139, prompt_tokens=861, total_tokens=1000, completion_tokens_details=CompletionTokensDetails(accepted_prediction_tokens=0, audio_tokens=0, reasoning_tokens=0, rejected_prediction_tokens=0), prompt_tokens_details=PromptTokensDetails(audio_tokens=0, cached_tokens=0))\n",
      "CPU times: total: 31.2 ms\n",
      "Wall time: 2.74 s\n"
     ]
    }
   ],
   "source": [
    "%%time\n",
    "\n",
    "user_content = '''\n",
    "Test case\n",
    "각 문제에 맞는 파이썬 코드를 작성한다. 결과는 코드 또는 '제가 모르는 부분입니다.'만 출력한다.\n",
    "'''\n",
    "\n",
    "messages.append({\"role\": \"user\", \"content\": user_content})\n",
    "\n",
    "response = client.chat.completions.create(\n",
    "    model=model,\n",
    "    messages=messages)\n",
    "messages.append(response.choices[0].message)\n",
    "\n",
    "print('*'*20, 'answer', '*'*20)\n",
    "print(response.choices[0].message.content)\n",
    "print('*'*40)\n",
    "print('tokens:', response.usage)"
   ]
  },
  {
   "cell_type": "code",
   "execution_count": 9,
   "id": "132e9f70",
   "metadata": {},
   "outputs": [
    {
     "name": "stdout",
     "output_type": "stream",
     "text": [
      "******************** answer ********************\n",
      "```python\n",
      "for i in range(2):\n",
      "    for j in range(4):\n",
      "        moveForward()\n",
      "    turnLeft()\n",
      "    \n",
      "for i in range(2):\n",
      "    for j in range(2):\n",
      "        moveForward()\n",
      "    turnLeft()\n",
      "```\n",
      "****************************************\n",
      "tokens: CompletionUsage(completion_tokens=52, prompt_tokens=1137, total_tokens=1189, completion_tokens_details=CompletionTokensDetails(accepted_prediction_tokens=0, audio_tokens=0, reasoning_tokens=0, rejected_prediction_tokens=0), prompt_tokens_details=PromptTokensDetails(audio_tokens=0, cached_tokens=0))\n",
      "CPU times: total: 46.9 ms\n",
      "Wall time: 1.49 s\n"
     ]
    }
   ],
   "source": [
    "%%time\n",
    "\n",
    "user_content = '''\n",
    "#1.MZ04PY001V \n",
    "[[[[아바타를 앞으로 한 칸 이동시킨다.] 이 행위를 4번 반복한다.] [아바타를 왼쪽으로 90도 회전시킨다.]] 이 행위를 2번 반복한다.]\n",
    "[[[[아바타를 앞으로 한 칸 이동시킨다.] 이 행위를 2번 반복한다.] [아바타를 왼쪽으로 90도 회전시킨다.]] 이 행위를 2번 반복한다.]\n",
    "(결과는 코드 또는 '제가 모르는 부분입니다.'만 출력)\n",
    "'''\n",
    "\n",
    "messages.append({\"role\": \"user\", \"content\": user_content})\n",
    "\n",
    "response = client.chat.completions.create(\n",
    "    model=model,\n",
    "    messages=messages)\n",
    "messages.append(response.choices[0].message)\n",
    "\n",
    "print('*'*20, 'answer', '*'*20)\n",
    "print(response.choices[0].message.content)\n",
    "print('*'*40)\n",
    "print('tokens:', response.usage)"
   ]
  },
  {
   "cell_type": "code",
   "execution_count": 10,
   "id": "b277bc66",
   "metadata": {},
   "outputs": [
    {
     "name": "stdout",
     "output_type": "stream",
     "text": [
      "******************** answer ********************\n",
      "```python\n",
      "for i in range(3):\n",
      "    for j in range(5):\n",
      "        moveForward()\n",
      "    turnLeft()\n",
      "```\n",
      "****************************************\n",
      "tokens: CompletionUsage(completion_tokens=28, prompt_tokens=1274, total_tokens=1302, completion_tokens_details=CompletionTokensDetails(accepted_prediction_tokens=0, audio_tokens=0, reasoning_tokens=0, rejected_prediction_tokens=0), prompt_tokens_details=PromptTokensDetails(audio_tokens=0, cached_tokens=1152))\n",
      "CPU times: total: 31.2 ms\n",
      "Wall time: 1.32 s\n"
     ]
    }
   ],
   "source": [
    "%%time\n",
    "\n",
    "user_content = '''\n",
    "#2. MZ04PY003  \n",
    "[[[[아바타를 앞으로 한 칸 이동시킨다.] 이 행위를 5번 반복한다.] [아바타를 왼쪽으로 90도 회전시킨다.]] 이 행위를 3번 반복한다.]\n",
    "(결과는 코드 또는 '제가 모르는 부분입니다.'만 출력)\n",
    "'''\n",
    "\n",
    "messages.append({\"role\": \"user\", \"content\": user_content})\n",
    "\n",
    "response = client.chat.completions.create(\n",
    "    model=model,\n",
    "    messages=messages)\n",
    "messages.append(response.choices[0].message)\n",
    "\n",
    "print('*'*20, 'answer', '*'*20)\n",
    "print(response.choices[0].message.content)\n",
    "print('*'*40)\n",
    "print('tokens:', response.usage)"
   ]
  },
  {
   "cell_type": "code",
   "execution_count": 11,
   "id": "08468091",
   "metadata": {},
   "outputs": [
    {
     "name": "stdout",
     "output_type": "stream",
     "text": [
      "******************** answer ********************\n",
      "```python\n",
      "for i in range(3):\n",
      "    for j in range(3):\n",
      "        moveForward()\n",
      "    \n",
      "    for k in range(2):\n",
      "        turnRight()\n",
      "        moveForward()\n",
      "    \n",
      "    for l in range(2):\n",
      "        moveForward()\n",
      "        turnLeft()\n",
      "```\n",
      "****************************************\n",
      "tokens: CompletionUsage(completion_tokens=58, prompt_tokens=1446, total_tokens=1504, completion_tokens_details=CompletionTokensDetails(accepted_prediction_tokens=0, audio_tokens=0, reasoning_tokens=0, rejected_prediction_tokens=0), prompt_tokens_details=PromptTokensDetails(audio_tokens=0, cached_tokens=1280))\n",
      "CPU times: total: 31.2 ms\n",
      "Wall time: 1.84 s\n"
     ]
    }
   ],
   "source": [
    "%%time\n",
    "\n",
    "user_content = '''\n",
    "#3. MZ04PY005\n",
    "[[[[아바타를 앞으로 한 칸 이동시킨다.] 이 행위를 3번 반복한다.] [[아바타를 오른쪽으로 90도 회전시킨다. 아바타를 앞으로 한 칸 이동시킨다.] 이 행위를 2번 반복한다.] [[아바타를 앞으로 한 칸 이동시킨다. 아바타를 왼쪽으로 90도 회전시킨다.] 이 행위를 2번 반복한다.]] 이 행위를 3번 반복한다.]\n",
    "(코드 또는 ‘제가 모르는 부분입니다.’만 출력)\n",
    "'''\n",
    "\n",
    "messages.append({\"role\": \"user\", \"content\": user_content})\n",
    "\n",
    "response = client.chat.completions.create(\n",
    "    model=model,\n",
    "    messages=messages)\n",
    "messages.append(response.choices[0].message)\n",
    "\n",
    "print('*'*20, 'answer', '*'*20)\n",
    "print(response.choices[0].message.content)\n",
    "print('*'*40)\n",
    "print('tokens:', response.usage)"
   ]
  }
 ],
 "metadata": {
  "kernelspec": {
   "display_name": "base",
   "language": "python",
   "name": "python3"
  },
  "language_info": {
   "codemirror_mode": {
    "name": "ipython",
    "version": 3
   },
   "file_extension": ".py",
   "mimetype": "text/x-python",
   "name": "python",
   "nbconvert_exporter": "python",
   "pygments_lexer": "ipython3",
   "version": "3.10.9"
  }
 },
 "nbformat": 4,
 "nbformat_minor": 5
}
