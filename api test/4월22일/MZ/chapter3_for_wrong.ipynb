{
 "cells": [
  {
   "cell_type": "markdown",
   "id": "af57f1de",
   "metadata": {},
   "source": [
    "# chapter 2. for문"
   ]
  },
  {
   "cell_type": "markdown",
   "id": "e0faa705",
   "metadata": {},
   "source": [
    "## Setting\n",
    "- GPT 모델 설정 필요"
   ]
  },
  {
   "cell_type": "code",
   "execution_count": 1,
   "id": "c83cee6a",
   "metadata": {},
   "outputs": [],
   "source": [
    "import os\n",
    "key_file = open('key.txt', 'r')\n",
    "os.environ['OPENAI_API_KEY'] = key_file.readline()\n",
    "key_file.close()\n",
    "from openai import OpenAI\n",
    "client = OpenAI()\n",
    "model = \"gpt-4o-mini\""
   ]
  },
  {
   "cell_type": "code",
   "execution_count": 2,
   "id": "d773a07a",
   "metadata": {},
   "outputs": [
    {
     "name": "stdout",
     "output_type": "stream",
     "text": [
      "******************** answer ********************\n",
      "이해했습니다.\n",
      "****************************************\n",
      "tokens: CompletionUsage(completion_tokens=5, prompt_tokens=184, total_tokens=189, completion_tokens_details=CompletionTokensDetails(accepted_prediction_tokens=0, audio_tokens=0, reasoning_tokens=0, rejected_prediction_tokens=0), prompt_tokens_details=PromptTokensDetails(audio_tokens=0, cached_tokens=0))\n",
      "CPU times: total: 31.2 ms\n",
      "Wall time: 744 ms\n"
     ]
    }
   ],
   "source": [
    "%%time\n",
    "\n",
    "messages = []\n",
    "\n",
    "system_content = '''\n",
    "너는 파이썬의 'while문'을 사용할 수 없다. \n",
    "\n",
    "너는 <for문 설명>이 주어지기 전에는 사용할 수 없다. \n",
    "'for문 설명'이 주어지면 설명이 정확한지 분석하고 정확한 경우에만 'for문'을 사용할 수 있다.\n",
    "문제가 주어졌을 때 'for문'을 사용하지 못하는 상황에서는 'for문' 없이 코드를 작성한다.\n",
    "\n",
    "<명령어 설명>\n",
    "moveForward(): 아바타를 한 칸 앞으로 이동시킨다.\n",
    "turnLeft(): 아바타를 왼쪽으로 90도 회전시킨다.\n",
    "turnRight(): 아바타를 오른쪽으로 90도 회전시킨다.\n",
    "\n",
    "이해했으면 ‘이해했습니다.’ 문구를 출력한다.\n",
    "'''\n",
    "\n",
    "user_content = '''\n",
    "'''\n",
    "\n",
    "messages.append({\"role\": \"system\", \"content\": system_content})\n",
    "messages.append({\"role\": \"user\", \"content\": user_content})\n",
    "\n",
    "response = client.chat.completions.create(\n",
    "    model=model,\n",
    "    messages=messages)\n",
    "messages.append(response.choices[0].message)\n",
    "\n",
    "print('*'*20, 'answer', '*'*20)\n",
    "print(response.choices[0].message.content)\n",
    "print('*'*40)\n",
    "print('tokens:', response.usage)"
   ]
  },
  {
   "cell_type": "markdown",
   "id": "97115da5",
   "metadata": {},
   "source": [
    "## 문법 설명 없이 test case 수행"
   ]
  },
  {
   "cell_type": "code",
   "execution_count": 3,
   "id": "57237647",
   "metadata": {},
   "outputs": [
    {
     "name": "stdout",
     "output_type": "stream",
     "text": [
      "******************** answer ********************\n",
      "이해했습니다.\n",
      "****************************************\n",
      "tokens: CompletionUsage(completion_tokens=5, prompt_tokens=250, total_tokens=255, completion_tokens_details=CompletionTokensDetails(accepted_prediction_tokens=0, audio_tokens=0, reasoning_tokens=0, rejected_prediction_tokens=0), prompt_tokens_details=PromptTokensDetails(audio_tokens=0, cached_tokens=0))\n",
      "CPU times: total: 15.6 ms\n",
      "Wall time: 598 ms\n"
     ]
    }
   ],
   "source": [
    "%%time\n",
    "\n",
    "user_content = '''\n",
    "Test case\n",
    "각 문제에 맞는 코드를 작성한다. 결과는 코드 만 출력한다. \n",
    "이해했으면 ‘이해했습니다.’ 문구 출력\n",
    "('for문'을 사용할 수 없는 경우 'for문'없이 코드를 작성한다.)\n",
    "'''\n",
    "\n",
    "messages.append({\"role\": \"user\", \"content\": user_content})\n",
    "\n",
    "response = client.chat.completions.create(\n",
    "    model=model,\n",
    "    messages=messages)\n",
    "messages.append(response.choices[0].message)\n",
    "\n",
    "print('*'*20, 'answer', '*'*20)\n",
    "print(response.choices[0].message.content)\n",
    "print('*'*40)\n",
    "print('tokens:', response.usage)"
   ]
  },
  {
   "cell_type": "code",
   "execution_count": 4,
   "id": "0c9fc085",
   "metadata": {},
   "outputs": [
    {
     "name": "stdout",
     "output_type": "stream",
     "text": [
      "******************** answer ********************\n",
      "moveForward()\n",
      "turnLeft()\n",
      "moveForward()\n",
      "moveForward()\n",
      "turnRight()\n",
      "\n",
      "moveForward()\n",
      "moveForward()\n",
      "moveForward()\n",
      "moveForward()\n",
      "\n",
      "turnLeft()\n",
      "moveForward()\n",
      "moveForward()\n",
      "****************************************\n",
      "tokens: CompletionUsage(completion_tokens=37, prompt_tokens=435, total_tokens=472, completion_tokens_details=CompletionTokensDetails(accepted_prediction_tokens=0, audio_tokens=0, reasoning_tokens=0, rejected_prediction_tokens=0), prompt_tokens_details=PromptTokensDetails(audio_tokens=0, cached_tokens=0))\n",
      "CPU times: total: 31.2 ms\n",
      "Wall time: 1.29 s\n"
     ]
    }
   ],
   "source": [
    "%%time\n",
    "\n",
    "user_content = '''\n",
    "#1. MZ02PY001V\n",
    "[아바타를 앞으로 한 칸 이동시킨다.] [아바타를 왼쪽으로 90도 회전시킨다] [아바타를 앞으로 한 칸 이동시킨다.] \n",
    "[아바타를 앞으로 한 칸 이동시킨다.] [아바타를 오른쪽으로 90도 회전시킨다.] [[아바타를 앞으로 한 칸 이동시킨다.] 이 행위를 4번 반복한다.] \n",
    "[아바타를 왼쪽으로 90도 회전시킨다.] [아바타를 앞으로 한 칸 이동시킨다.] [아바타를 앞으로 한 칸 이동시킨다.]\n",
    "(코드 또는 ‘제가 모르는 부분입니다.’만 출력)\n",
    "'''\n",
    "\n",
    "messages.append({\"role\": \"user\", \"content\": user_content})\n",
    "\n",
    "response = client.chat.completions.create(\n",
    "    model=model,\n",
    "    messages=messages)\n",
    "messages.append(response.choices[0].message)\n",
    "\n",
    "print('*'*20, 'answer', '*'*20)\n",
    "print(response.choices[0].message.content)\n",
    "print('*'*40)\n",
    "print('tokens:', response.usage)"
   ]
  },
  {
   "cell_type": "code",
   "execution_count": 5,
   "id": "d9a1725e",
   "metadata": {},
   "outputs": [
    {
     "name": "stdout",
     "output_type": "stream",
     "text": [
      "******************** answer ********************\n",
      "moveForward()\n",
      "moveForward()\n",
      "moveForward()\n",
      "moveForward()\n",
      "\n",
      "turnRight()\n",
      "\n",
      "moveForward()\n",
      "moveForward()\n",
      "moveForward()\n",
      "moveForward()\n",
      "moveForward()\n",
      "\n",
      "turnRight()\n",
      "\n",
      "moveForward()\n",
      "moveForward()\n",
      "moveForward()\n",
      "moveForward()\n",
      "moveForward()\n",
      "****************************************\n",
      "tokens: CompletionUsage(completion_tokens=49, prompt_tokens=607, total_tokens=656, completion_tokens_details=CompletionTokensDetails(accepted_prediction_tokens=0, audio_tokens=0, reasoning_tokens=0, rejected_prediction_tokens=0), prompt_tokens_details=PromptTokensDetails(audio_tokens=0, cached_tokens=0))\n",
      "CPU times: total: 31.2 ms\n",
      "Wall time: 1.66 s\n"
     ]
    }
   ],
   "source": [
    "%%time\n",
    "\n",
    "user_content = '''\n",
    "#2. MZ02PY002\n",
    "[[아바타를 앞으로 한 칸 이동시킨다.] 이 행위를 4번 반복한다.] [아바타를 오른쪽으로 90도 회전시킨다.] [[아바타를 앞으로 한 칸 이동시킨다.] 이 행위를 5번 반복한다.] \n",
    "[아바타를 오른쪽으로 90도 회전시킨다.] [[아바타를 앞으로 한 칸 이동시킨다.] 이 행위를 5번 반복한다.]\n",
    "(코드 또는 ‘제가 모르는 부분입니다.’만 출력)\n",
    "'''\n",
    "\n",
    "messages.append({\"role\": \"user\", \"content\": user_content})\n",
    "\n",
    "response = client.chat.completions.create(\n",
    "    model=model,\n",
    "    messages=messages)\n",
    "messages.append(response.choices[0].message)\n",
    "\n",
    "print('*'*20, 'answer', '*'*20)\n",
    "print(response.choices[0].message.content)\n",
    "print('*'*40)\n",
    "print('tokens:', response.usage)"
   ]
  },
  {
   "cell_type": "code",
   "execution_count": 6,
   "id": "43bddb7a",
   "metadata": {},
   "outputs": [
    {
     "name": "stdout",
     "output_type": "stream",
     "text": [
      "******************** answer ********************\n",
      "moveForward()\n",
      "moveForward()\n",
      "moveForward()\n",
      "\n",
      "turnLeft()\n",
      "moveForward()\n",
      "moveForward()\n",
      "\n",
      "turnLeft()\n",
      "\n",
      "moveForward()\n",
      "moveForward()\n",
      "moveForward()\n",
      "moveForward()\n",
      "\n",
      "turnLeft()\n",
      "\n",
      "moveForward()\n",
      "moveForward()\n",
      "moveForward()\n",
      "\n",
      "turnRight()\n",
      "moveForward()\n",
      "****************************************\n",
      "tokens: CompletionUsage(completion_tokens=52, prompt_tokens=872, total_tokens=924, completion_tokens_details=CompletionTokensDetails(accepted_prediction_tokens=0, audio_tokens=0, reasoning_tokens=0, rejected_prediction_tokens=0), prompt_tokens_details=PromptTokensDetails(audio_tokens=0, cached_tokens=0))\n",
      "CPU times: total: 31.2 ms\n",
      "Wall time: 1.46 s\n"
     ]
    }
   ],
   "source": [
    "%%time\n",
    "\n",
    "user_content = '''\n",
    "#3. MZ02PY015\n",
    "[[아바타를 앞으로 한 칸 이동시킨다.] 이 행위를 3번 반복한다.] [아바타를 왼쪽으로 90도 회전시킨다.] [아바타를 앞으로 한 칸 이동시킨다.] \n",
    "[아바타를 앞으로 한 칸 이동시킨다.] [아바타를 왼쪽으로 90도 회전시킨다.] [[아바타를 앞으로 한 칸 이동시킨다.] 이 행위를 4번 반복한다.] \n",
    "[아바타를 왼쪽으로 90도 회전시킨다.] [[아바타를 앞으로 한 칸 이동시킨다.] 이 행위를 3번 반복한다.] [아바타를 오른쪽으로 90도 회전시킨다.] \n",
    "[아바타를 앞으로 한 칸 이동시킨다.]\n",
    "(코드 또는 ‘제가 모르는 부분입니다.’만 출력)\n",
    "'''\n",
    "\n",
    "messages.append({\"role\": \"user\", \"content\": user_content})\n",
    "\n",
    "response = client.chat.completions.create(\n",
    "    model=model,\n",
    "    messages=messages)\n",
    "messages.append(response.choices[0].message)\n",
    "\n",
    "print('*'*20, 'answer', '*'*20)\n",
    "print(response.choices[0].message.content)\n",
    "print('*'*40)\n",
    "print('tokens:', response.usage)"
   ]
  },
  {
   "cell_type": "markdown",
   "id": "a04d91fc",
   "metadata": {},
   "source": [
    "## for문 설명"
   ]
  },
  {
   "cell_type": "code",
   "execution_count": 7,
   "id": "55444765",
   "metadata": {},
   "outputs": [
    {
     "name": "stdout",
     "output_type": "stream",
     "text": [
      "******************** answer ********************\n",
      "for문을 이해했습니다.\n",
      "****************************************\n",
      "tokens: CompletionUsage(completion_tokens=7, prompt_tokens=1037, total_tokens=1044, completion_tokens_details=CompletionTokensDetails(accepted_prediction_tokens=0, audio_tokens=0, reasoning_tokens=0, rejected_prediction_tokens=0), prompt_tokens_details=PromptTokensDetails(audio_tokens=0, cached_tokens=0))\n",
      "CPU times: total: 15.6 ms\n",
      "Wall time: 701 ms\n"
     ]
    }
   ],
   "source": [
    "%%time\n",
    "\n",
    "user_content = '''\n",
    "<for문 설명>\n",
    "\n",
    "for문: 같은 코드를 반복적으로 수행할 때 사용한다.\n",
    "\n",
    "[예시]\n",
    "\n",
    "\n",
    "설명이 정확한 경우 'for문을 이해했습니다.', 정확하지 않은 경우 'for문을 이해하지 못했습니다.' 문구를 출력한다.\n",
    "[예시]에 내용이 없거나 정확하지 못한 경우 'for문을 이해하지 못했습니다.' 문구 출력\n",
    "(‘for문을 이해하지 못했습니다.’를 출력한 경우 'for문'을 사용하지 못한다.)\n",
    "'''\n",
    "\n",
    "messages.append({\"role\": \"user\", \"content\": user_content})\n",
    "\n",
    "response = client.chat.completions.create(\n",
    "    model=model,\n",
    "    messages=messages)\n",
    "messages.append(response.choices[0].message)\n",
    "\n",
    "print('*'*20, 'answer', '*'*20)\n",
    "print(response.choices[0].message.content)\n",
    "print('*'*40)\n",
    "print('tokens:', response.usage)"
   ]
  },
  {
   "cell_type": "code",
   "execution_count": 8,
   "id": "d298b242",
   "metadata": {},
   "outputs": [
    {
     "name": "stdout",
     "output_type": "stream",
     "text": [
      "******************** answer ********************\n",
      "이해했습니다.\n",
      "****************************************\n",
      "tokens: CompletionUsage(completion_tokens=5, prompt_tokens=1107, total_tokens=1112, completion_tokens_details=CompletionTokensDetails(accepted_prediction_tokens=0, audio_tokens=0, reasoning_tokens=0, rejected_prediction_tokens=0), prompt_tokens_details=PromptTokensDetails(audio_tokens=0, cached_tokens=1024))\n",
      "CPU times: total: 31.2 ms\n",
      "Wall time: 741 ms\n"
     ]
    }
   ],
   "source": [
    "%%time\n",
    "\n",
    "user_content = '''\n",
    "Test case\n",
    "각 문제에 맞는 코드를 작성한다. \n",
    "결과는 코드만 출력한다. \n",
    "이해했으면 ‘이해했습니다.’ 문구 출력\n",
    "('for문'을 사용할 수 없는 경우 'for문'없이 코드를 작성한다.)\n",
    "'''\n",
    "\n",
    "messages.append({\"role\": \"user\", \"content\": user_content})\n",
    "\n",
    "response = client.chat.completions.create(\n",
    "    model=model,\n",
    "    messages=messages)\n",
    "messages.append(response.choices[0].message)\n",
    "\n",
    "print('*'*20, 'answer', '*'*20)\n",
    "print(response.choices[0].message.content)\n",
    "print('*'*40)\n",
    "print('tokens:', response.usage)"
   ]
  },
  {
   "cell_type": "code",
   "execution_count": 9,
   "id": "ceaccb28",
   "metadata": {},
   "outputs": [
    {
     "name": "stdout",
     "output_type": "stream",
     "text": [
      "******************** answer ********************\n",
      "moveForward()\n",
      "turnLeft()\n",
      "moveForward()\n",
      "moveForward()\n",
      "turnRight()\n",
      "\n",
      "for _ in range(4):\n",
      "    moveForward()\n",
      "\n",
      "turnLeft()\n",
      "moveForward()\n",
      "moveForward()\n",
      "****************************************\n",
      "tokens: CompletionUsage(completion_tokens=36, prompt_tokens=1292, total_tokens=1328, completion_tokens_details=CompletionTokensDetails(accepted_prediction_tokens=0, audio_tokens=0, reasoning_tokens=0, rejected_prediction_tokens=0), prompt_tokens_details=PromptTokensDetails(audio_tokens=0, cached_tokens=1024))\n",
      "CPU times: total: 31.2 ms\n",
      "Wall time: 1.48 s\n"
     ]
    }
   ],
   "source": [
    "%%time\n",
    "\n",
    "user_content = '''\n",
    "#1. MZ02PY001V\n",
    "[아바타를 앞으로 한 칸 이동시킨다.] [아바타를 왼쪽으로 90도 회전시킨다] [아바타를 앞으로 한 칸 이동시킨다.] \n",
    "[아바타를 앞으로 한 칸 이동시킨다.] [아바타를 오른쪽으로 90도 회전시킨다.] [[아바타를 앞으로 한 칸 이동시킨다.] 이 행위를 4번 반복한다.] \n",
    "[아바타를 왼쪽으로 90도 회전시킨다.] [아바타를 앞으로 한 칸 이동시킨다.] [아바타를 앞으로 한 칸 이동시킨다.]\n",
    "(코드 또는 ‘제가 모르는 부분입니다.’만 출력)\n",
    "'''\n",
    "\n",
    "messages.append({\"role\": \"user\", \"content\": user_content})\n",
    "\n",
    "response = client.chat.completions.create(\n",
    "    model=model,\n",
    "    messages=messages)\n",
    "messages.append(response.choices[0].message)\n",
    "\n",
    "print('*'*20, 'answer', '*'*20)\n",
    "print(response.choices[0].message.content)\n",
    "print('*'*40)\n",
    "print('tokens:', response.usage)"
   ]
  },
  {
   "cell_type": "code",
   "execution_count": 10,
   "id": "536fa9a2",
   "metadata": {},
   "outputs": [
    {
     "name": "stdout",
     "output_type": "stream",
     "text": [
      "******************** answer ********************\n",
      "moveForward()\n",
      "moveForward()\n",
      "moveForward()\n",
      "moveForward()\n",
      "\n",
      "turnRight()\n",
      "\n",
      "for _ in range(5):\n",
      "    moveForward()\n",
      "\n",
      "turnRight()\n",
      "\n",
      "for _ in range(5):\n",
      "    moveForward()\n",
      "****************************************\n",
      "tokens: CompletionUsage(completion_tokens=41, prompt_tokens=1463, total_tokens=1504, completion_tokens_details=CompletionTokensDetails(accepted_prediction_tokens=0, audio_tokens=0, reasoning_tokens=0, rejected_prediction_tokens=0), prompt_tokens_details=PromptTokensDetails(audio_tokens=0, cached_tokens=1280))\n",
      "CPU times: total: 31.2 ms\n",
      "Wall time: 1.49 s\n"
     ]
    }
   ],
   "source": [
    "%%time\n",
    "\n",
    "user_content = '''\n",
    "#2. MZ02PY002\n",
    "[[아바타를 앞으로 한 칸 이동시킨다.] 이 행위를 4번 반복한다.] [아바타를 오른쪽으로 90도 회전시킨다.] [[아바타를 앞으로 한 칸 이동시킨다.] 이 행위를 5번 반복한다.] \n",
    "[아바타를 오른쪽으로 90도 회전시킨다.] [[아바타를 앞으로 한 칸 이동시킨다.] 이 행위를 5번 반복한다.]\n",
    "(코드 또는 ‘제가 모르는 부분입니다.’만 출력)\n",
    "'''\n",
    "\n",
    "messages.append({\"role\": \"user\", \"content\": user_content})\n",
    "\n",
    "response = client.chat.completions.create(\n",
    "    model=model,\n",
    "    messages=messages)\n",
    "messages.append(response.choices[0].message)\n",
    "\n",
    "print('*'*20, 'answer', '*'*20)\n",
    "print(response.choices[0].message.content)\n",
    "print('*'*40)\n",
    "print('tokens:', response.usage)"
   ]
  },
  {
   "cell_type": "code",
   "execution_count": 11,
   "id": "78663290",
   "metadata": {},
   "outputs": [
    {
     "name": "stdout",
     "output_type": "stream",
     "text": [
      "******************** answer ********************\n",
      "moveForward()\n",
      "moveForward()\n",
      "moveForward()\n",
      "\n",
      "turnLeft()\n",
      "moveForward()\n",
      "moveForward()\n",
      "\n",
      "turnLeft()\n",
      "\n",
      "for _ in range(4):\n",
      "    moveForward()\n",
      "\n",
      "turnLeft()\n",
      "\n",
      "for _ in range(3):\n",
      "    moveForward()\n",
      "\n",
      "turnRight()\n",
      "moveForward()\n",
      "****************************************\n",
      "tokens: CompletionUsage(completion_tokens=53, prompt_tokens=1720, total_tokens=1773, completion_tokens_details=CompletionTokensDetails(accepted_prediction_tokens=0, audio_tokens=0, reasoning_tokens=0, rejected_prediction_tokens=0), prompt_tokens_details=PromptTokensDetails(audio_tokens=0, cached_tokens=1408))\n",
      "CPU times: total: 31.2 ms\n",
      "Wall time: 2.08 s\n"
     ]
    }
   ],
   "source": [
    "%%time\n",
    "\n",
    "user_content = '''\n",
    "#3. MZ02PY015\n",
    "[[아바타를 앞으로 한 칸 이동시킨다.] 이 행위를 3번 반복한다.] [아바타를 왼쪽으로 90도 회전시킨다.] [아바타를 앞으로 한 칸 이동시킨다.] \n",
    "[아바타를 앞으로 한 칸 이동시킨다.] [아바타를 왼쪽으로 90도 회전시킨다.] [[아바타를 앞으로 한 칸 이동시킨다.] 이 행위를 4번 반복한다.] \n",
    "[아바타를 왼쪽으로 90도 회전시킨다.] [[아바타를 앞으로 한 칸 이동시킨다.] 이 행위를 3번 반복한다.] [아바타를 오른쪽으로 90도 회전시킨다.] \n",
    "[아바타를 앞으로 한 칸 이동시킨다.]\n",
    "(코드 또는 ‘제가 모르는 부분입니다.’만 출력)\n",
    "'''\n",
    "\n",
    "messages.append({\"role\": \"user\", \"content\": user_content})\n",
    "\n",
    "response = client.chat.completions.create(\n",
    "    model=model,\n",
    "    messages=messages)\n",
    "messages.append(response.choices[0].message)\n",
    "\n",
    "print('*'*20, 'answer', '*'*20)\n",
    "print(response.choices[0].message.content)\n",
    "print('*'*40)\n",
    "print('tokens:', response.usage)"
   ]
  }
 ],
 "metadata": {
  "kernelspec": {
   "display_name": "base",
   "language": "python",
   "name": "python3"
  },
  "language_info": {
   "codemirror_mode": {
    "name": "ipython",
    "version": 3
   },
   "file_extension": ".py",
   "mimetype": "text/x-python",
   "name": "python",
   "nbconvert_exporter": "python",
   "pygments_lexer": "ipython3",
   "version": "3.10.9"
  }
 },
 "nbformat": 4,
 "nbformat_minor": 5
}
