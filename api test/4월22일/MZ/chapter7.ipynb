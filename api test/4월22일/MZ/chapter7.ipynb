{
 "cells": [
  {
   "cell_type": "markdown",
   "id": "10250196",
   "metadata": {},
   "source": [
    "# chapter 7."
   ]
  },
  {
   "cell_type": "markdown",
   "id": "e0faa705",
   "metadata": {},
   "source": [
    "## Setting\n",
    "- GPT 모델 설정 필요"
   ]
  },
  {
   "cell_type": "code",
   "execution_count": 1,
   "id": "c83cee6a",
   "metadata": {},
   "outputs": [],
   "source": [
    "import os\n",
    "key_file = open('key.txt', 'r')\n",
    "os.environ['OPENAI_API_KEY'] = key_file.readline()\n",
    "key_file.close()\n",
    "from openai import OpenAI\n",
    "client = OpenAI()\n",
    "model = \"gpt-4.1-mini\""
   ]
  },
  {
   "cell_type": "code",
   "execution_count": 2,
   "id": "d773a07a",
   "metadata": {},
   "outputs": [
    {
     "name": "stdout",
     "output_type": "stream",
     "text": [
      "******************** answer ********************\n",
      "이해했습니다.\n",
      "****************************************\n",
      "tokens: CompletionUsage(completion_tokens=5, prompt_tokens=378, total_tokens=383, completion_tokens_details=CompletionTokensDetails(accepted_prediction_tokens=0, audio_tokens=0, reasoning_tokens=0, rejected_prediction_tokens=0), prompt_tokens_details=PromptTokensDetails(audio_tokens=0, cached_tokens=0))\n",
      "CPU times: total: 15.6 ms\n",
      "Wall time: 984 ms\n"
     ]
    }
   ],
   "source": [
    "%%time\n",
    "\n",
    "messages = []\n",
    "\n",
    "system_content = '''\n",
    "너는 ‘elif문’에 대한 설명이 주어지기 전에는 문제를 풀 수 없다. \n",
    "‘elif문’에 대한 설명이 주어지면 설명이 정확한지 분석하고 정확한 경우에만 ‘elif문’을 사용할 수 있다.\n",
    "설명에 ‘[예시]’가 없는 경우 문제를 풀 수 없다. \n",
    "\n",
    "너는 갈림길의 유무를 검사하는 명령어를 모른다. \n",
    "아바타 주변에 갈림길이 있는지 검사하는 명령어를 설명하기 전에는 문제를 풀 수 없다. \n",
    "'명령어 설명'이 틀린 경우 '명령어 설명'을 기준으로 조건을 작성한다. \n",
    "\n",
    "문제를 풀 수 없는 경우 ‘문제를 풀 수 없습니다.’ 문구를 출력한다. \n",
    "\n",
    "<기본 명령어 설명> \n",
    "moveForward(): 아바타를 한 칸 앞으로 이동시킨다. \n",
    "turnLeft(): 아바타를 왼쪽으로 90도 회전시킨다.\n",
    "turnRight(): 아바타를 오른쪽으로 90도 회전시킨다.\n",
    "pathAhead(): 아바타 앞에 길이 있는지 확인한다. 길이 있는 경우 True, 없는 경우 False를 반환한다. \n",
    "pathLeft(): 아바타 왼쪽에 길이 있는지 확인한다. 길이 있는 경우 True, 없는 경우 False를 반환한다. \n",
    "pathRight(): 아바타 오른쪽에 길이 있는지 확인한다. 길이 있는 경우 True, 없는 경우 False를 반환한다.\n",
    "notDone(): 아바타가 도착지에 도착했는지 파악한다. 도착하지 못한 경우 True \n",
    "\n",
    "이해했으면 '이해했습니다.' 문구를 출력한다.\n",
    "'''\n",
    "\n",
    "user_content = '''\n",
    "'''\n",
    "\n",
    "messages.append({\"role\": \"system\", \"content\": system_content})\n",
    "messages.append({\"role\": \"user\", \"content\": user_content})\n",
    "\n",
    "response = client.chat.completions.create(\n",
    "    model=model,\n",
    "    messages=messages)\n",
    "messages.append(response.choices[0].message)\n",
    "\n",
    "print('*'*20, 'answer', '*'*20)\n",
    "print(response.choices[0].message.content)\n",
    "print('*'*40)\n",
    "print('tokens:', response.usage)"
   ]
  },
  {
   "cell_type": "markdown",
   "id": "9455ced0",
   "metadata": {},
   "source": [
    "## 명령어 설명 없이 test case 수행"
   ]
  },
  {
   "cell_type": "code",
   "execution_count": 3,
   "id": "57237647",
   "metadata": {},
   "outputs": [
    {
     "name": "stdout",
     "output_type": "stream",
     "text": [
      "******************** answer ********************\n",
      "문제를 풀 수 없습니다.\n",
      "****************************************\n",
      "tokens: CompletionUsage(completion_tokens=7, prompt_tokens=462, total_tokens=469, completion_tokens_details=CompletionTokensDetails(accepted_prediction_tokens=0, audio_tokens=0, reasoning_tokens=0, rejected_prediction_tokens=0), prompt_tokens_details=PromptTokensDetails(audio_tokens=0, cached_tokens=0))\n",
      "CPU times: total: 15.6 ms\n",
      "Wall time: 935 ms\n"
     ]
    }
   ],
   "source": [
    "%%time\n",
    "\n",
    "user_content = ''' \n",
    "Test case\n",
    "각 문제에 맞는 코드를 작성한다. 결과는 코드 또는 ‘문제를 풀 수 없습니다.’만 출력한다.\n",
    "(<elif문 설명>에서'elif문을 이해하지 못했습니다.' 또는 <명령어 설명>에서 '명령어를 이해하지 못했습니다.'가 출력된 경우 문제를 풀 수 없다.)\n",
    "'''\n",
    "\n",
    "messages.append({\"role\": \"user\", \"content\": user_content})\n",
    "\n",
    "response = client.chat.completions.create(\n",
    "    model=model,\n",
    "    messages=messages)\n",
    "messages.append(response.choices[0].message)\n",
    "\n",
    "print('*'*20, 'answer', '*'*20)\n",
    "print(response.choices[0].message.content)\n",
    "print('*'*40)\n",
    "print('tokens:', response.usage)"
   ]
  },
  {
   "cell_type": "code",
   "execution_count": 4,
   "id": "3e402652",
   "metadata": {},
   "outputs": [
    {
     "name": "stdout",
     "output_type": "stream",
     "text": [
      "******************** answer ********************\n",
      "문제를 풀 수 없습니다.\n",
      "****************************************\n",
      "tokens: CompletionUsage(completion_tokens=7, prompt_tokens=652, total_tokens=659, completion_tokens_details=CompletionTokensDetails(accepted_prediction_tokens=0, audio_tokens=0, reasoning_tokens=0, rejected_prediction_tokens=0), prompt_tokens_details=PromptTokensDetails(audio_tokens=0, cached_tokens=0))\n",
      "CPU times: total: 15.6 ms\n",
      "Wall time: 791 ms\n"
     ]
    }
   ],
   "source": [
    "%%time\n",
    "\n",
    "user_content = ''' \n",
    "#1. MZ09PY001V\n",
    "[아바타가 도착지에 도착하지 못한 경우 뒤의 코드를 반복한다. [만약 아바타 앞, 뒤, 좌, 우측 모두 길이 있다면 아바타를 오른쪽으로 90도 회전시킨다.] [그렇지 않고 만약 아바타 좌, 우측에 길이 있다면 아바타를 왼쪽으로 90도 회전시킨다.] [아바타를 앞으로 한 칸 이동시킨다.]]\n",
    "(<elif문 설명>에서'elif문을 이해하지 못했습니다.' 또는 <명령어 설명>에서 '명령어를 이해하지 못했습니다.'가 출력된 경우 문제를 풀 수 없다.)\n",
    "(코드 또는 ‘문제를 풀 수 없습니다.’만 출력)\n",
    "'''\n",
    "\n",
    "messages.append({\"role\": \"user\", \"content\": user_content})\n",
    "\n",
    "response = client.chat.completions.create(\n",
    "    model=model,\n",
    "    messages=messages)\n",
    "messages.append(response.choices[0].message)\n",
    "\n",
    "print('*'*20, 'answer', '*'*20)\n",
    "print(response.choices[0].message.content)\n",
    "print('*'*40)\n",
    "print('tokens:', response.usage)"
   ]
  },
  {
   "cell_type": "code",
   "execution_count": 5,
   "id": "90dd1366",
   "metadata": {},
   "outputs": [
    {
     "name": "stdout",
     "output_type": "stream",
     "text": [
      "******************** answer ********************\n",
      "문제를 풀 수 없습니다.\n",
      "****************************************\n",
      "tokens: CompletionUsage(completion_tokens=7, prompt_tokens=877, total_tokens=884, completion_tokens_details=CompletionTokensDetails(accepted_prediction_tokens=0, audio_tokens=0, reasoning_tokens=0, rejected_prediction_tokens=0), prompt_tokens_details=PromptTokensDetails(audio_tokens=0, cached_tokens=0))\n",
      "CPU times: total: 15.6 ms\n",
      "Wall time: 1.07 s\n"
     ]
    }
   ],
   "source": [
    "%%time\n",
    "\n",
    "user_content = ''' \n",
    "#2. MZ09PY003\n",
    "[아바타가 도착지에 도착하지 못한 경우 뒤의 코드를 반복한다. [만약 아바타 앞, 뒤, 좌, 우측 모두 길이 있다면 아바타를 오른쪽으로 90도 회전시킨다.] [그렇지 않고 만약 아바타 좌, 우측에 길이 있다면 아바타를 왼쪽으로 90도 회전시킨다.] [그렇지 않고 만약 아바타 앞, 좌측에 길이 있다면 아바타를 왼쪽으로 90도 회전시킨다.] [아바타를 앞으로 한 칸 이동시킨다.]]\n",
    "(<elif문 설명>에서'elif문을 이해하지 못했습니다.' 또는 <명령어 설명>에서 '명령어를 이해하지 못했습니다.'가 출력된 경우 문제를 풀 수 없다.)\n",
    "(코드 또는 ‘문제를 풀 수 없습니다.’만 출력)\n",
    "'''\n",
    "\n",
    "messages.append({\"role\": \"user\", \"content\": user_content})\n",
    "\n",
    "response = client.chat.completions.create(\n",
    "    model=model,\n",
    "    messages=messages)\n",
    "messages.append(response.choices[0].message)\n",
    "\n",
    "print('*'*20, 'answer', '*'*20)\n",
    "print(response.choices[0].message.content)\n",
    "print('*'*40)\n",
    "print('tokens:', response.usage)"
   ]
  },
  {
   "cell_type": "code",
   "execution_count": 6,
   "id": "bb6fcc69",
   "metadata": {},
   "outputs": [
    {
     "name": "stdout",
     "output_type": "stream",
     "text": [
      "******************** answer ********************\n",
      "문제를 풀 수 없습니다.\n",
      "****************************************\n",
      "tokens: CompletionUsage(completion_tokens=7, prompt_tokens=1130, total_tokens=1137, completion_tokens_details=CompletionTokensDetails(accepted_prediction_tokens=0, audio_tokens=0, reasoning_tokens=0, rejected_prediction_tokens=0), prompt_tokens_details=PromptTokensDetails(audio_tokens=0, cached_tokens=0))\n",
      "CPU times: total: 31.2 ms\n",
      "Wall time: 841 ms\n"
     ]
    }
   ],
   "source": [
    "%%time\n",
    "\n",
    "user_content = ''' \n",
    "#3. MZ09PY018\n",
    "[아바타를 앞으로 한 칸 이동시킨다.]\n",
    "[아바타를 오른쪽으로 90도 회전시킨다.]\n",
    "[아바타가 도착지에 도착하지 못한 경우 뒤의 코드를 반복한다. [아바타를 앞으로 한 칸 이동시킨다.] [만약 아바타 앞, 뒤, 좌, 우측에 모두 길이 있다면 아바타를 앞으로 한 칸 이동시킨다.] [그렇지 않고 만약 아바타 좌, 우측에 길이 있다면 아바타를 오른쪽으로 90도 회전시킨다.] [그렇지 않고 만약 아바타 앞, 좌측에 길이 있다면 아바타를 왼쪽으로 90도 회전시킨다.]]\n",
    "(<elif문 설명>에서'elif문을 이해하지 못했습니다.' 또는 <명령어 설명>에서 '명령어를 이해하지 못했습니다.'가 출력된 경우 문제를 풀 수 없다.)\n",
    "(코드 또는 ‘문제를 풀 수 없습니다.’만 출력)\n",
    "'''\n",
    "\n",
    "messages.append({\"role\": \"user\", \"content\": user_content})\n",
    "\n",
    "response = client.chat.completions.create(\n",
    "    model=model,\n",
    "    messages=messages)\n",
    "messages.append(response.choices[0].message)\n",
    "\n",
    "print('*'*20, 'answer', '*'*20)\n",
    "print(response.choices[0].message.content)\n",
    "print('*'*40)\n",
    "print('tokens:', response.usage)"
   ]
  },
  {
   "cell_type": "markdown",
   "id": "351b5856",
   "metadata": {},
   "source": [
    "## 설명"
   ]
  },
  {
   "cell_type": "code",
   "execution_count": 7,
   "id": "efca1f1f",
   "metadata": {},
   "outputs": [
    {
     "name": "stdout",
     "output_type": "stream",
     "text": [
      "******************** answer ********************\n",
      "elif문을 이해했습니다.\n",
      "****************************************\n",
      "tokens: CompletionUsage(completion_tokens=7, prompt_tokens=1270, total_tokens=1277, completion_tokens_details=CompletionTokensDetails(accepted_prediction_tokens=0, audio_tokens=0, reasoning_tokens=0, rejected_prediction_tokens=0), prompt_tokens_details=PromptTokensDetails(audio_tokens=0, cached_tokens=1024))\n",
      "CPU times: total: 31.2 ms\n",
      "Wall time: 835 ms\n"
     ]
    }
   ],
   "source": [
    "%%time\n",
    "\n",
    "user_content = ''' \n",
    "<elif문 설명> \n",
    "elif문: 다른 조건은 False이며 현재 조건이 True인 경우에만 코드를 수행한다. \n",
    "\n",
    "[예시] \n",
    "if 조건1: \n",
    "    동작 코드\n",
    "elif 조건2:\n",
    "    동작 코드\n",
    "else :\n",
    "    동작 코드 \n",
    "\n",
    "위 형태로 작성한다. \n",
    "\n",
    "‘elif문 설명’이 구체적인지 판단한다. 구체적이고 정확한 경우 ‘elif문’을 이해했습니다.’, 그렇지 않은 경우 ‘elif문을 이해하지 못했습니다.’ 문구를 출력한다. \n",
    "(예시가 없으면 이해할 수 없다.)\n",
    "'''\n",
    "\n",
    "messages.append({\"role\": \"user\", \"content\": user_content})\n",
    "\n",
    "response = client.chat.completions.create(\n",
    "    model=model,\n",
    "    messages=messages)\n",
    "messages.append(response.choices[0].message)\n",
    "\n",
    "print('*'*20, 'answer', '*'*20)\n",
    "print(response.choices[0].message.content)\n",
    "print('*'*40)\n",
    "print('tokens:', response.usage)"
   ]
  },
  {
   "cell_type": "code",
   "execution_count": 8,
   "id": "62c4d821",
   "metadata": {},
   "outputs": [
    {
     "name": "stdout",
     "output_type": "stream",
     "text": [
      "******************** answer ********************\n",
      "명령어를 이해했습니다.\n",
      "****************************************\n",
      "tokens: CompletionUsage(completion_tokens=8, prompt_tokens=1469, total_tokens=1477, completion_tokens_details=CompletionTokensDetails(accepted_prediction_tokens=0, audio_tokens=0, reasoning_tokens=0, rejected_prediction_tokens=0), prompt_tokens_details=PromptTokensDetails(audio_tokens=0, cached_tokens=1152))\n",
      "CPU times: total: 31.2 ms\n",
      "Wall time: 841 ms\n"
     ]
    }
   ],
   "source": [
    "%%time\n",
    "\n",
    "user_content = ''' \n",
    "<명령어 설명>\n",
    "pathCrossroad(): 아바타 앞, 뒤, 좌, 우측 모두 길이 있는지 확인한다. 길이 있는 경우 True\n",
    "pathAheadRight(): 아바타 앞, 우측에 길이 있는지 확인한다. 길이 있는 경우 True\n",
    "pathAheadLeft(): 아바타 앞, 좌측에 길이 있는지 확인한다. 길이 있는 경우 True\n",
    "pathRightLeft(): 아바타 좌, 우측에 길이 있는지 확인한다. 길이 있는 경우 True\n",
    "\n",
    "명령어 설명을 이해했다면 ‘명령어를 이해했습니다.’, 이해하지 못했다면 ‘명령어를 이해할 수 없습니다.’ 문구를 출력한다. \n",
    "구체적인 명령어 설명이 없다면 이해할 수 없다. \n",
    "명령어 설명이 틀리더라도 설명을 기준으로 코드를 작성한다.\n",
    "'''\n",
    "\n",
    "messages.append({\"role\": \"user\", \"content\": user_content})\n",
    "\n",
    "response = client.chat.completions.create(\n",
    "    model=model,\n",
    "    messages=messages)\n",
    "messages.append(response.choices[0].message)\n",
    "\n",
    "print('*'*20, 'answer', '*'*20)\n",
    "print(response.choices[0].message.content)\n",
    "print('*'*40)\n",
    "print('tokens:', response.usage)"
   ]
  },
  {
   "cell_type": "code",
   "execution_count": 9,
   "id": "3d18866f",
   "metadata": {},
   "outputs": [
    {
     "name": "stdout",
     "output_type": "stream",
     "text": [
      "******************** answer ********************\n",
      "#1. MZ09PY001V\n",
      "```python\n",
      "while notDone():\n",
      "    if pathCrossroad():\n",
      "        turnRight()\n",
      "    elif pathRightLeft():\n",
      "        turnLeft()\n",
      "    moveForward()\n",
      "```\n",
      "\n",
      "#2. MZ09PY003\n",
      "```python\n",
      "while notDone():\n",
      "    if pathCrossroad():\n",
      "        turnRight()\n",
      "    elif pathRightLeft():\n",
      "        turnLeft()\n",
      "    elif pathAheadLeft():\n",
      "        turnLeft()\n",
      "    moveForward()\n",
      "```\n",
      "\n",
      "#3. MZ09PY018\n",
      "```python\n",
      "moveForward()\n",
      "turnRight()\n",
      "while notDone():\n",
      "    moveForward()\n",
      "    if pathCrossroad():\n",
      "        moveForward()\n",
      "    elif pathRightLeft():\n",
      "        turnRight()\n",
      "    elif pathAheadLeft():\n",
      "        turnLeft()\n",
      "```\n",
      "****************************************\n",
      "tokens: CompletionUsage(completion_tokens=153, prompt_tokens=1556, total_tokens=1709, completion_tokens_details=CompletionTokensDetails(accepted_prediction_tokens=0, audio_tokens=0, reasoning_tokens=0, rejected_prediction_tokens=0), prompt_tokens_details=PromptTokensDetails(audio_tokens=0, cached_tokens=0))\n",
      "CPU times: total: 31.2 ms\n",
      "Wall time: 3.24 s\n"
     ]
    }
   ],
   "source": [
    "%%time\n",
    "\n",
    "user_content = ''' \n",
    "Test case\n",
    "각 문제에 맞는 코드를 작성한다. 결과는 코드 또는 ‘문제를 풀 수 없습니다.’만 출력한다.\n",
    "(<elif문 설명>에서'elif문을 이해하지 못했습니다.' 또는 <명령어 설명>에서 '명령어를 이해하지 못했습니다.'가 출력된 경우 문제를 풀 수 없다.)\n",
    "'''\n",
    "\n",
    "messages.append({\"role\": \"user\", \"content\": user_content})\n",
    "\n",
    "response = client.chat.completions.create(\n",
    "    model=model,\n",
    "    messages=messages)\n",
    "messages.append(response.choices[0].message)\n",
    "\n",
    "print('*'*20, 'answer', '*'*20)\n",
    "print(response.choices[0].message.content)\n",
    "print('*'*40)\n",
    "print('tokens:', response.usage)"
   ]
  },
  {
   "cell_type": "code",
   "execution_count": 10,
   "id": "51b3be51",
   "metadata": {},
   "outputs": [
    {
     "name": "stdout",
     "output_type": "stream",
     "text": [
      "******************** answer ********************\n",
      "```python\n",
      "while notDone():\n",
      "    if pathCrossroad():\n",
      "        turnRight()\n",
      "    elif pathRightLeft():\n",
      "        turnLeft()\n",
      "    moveForward()\n",
      "```\n",
      "****************************************\n",
      "tokens: CompletionUsage(completion_tokens=33, prompt_tokens=1892, total_tokens=1925, completion_tokens_details=CompletionTokensDetails(accepted_prediction_tokens=0, audio_tokens=0, reasoning_tokens=0, rejected_prediction_tokens=0), prompt_tokens_details=PromptTokensDetails(audio_tokens=0, cached_tokens=1408))\n",
      "CPU times: total: 46.9 ms\n",
      "Wall time: 1.18 s\n"
     ]
    }
   ],
   "source": [
    "%%time\n",
    "\n",
    "user_content = ''' \n",
    "#1. MZ09PY001V\n",
    "[아바타가 도착지에 도착하지 못한 경우 뒤의 코드를 반복한다. [만약 아바타 앞, 뒤, 좌, 우측 모두 길이 있다면 아바타를 오른쪽으로 90도 회전시킨다.] [그렇지 않고 만약 아바타 좌, 우측에 길이 있다면 아바타를 왼쪽으로 90도 회전시킨다.] [아바타를 앞으로 한 칸 이동시킨다.]]\n",
    "(<elif문 설명>에서'elif문을 이해하지 못했습니다.' 또는 <명령어 설명>에서 '명령어를 이해하지 못했습니다.'가 출력된 경우 문제를 풀 수 없다.)\n",
    "(코드 또는 ‘문제를 풀 수 없습니다.’만 출력)\n",
    "'''\n",
    "\n",
    "messages.append({\"role\": \"user\", \"content\": user_content})\n",
    "\n",
    "response = client.chat.completions.create(\n",
    "    model=model,\n",
    "    messages=messages)\n",
    "messages.append(response.choices[0].message)\n",
    "\n",
    "print('*'*20, 'answer', '*'*20)\n",
    "print(response.choices[0].message.content)\n",
    "print('*'*40)\n",
    "print('tokens:', response.usage)"
   ]
  },
  {
   "cell_type": "code",
   "execution_count": 11,
   "id": "8095ecea",
   "metadata": {},
   "outputs": [
    {
     "name": "stdout",
     "output_type": "stream",
     "text": [
      "******************** answer ********************\n",
      "```python\n",
      "while notDone():\n",
      "    if pathCrossroad():\n",
      "        turnRight()\n",
      "    elif pathRightLeft():\n",
      "        turnLeft()\n",
      "    elif pathAheadLeft():\n",
      "        turnLeft()\n",
      "    moveForward()\n",
      "```\n",
      "****************************************\n",
      "tokens: CompletionUsage(completion_tokens=43, prompt_tokens=2143, total_tokens=2186, completion_tokens_details=CompletionTokensDetails(accepted_prediction_tokens=0, audio_tokens=0, reasoning_tokens=0, rejected_prediction_tokens=0), prompt_tokens_details=PromptTokensDetails(audio_tokens=0, cached_tokens=1792))\n",
      "CPU times: total: 62.5 ms\n",
      "Wall time: 1.85 s\n"
     ]
    }
   ],
   "source": [
    "%%time\n",
    "\n",
    "user_content = ''' \n",
    "#2. MZ09PY003\n",
    "[아바타가 도착지에 도착하지 못한 경우 뒤의 코드를 반복한다. [만약 아바타 앞, 뒤, 좌, 우측 모두 길이 있다면 아바타를 오른쪽으로 90도 회전시킨다.] [그렇지 않고 만약 아바타 좌, 우측에 길이 있다면 아바타를 왼쪽으로 90도 회전시킨다.] [그렇지 않고 만약 아바타 앞, 좌측에 길이 있다면 아바타를 왼쪽으로 90도 회전시킨다.] [아바타를 앞으로 한 칸 이동시킨다.]]\n",
    "(<elif문 설명>에서'elif문을 이해하지 못했습니다.' 또는 <명령어 설명>에서 '명령어를 이해하지 못했습니다.'가 출력된 경우 문제를 풀 수 없다.)\n",
    "(코드 또는 ‘문제를 풀 수 없습니다.’만 출력)\n",
    "'''\n",
    "\n",
    "messages.append({\"role\": \"user\", \"content\": user_content})\n",
    "\n",
    "response = client.chat.completions.create(\n",
    "    model=model,\n",
    "    messages=messages)\n",
    "messages.append(response.choices[0].message)\n",
    "\n",
    "print('*'*20, 'answer', '*'*20)\n",
    "print(response.choices[0].message.content)\n",
    "print('*'*40)\n",
    "print('tokens:', response.usage)"
   ]
  },
  {
   "cell_type": "code",
   "execution_count": 12,
   "id": "cd846687",
   "metadata": {},
   "outputs": [
    {
     "name": "stdout",
     "output_type": "stream",
     "text": [
      "******************** answer ********************\n",
      "```python\n",
      "moveForward()\n",
      "turnRight()\n",
      "while notDone():\n",
      "    moveForward()\n",
      "    if pathCrossroad():\n",
      "        moveForward()\n",
      "    elif pathRightLeft():\n",
      "        turnRight()\n",
      "    elif pathAheadLeft():\n",
      "        turnLeft()\n",
      "```\n",
      "****************************************\n",
      "tokens: CompletionUsage(completion_tokens=49, prompt_tokens=2432, total_tokens=2481, completion_tokens_details=CompletionTokensDetails(accepted_prediction_tokens=0, audio_tokens=0, reasoning_tokens=0, rejected_prediction_tokens=0), prompt_tokens_details=PromptTokensDetails(audio_tokens=0, cached_tokens=0))\n",
      "CPU times: total: 62.5 ms\n",
      "Wall time: 1.55 s\n"
     ]
    }
   ],
   "source": [
    "%%time\n",
    "\n",
    "user_content = ''' \n",
    "#3. MZ09PY018\n",
    "[아바타를 앞으로 한 칸 이동시킨다.]\n",
    "[아바타를 오른쪽으로 90도 회전시킨다.]\n",
    "[아바타가 도착지에 도착하지 못한 경우 뒤의 코드를 반복한다. [아바타를 앞으로 한 칸 이동시킨다.] [만약 아바타 앞, 뒤, 좌, 우측에 모두 길이 있다면 아바타를 앞으로 한 칸 이동시킨다.] [그렇지 않고 만약 아바타 좌, 우측에 길이 있다면 아바타를 오른쪽으로 90도 회전시킨다.] [그렇지 않고 만약 아바타 앞, 좌측에 길이 있다면 아바타를 왼쪽으로 90도 회전시킨다.]]\n",
    "(<elif문 설명>에서'elif문을 이해하지 못했습니다.' 또는 <명령어 설명>에서 '명령어를 이해하지 못했습니다.'가 출력된 경우 문제를 풀 수 없다.)\n",
    "(코드 또는 ‘문제를 풀 수 없습니다.’만 출력)\n",
    "'''\n",
    "\n",
    "messages.append({\"role\": \"user\", \"content\": user_content})\n",
    "\n",
    "response = client.chat.completions.create(\n",
    "    model=model,\n",
    "    messages=messages)\n",
    "messages.append(response.choices[0].message)\n",
    "\n",
    "print('*'*20, 'answer', '*'*20)\n",
    "print(response.choices[0].message.content)\n",
    "print('*'*40)\n",
    "print('tokens:', response.usage)"
   ]
  }
 ],
 "metadata": {
  "kernelspec": {
   "display_name": "base",
   "language": "python",
   "name": "python3"
  },
  "language_info": {
   "codemirror_mode": {
    "name": "ipython",
    "version": 3
   },
   "file_extension": ".py",
   "mimetype": "text/x-python",
   "name": "python",
   "nbconvert_exporter": "python",
   "pygments_lexer": "ipython3",
   "version": "3.10.9"
  }
 },
 "nbformat": 4,
 "nbformat_minor": 5
}
