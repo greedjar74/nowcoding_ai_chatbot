{
 "cells": [
  {
   "cell_type": "markdown",
   "id": "af57f1de",
   "metadata": {},
   "source": [
    "# chapter 1. MZ 명령어"
   ]
  },
  {
   "cell_type": "markdown",
   "id": "e0faa705",
   "metadata": {},
   "source": [
    "## Setting\n",
    "- GPT 모델 설정 필요"
   ]
  },
  {
   "cell_type": "code",
   "execution_count": 1,
   "id": "c83cee6a",
   "metadata": {},
   "outputs": [],
   "source": [
    "import os\n",
    "key_file = open('key.txt', 'r')\n",
    "os.environ['OPENAI_API_KEY'] = key_file.readline()\n",
    "key_file.close()\n",
    "from openai import OpenAI\n",
    "client = OpenAI()\n",
    "model = \"gpt-4.1-mini\""
   ]
  },
  {
   "cell_type": "code",
   "execution_count": null,
   "id": "d773a07a",
   "metadata": {},
   "outputs": [
    {
     "name": "stdout",
     "output_type": "stream",
     "text": [
      "******************** answer ********************\n",
      "이해했습니다.\n",
      "****************************************\n",
      "tokens: CompletionUsage(completion_tokens=5, prompt_tokens=118, total_tokens=123, completion_tokens_details=CompletionTokensDetails(accepted_prediction_tokens=0, audio_tokens=0, reasoning_tokens=0, rejected_prediction_tokens=0), prompt_tokens_details=PromptTokensDetails(audio_tokens=0, cached_tokens=0))\n",
      "CPU times: total: 31.2 ms\n",
      "Wall time: 1.44 s\n"
     ]
    }
   ],
   "source": [
    "%%time\n",
    "\n",
    "messages = []\n",
    "\n",
    "system_content = '''\n",
    "너는 for문을 사용할 수 없다.\n",
    "\n",
    "너는 아바타를 제어하는 명령어를 모른다.\n",
    "설명이 주어지지 않은 명령어는 사용할 수 없으며 '명령어를 모릅니다.' 문구를 출력한다.\n",
    "만약 명령어에 대한 설명이 틀리더라도 설명을 기준으로 명령어를 선택하여 파이썬 코드를 작성한다.\n",
    "\n",
    "이해했으면 ‘이해했습니다.’라는 문구를 출력한다.\n",
    "'''\n",
    "\n",
    "user_content = '''\n",
    "'''\n",
    "\n",
    "messages.append({\"role\": \"system\", \"content\": system_content})\n",
    "messages.append({\"role\": \"user\", \"content\": user_content})\n",
    "\n",
    "response = client.chat.completions.create(\n",
    "    model=model,\n",
    "    messages=messages)\n",
    "messages.append(response.choices[0].message)\n",
    "\n",
    "print('*'*20, 'answer', '*'*20)\n",
    "print(response.choices[0].message.content)\n",
    "print('*'*40)\n",
    "print('tokens:', response.usage)"
   ]
  },
  {
   "cell_type": "markdown",
   "id": "97115da5",
   "metadata": {},
   "source": [
    "## 명령어 설명 없이 test case 수행"
   ]
  },
  {
   "cell_type": "code",
   "execution_count": 3,
   "id": "57237647",
   "metadata": {},
   "outputs": [
    {
     "name": "stdout",
     "output_type": "stream",
     "text": [
      "******************** answer ********************\n",
      "이해했습니다.\n",
      "****************************************\n",
      "tokens: CompletionUsage(completion_tokens=5, prompt_tokens=173, total_tokens=178, completion_tokens_details=CompletionTokensDetails(accepted_prediction_tokens=0, audio_tokens=0, reasoning_tokens=0, rejected_prediction_tokens=0), prompt_tokens_details=PromptTokensDetails(audio_tokens=0, cached_tokens=0))\n",
      "CPU times: total: 31.2 ms\n",
      "Wall time: 753 ms\n"
     ]
    }
   ],
   "source": [
    "%%time\n",
    "\n",
    "user_content = '''\n",
    "Test case\n",
    " 각 문제에 맞는 코드를 작성한다. 결과는 코드 또는 ‘명령어를 모릅니다.’만 출력한다. 이해했으면 ‘이해했습니다.’ 문구 출력\n",
    "\n",
    "'''\n",
    "\n",
    "messages.append({\"role\": \"user\", \"content\": user_content})\n",
    "\n",
    "response = client.chat.completions.create(\n",
    "    model=model,\n",
    "    messages=messages)\n",
    "messages.append(response.choices[0].message)\n",
    "\n",
    "print('*'*20, 'answer', '*'*20)\n",
    "print(response.choices[0].message.content)\n",
    "print('*'*40)\n",
    "print('tokens:', response.usage)"
   ]
  },
  {
   "cell_type": "code",
   "execution_count": 4,
   "id": "43bddb7a",
   "metadata": {},
   "outputs": [
    {
     "name": "stdout",
     "output_type": "stream",
     "text": [
      "******************** answer ********************\n",
      "명령어를 모릅니다.\n",
      "****************************************\n",
      "tokens: CompletionUsage(completion_tokens=9, prompt_tokens=371, total_tokens=380, completion_tokens_details=CompletionTokensDetails(accepted_prediction_tokens=0, audio_tokens=0, reasoning_tokens=0, rejected_prediction_tokens=0), prompt_tokens_details=PromptTokensDetails(audio_tokens=0, cached_tokens=0))\n",
      "CPU times: total: 15.6 ms\n",
      "Wall time: 744 ms\n"
     ]
    }
   ],
   "source": [
    "%%time\n",
    "\n",
    "user_content = '''\n",
    "#1. MZ01PY001V\n",
    "아바타를 앞으로 한 칸 이동시킨다. 아바타를 앞으로 한 칸 이동시킨다. 아바타를 왼쪽으로 90도 회전시킨다. \n",
    "아바타를 앞으로 한 칸 이동시킨다. 아바타를 앞으로 한 칸 이동시킨다. 아바타를 오른쪽으로 90도 회전시킨다. \n",
    "아바타를 앞으로 한 칸 이동시킨다. 아바타를 앞으로 한 칸 이동시킨다. 아바타를 왼쪽으로 90도 회전시킨다. \n",
    "아바타를 앞으로 한 칸 이동시킨다. 아바타를 앞으로 한 칸 이동시킨다.\n",
    "(결과는 코드 또는 ‘명령어를 모릅니다.’만 출력)\n",
    "'''\n",
    "\n",
    "messages.append({\"role\": \"user\", \"content\": user_content})\n",
    "\n",
    "response = client.chat.completions.create(\n",
    "    model=model,\n",
    "    messages=messages)\n",
    "messages.append(response.choices[0].message)\n",
    "\n",
    "print('*'*20, 'answer', '*'*20)\n",
    "print(response.choices[0].message.content)\n",
    "print('*'*40)\n",
    "print('tokens:', response.usage)"
   ]
  },
  {
   "cell_type": "code",
   "execution_count": 5,
   "id": "816a41cd",
   "metadata": {},
   "outputs": [
    {
     "name": "stdout",
     "output_type": "stream",
     "text": [
      "******************** answer ********************\n",
      "명령어를 모릅니다.\n",
      "****************************************\n",
      "tokens: CompletionUsage(completion_tokens=9, prompt_tokens=639, total_tokens=648, completion_tokens_details=CompletionTokensDetails(accepted_prediction_tokens=0, audio_tokens=0, reasoning_tokens=0, rejected_prediction_tokens=0), prompt_tokens_details=PromptTokensDetails(audio_tokens=0, cached_tokens=0))\n",
      "CPU times: total: 15.6 ms\n",
      "Wall time: 778 ms\n"
     ]
    }
   ],
   "source": [
    "%%time\n",
    "\n",
    "user_content = '''\n",
    "#2. MZ01PY005\n",
    "아바타를 앞으로 한 칸 이동시킨다. 아바타를 왼쪽으로 90도 회전시킨다. 아바타를 앞으로 한 칸 이동시킨다. \n",
    "아바타를 오른쪽으로 90도 회전시킨다. 아바타를 앞으로 한 칸 이동시킨다. 아바타를 왼쪽으로 90도 회전시킨다. \n",
    "아바타를 앞으로 한 칸 이동시킨다. 아바타를 오른쪽으로 90도 회전시킨다. 아바타를 앞으로 한 칸 이동시킨다. \n",
    "아바타를 왼쪽으로 90도 회전시킨다. 아바타를 앞으로 한 칸 이동시킨다. 아바타를 오른쪽으로 90도 회전시킨다. \n",
    "아바타를 앞으로 한 칸 이동시킨다. 아바타를 왼쪽으로 90도 회전시킨다. 아바타를 앞으로 한 칸 이동시킨다.\n",
    "(결과는 코드 또는 ‘명령어를 모릅니다.’만 출력)\n",
    "\n",
    "'''\n",
    "\n",
    "messages.append({\"role\": \"user\", \"content\": user_content})\n",
    "\n",
    "response = client.chat.completions.create(\n",
    "    model=model,\n",
    "    messages=messages)\n",
    "messages.append(response.choices[0].message)\n",
    "\n",
    "print('*'*20, 'answer', '*'*20)\n",
    "print(response.choices[0].message.content)\n",
    "print('*'*40)\n",
    "print('tokens:', response.usage)"
   ]
  },
  {
   "cell_type": "code",
   "execution_count": 6,
   "id": "6a8d4f47",
   "metadata": {},
   "outputs": [
    {
     "name": "stdout",
     "output_type": "stream",
     "text": [
      "******************** answer ********************\n",
      "명령어를 모릅니다.\n",
      "****************************************\n",
      "tokens: CompletionUsage(completion_tokens=9, prompt_tokens=869, total_tokens=878, completion_tokens_details=CompletionTokensDetails(accepted_prediction_tokens=0, audio_tokens=0, reasoning_tokens=0, rejected_prediction_tokens=0), prompt_tokens_details=PromptTokensDetails(audio_tokens=0, cached_tokens=0))\n",
      "CPU times: total: 15.6 ms\n",
      "Wall time: 926 ms\n"
     ]
    }
   ],
   "source": [
    "%%time\n",
    "\n",
    "user_content = '''\n",
    "#3. MZ01PY011\n",
    "아바타를 앞으로 한 칸 이동시킨다. 아바타를 앞으로 한 칸 이동시킨다. 아바타를 오른쪽으로 90도 회전시킨다. \n",
    "아바타를 앞으로 한 칸 이동시킨다. 아바타를 앞으로 한 칸 이동시킨다. 아바타를 왼쪽으로 90도 회전시킨다. \n",
    "아바타를 앞으로 한 칸 이동시킨다. 아바타를 오른쪽으로 90도 회전시킨다. 아바타를 앞으로 한 칸 이동시킨다. \n",
    "아바타를 앞으로 한 칸 이동시킨다. 아바타를 앞으로 한 칸 이동시킨다. 아바타를 오른쪽으로 90도 회전시킨다. \n",
    "아바타를 앞으로 한 칸 이동시킨다.\n",
    "(결과는 코드 또는 ‘명령어를 모릅니다.’만 출력)\n",
    "\n",
    "'''\n",
    "\n",
    "messages.append({\"role\": \"user\", \"content\": user_content})\n",
    "\n",
    "response = client.chat.completions.create(\n",
    "    model=model,\n",
    "    messages=messages)\n",
    "messages.append(response.choices[0].message)\n",
    "\n",
    "print('*'*20, 'answer', '*'*20)\n",
    "print(response.choices[0].message.content)\n",
    "print('*'*40)\n",
    "print('tokens:', response.usage)"
   ]
  },
  {
   "cell_type": "markdown",
   "id": "42624c68",
   "metadata": {},
   "source": [
    "## 명령어 설명 - moveForward()"
   ]
  },
  {
   "cell_type": "code",
   "execution_count": 7,
   "id": "d2595c33",
   "metadata": {},
   "outputs": [
    {
     "name": "stdout",
     "output_type": "stream",
     "text": [
      "******************** answer ********************\n",
      "명령어를 이해했습니다.\n",
      "****************************************\n",
      "tokens: CompletionUsage(completion_tokens=8, prompt_tokens=966, total_tokens=974, completion_tokens_details=CompletionTokensDetails(accepted_prediction_tokens=0, audio_tokens=0, reasoning_tokens=0, rejected_prediction_tokens=0), prompt_tokens_details=PromptTokensDetails(audio_tokens=0, cached_tokens=0))\n",
      "CPU times: total: 15.6 ms\n",
      "Wall time: 743 ms\n"
     ]
    }
   ],
   "source": [
    "%%time\n",
    "\n",
    "user_content = '''\n",
    "명령어 설명\n",
    "\n",
    "moveForward(): 아바타를 한 칸 앞으로 이동시킨다.\n",
    "\n",
    "명령어 설명을 이해한 경우 '명령어를 이해했습니다.', 이해하지 못한 경우 '명령어를 이해할 수 없습니다.' 문구를 출력한다.\n",
    "('명령어를 이해할 수 없습니다.' 문구 출력시 명령어를 사용할 수 없다.)\n",
    "'''\n",
    "\n",
    "messages.append({\"role\": \"user\", \"content\": user_content})\n",
    "\n",
    "response = client.chat.completions.create(\n",
    "    model=model,\n",
    "    messages=messages)\n",
    "messages.append(response.choices[0].message)\n",
    "\n",
    "print('*'*20, 'answer', '*'*20)\n",
    "print(response.choices[0].message.content)\n",
    "print('*'*40)\n",
    "print('tokens:', response.usage)"
   ]
  },
  {
   "cell_type": "code",
   "execution_count": 8,
   "id": "dc4a7a29",
   "metadata": {},
   "outputs": [
    {
     "name": "stdout",
     "output_type": "stream",
     "text": [
      "******************** answer ********************\n",
      "이해했습니다.\n",
      "****************************************\n",
      "tokens: CompletionUsage(completion_tokens=5, prompt_tokens=1024, total_tokens=1029, completion_tokens_details=CompletionTokensDetails(accepted_prediction_tokens=0, audio_tokens=0, reasoning_tokens=0, rejected_prediction_tokens=0), prompt_tokens_details=PromptTokensDetails(audio_tokens=0, cached_tokens=0))\n",
      "CPU times: total: 31.2 ms\n",
      "Wall time: 778 ms\n"
     ]
    }
   ],
   "source": [
    "%%time\n",
    "\n",
    "user_content = '''\n",
    "Test case\n",
    " 각 문제에 맞는 코드를 작성한다. 결과는 코드 또는 ‘명령어를 모릅니다.’만 출력한다. 이해했으면 ‘이해했습니다.’ 문구 출력\n",
    "\n",
    "'''\n",
    "\n",
    "messages.append({\"role\": \"user\", \"content\": user_content})\n",
    "\n",
    "response = client.chat.completions.create(\n",
    "    model=model,\n",
    "    messages=messages)\n",
    "messages.append(response.choices[0].message)\n",
    "\n",
    "print('*'*20, 'answer', '*'*20)\n",
    "print(response.choices[0].message.content)\n",
    "print('*'*40)\n",
    "print('tokens:', response.usage)"
   ]
  },
  {
   "cell_type": "code",
   "execution_count": 9,
   "id": "5ffeb433",
   "metadata": {},
   "outputs": [
    {
     "name": "stdout",
     "output_type": "stream",
     "text": [
      "******************** answer ********************\n",
      "moveForward()\n",
      "moveForward()\n",
      "명령어를 모릅니다.\n",
      "****************************************\n",
      "tokens: CompletionUsage(completion_tokens=15, prompt_tokens=1222, total_tokens=1237, completion_tokens_details=CompletionTokensDetails(accepted_prediction_tokens=0, audio_tokens=0, reasoning_tokens=0, rejected_prediction_tokens=0), prompt_tokens_details=PromptTokensDetails(audio_tokens=0, cached_tokens=0))\n",
      "CPU times: total: 46.9 ms\n",
      "Wall time: 852 ms\n"
     ]
    }
   ],
   "source": [
    "%%time\n",
    "\n",
    "user_content = '''\n",
    "#1. MZ01PY001V\n",
    "아바타를 앞으로 한 칸 이동시킨다. 아바타를 앞으로 한 칸 이동시킨다. 아바타를 왼쪽으로 90도 회전시킨다. \n",
    "아바타를 앞으로 한 칸 이동시킨다. 아바타를 앞으로 한 칸 이동시킨다. 아바타를 오른쪽으로 90도 회전시킨다. \n",
    "아바타를 앞으로 한 칸 이동시킨다. 아바타를 앞으로 한 칸 이동시킨다. 아바타를 왼쪽으로 90도 회전시킨다. \n",
    "아바타를 앞으로 한 칸 이동시킨다. 아바타를 앞으로 한 칸 이동시킨다.\n",
    "(결과는 코드 또는 ‘명령어를 모릅니다.’만 출력)\n",
    "'''\n",
    "\n",
    "messages.append({\"role\": \"user\", \"content\": user_content})\n",
    "\n",
    "response = client.chat.completions.create(\n",
    "    model=model,\n",
    "    messages=messages)\n",
    "messages.append(response.choices[0].message)\n",
    "\n",
    "print('*'*20, 'answer', '*'*20)\n",
    "print(response.choices[0].message.content)\n",
    "print('*'*40)\n",
    "print('tokens:', response.usage)"
   ]
  },
  {
   "cell_type": "code",
   "execution_count": 10,
   "id": "2d914425",
   "metadata": {},
   "outputs": [
    {
     "name": "stdout",
     "output_type": "stream",
     "text": [
      "******************** answer ********************\n",
      "moveForward()\n",
      "명령어를 모릅니다.\n",
      "****************************************\n",
      "tokens: CompletionUsage(completion_tokens=12, prompt_tokens=1496, total_tokens=1508, completion_tokens_details=CompletionTokensDetails(accepted_prediction_tokens=0, audio_tokens=0, reasoning_tokens=0, rejected_prediction_tokens=0), prompt_tokens_details=PromptTokensDetails(audio_tokens=0, cached_tokens=1152))\n",
      "CPU times: total: 31.2 ms\n",
      "Wall time: 767 ms\n"
     ]
    }
   ],
   "source": [
    "%%time\n",
    "\n",
    "user_content = '''\n",
    "#2. MZ01PY005\n",
    "아바타를 앞으로 한 칸 이동시킨다. 아바타를 왼쪽으로 90도 회전시킨다. 아바타를 앞으로 한 칸 이동시킨다. \n",
    "아바타를 오른쪽으로 90도 회전시킨다. 아바타를 앞으로 한 칸 이동시킨다. 아바타를 왼쪽으로 90도 회전시킨다. \n",
    "아바타를 앞으로 한 칸 이동시킨다. 아바타를 오른쪽으로 90도 회전시킨다. 아바타를 앞으로 한 칸 이동시킨다. \n",
    "아바타를 왼쪽으로 90도 회전시킨다. 아바타를 앞으로 한 칸 이동시킨다. 아바타를 오른쪽으로 90도 회전시킨다. \n",
    "아바타를 앞으로 한 칸 이동시킨다. 아바타를 왼쪽으로 90도 회전시킨다. 아바타를 앞으로 한 칸 이동시킨다.\n",
    "(결과는 코드 또는 ‘명령어를 모릅니다.’만 출력)\n",
    "\n",
    "'''\n",
    "\n",
    "messages.append({\"role\": \"user\", \"content\": user_content})\n",
    "\n",
    "response = client.chat.completions.create(\n",
    "    model=model,\n",
    "    messages=messages)\n",
    "messages.append(response.choices[0].message)\n",
    "\n",
    "print('*'*20, 'answer', '*'*20)\n",
    "print(response.choices[0].message.content)\n",
    "print('*'*40)\n",
    "print('tokens:', response.usage)"
   ]
  },
  {
   "cell_type": "code",
   "execution_count": 11,
   "id": "e1ad4957",
   "metadata": {},
   "outputs": [
    {
     "name": "stdout",
     "output_type": "stream",
     "text": [
      "******************** answer ********************\n",
      "moveForward()\n",
      "moveForward()\n",
      "명령어를 모릅니다.\n",
      "****************************************\n",
      "tokens: CompletionUsage(completion_tokens=15, prompt_tokens=1729, total_tokens=1744, completion_tokens_details=CompletionTokensDetails(accepted_prediction_tokens=0, audio_tokens=0, reasoning_tokens=0, rejected_prediction_tokens=0), prompt_tokens_details=PromptTokensDetails(audio_tokens=0, cached_tokens=1408))\n",
      "CPU times: total: 46.9 ms\n",
      "Wall time: 964 ms\n"
     ]
    }
   ],
   "source": [
    "%%time\n",
    "\n",
    "user_content = '''\n",
    "#3. MZ01PY011\n",
    "아바타를 앞으로 한 칸 이동시킨다. 아바타를 앞으로 한 칸 이동시킨다. 아바타를 오른쪽으로 90도 회전시킨다. \n",
    "아바타를 앞으로 한 칸 이동시킨다. 아바타를 앞으로 한 칸 이동시킨다. 아바타를 왼쪽으로 90도 회전시킨다. \n",
    "아바타를 앞으로 한 칸 이동시킨다. 아바타를 오른쪽으로 90도 회전시킨다. 아바타를 앞으로 한 칸 이동시킨다. \n",
    "아바타를 앞으로 한 칸 이동시킨다. 아바타를 앞으로 한 칸 이동시킨다. 아바타를 오른쪽으로 90도 회전시킨다. \n",
    "아바타를 앞으로 한 칸 이동시킨다.\n",
    "(결과는 코드 또는 ‘명령어를 모릅니다.’만 출력)\n",
    "\n",
    "'''\n",
    "\n",
    "messages.append({\"role\": \"user\", \"content\": user_content})\n",
    "\n",
    "response = client.chat.completions.create(\n",
    "    model=model,\n",
    "    messages=messages)\n",
    "messages.append(response.choices[0].message)\n",
    "\n",
    "print('*'*20, 'answer', '*'*20)\n",
    "print(response.choices[0].message.content)\n",
    "print('*'*40)\n",
    "print('tokens:', response.usage)"
   ]
  },
  {
   "cell_type": "markdown",
   "id": "51b37ca7",
   "metadata": {},
   "source": [
    "## 명령어 설명 - turnLeft()"
   ]
  },
  {
   "cell_type": "code",
   "execution_count": 12,
   "id": "b3776b0c",
   "metadata": {},
   "outputs": [
    {
     "name": "stdout",
     "output_type": "stream",
     "text": [
      "******************** answer ********************\n",
      "명령어를 이해했습니다.\n",
      "****************************************\n",
      "tokens: CompletionUsage(completion_tokens=8, prompt_tokens=1836, total_tokens=1844, completion_tokens_details=CompletionTokensDetails(accepted_prediction_tokens=0, audio_tokens=0, reasoning_tokens=0, rejected_prediction_tokens=0), prompt_tokens_details=PromptTokensDetails(audio_tokens=0, cached_tokens=1664))\n",
      "CPU times: total: 46.9 ms\n",
      "Wall time: 913 ms\n"
     ]
    }
   ],
   "source": [
    "%%time\n",
    "\n",
    "user_content = '''\n",
    "명령어 설명\n",
    "\n",
    "turnLeft(): 아바타를 왼쪽으로 90도 회전시킨다.\n",
    "\n",
    "명령어 설명을 이해한 경우 '명령어를 이해했습니다.', 이해하지 못한 경우 '명령어를 이해할 수 없습니다.' 문구를 출력한다.\n",
    "('명령어를 이해할 수 없습니다.' 문구 출력시 명령어를 사용할 수 없다.)\n",
    "'''\n",
    "\n",
    "messages.append({\"role\": \"user\", \"content\": user_content})\n",
    "\n",
    "response = client.chat.completions.create(\n",
    "    model=model,\n",
    "    messages=messages)\n",
    "messages.append(response.choices[0].message)\n",
    "\n",
    "print('*'*20, 'answer', '*'*20)\n",
    "print(response.choices[0].message.content)\n",
    "print('*'*40)\n",
    "print('tokens:', response.usage)"
   ]
  },
  {
   "cell_type": "code",
   "execution_count": 13,
   "id": "f20daaec",
   "metadata": {},
   "outputs": [
    {
     "name": "stdout",
     "output_type": "stream",
     "text": [
      "******************** answer ********************\n",
      "이해했습니다.\n",
      "****************************************\n",
      "tokens: CompletionUsage(completion_tokens=5, prompt_tokens=1894, total_tokens=1899, completion_tokens_details=CompletionTokensDetails(accepted_prediction_tokens=0, audio_tokens=0, reasoning_tokens=0, rejected_prediction_tokens=0), prompt_tokens_details=PromptTokensDetails(audio_tokens=0, cached_tokens=1792))\n",
      "CPU times: total: 46.9 ms\n",
      "Wall time: 736 ms\n"
     ]
    }
   ],
   "source": [
    "%%time\n",
    "\n",
    "user_content = '''\n",
    "Test case\n",
    " 각 문제에 맞는 코드를 작성한다. 결과는 코드 또는 ‘명령어를 모릅니다.’만 출력한다. 이해했으면 ‘이해했습니다.’ 문구 출력\n",
    "\n",
    "'''\n",
    "\n",
    "messages.append({\"role\": \"user\", \"content\": user_content})\n",
    "\n",
    "response = client.chat.completions.create(\n",
    "    model=model,\n",
    "    messages=messages)\n",
    "messages.append(response.choices[0].message)\n",
    "\n",
    "print('*'*20, 'answer', '*'*20)\n",
    "print(response.choices[0].message.content)\n",
    "print('*'*40)\n",
    "print('tokens:', response.usage)"
   ]
  },
  {
   "cell_type": "code",
   "execution_count": 14,
   "id": "c4f2bf64",
   "metadata": {},
   "outputs": [
    {
     "name": "stdout",
     "output_type": "stream",
     "text": [
      "******************** answer ********************\n",
      "moveForward()\n",
      "moveForward()\n",
      "turnLeft()\n",
      "moveForward()\n",
      "moveForward()\n",
      "명령어를 모릅니다.\n",
      "****************************************\n",
      "tokens: CompletionUsage(completion_tokens=24, prompt_tokens=2092, total_tokens=2116, completion_tokens_details=CompletionTokensDetails(accepted_prediction_tokens=0, audio_tokens=0, reasoning_tokens=0, rejected_prediction_tokens=0), prompt_tokens_details=PromptTokensDetails(audio_tokens=0, cached_tokens=1792))\n",
      "CPU times: total: 46.9 ms\n",
      "Wall time: 1.12 s\n"
     ]
    }
   ],
   "source": [
    "%%time\n",
    "\n",
    "user_content = '''\n",
    "#1. MZ01PY001V\n",
    "아바타를 앞으로 한 칸 이동시킨다. 아바타를 앞으로 한 칸 이동시킨다. 아바타를 왼쪽으로 90도 회전시킨다. \n",
    "아바타를 앞으로 한 칸 이동시킨다. 아바타를 앞으로 한 칸 이동시킨다. 아바타를 오른쪽으로 90도 회전시킨다. \n",
    "아바타를 앞으로 한 칸 이동시킨다. 아바타를 앞으로 한 칸 이동시킨다. 아바타를 왼쪽으로 90도 회전시킨다. \n",
    "아바타를 앞으로 한 칸 이동시킨다. 아바타를 앞으로 한 칸 이동시킨다.\n",
    "(결과는 코드 또는 ‘명령어를 모릅니다.’만 출력)\n",
    "'''\n",
    "\n",
    "messages.append({\"role\": \"user\", \"content\": user_content})\n",
    "\n",
    "response = client.chat.completions.create(\n",
    "    model=model,\n",
    "    messages=messages)\n",
    "messages.append(response.choices[0].message)\n",
    "\n",
    "print('*'*20, 'answer', '*'*20)\n",
    "print(response.choices[0].message.content)\n",
    "print('*'*40)\n",
    "print('tokens:', response.usage)"
   ]
  },
  {
   "cell_type": "code",
   "execution_count": 15,
   "id": "a315b441",
   "metadata": {},
   "outputs": [
    {
     "name": "stdout",
     "output_type": "stream",
     "text": [
      "******************** answer ********************\n",
      "moveForward()\n",
      "turnLeft()\n",
      "moveForward()\n",
      "명령어를 모릅니다.\n",
      "****************************************\n",
      "tokens: CompletionUsage(completion_tokens=18, prompt_tokens=2375, total_tokens=2393, completion_tokens_details=CompletionTokensDetails(accepted_prediction_tokens=0, audio_tokens=0, reasoning_tokens=0, rejected_prediction_tokens=0), prompt_tokens_details=PromptTokensDetails(audio_tokens=0, cached_tokens=2048))\n",
      "CPU times: total: 46.9 ms\n",
      "Wall time: 907 ms\n"
     ]
    }
   ],
   "source": [
    "%%time\n",
    "\n",
    "user_content = '''\n",
    "#2. MZ01PY005\n",
    "아바타를 앞으로 한 칸 이동시킨다. 아바타를 왼쪽으로 90도 회전시킨다. 아바타를 앞으로 한 칸 이동시킨다. \n",
    "아바타를 오른쪽으로 90도 회전시킨다. 아바타를 앞으로 한 칸 이동시킨다. 아바타를 왼쪽으로 90도 회전시킨다. \n",
    "아바타를 앞으로 한 칸 이동시킨다. 아바타를 오른쪽으로 90도 회전시킨다. 아바타를 앞으로 한 칸 이동시킨다. \n",
    "아바타를 왼쪽으로 90도 회전시킨다. 아바타를 앞으로 한 칸 이동시킨다. 아바타를 오른쪽으로 90도 회전시킨다. \n",
    "아바타를 앞으로 한 칸 이동시킨다. 아바타를 왼쪽으로 90도 회전시킨다. 아바타를 앞으로 한 칸 이동시킨다.\n",
    "(결과는 코드 또는 ‘명령어를 모릅니다.’만 출력)\n",
    "\n",
    "'''\n",
    "\n",
    "messages.append({\"role\": \"user\", \"content\": user_content})\n",
    "\n",
    "response = client.chat.completions.create(\n",
    "    model=model,\n",
    "    messages=messages)\n",
    "messages.append(response.choices[0].message)\n",
    "\n",
    "print('*'*20, 'answer', '*'*20)\n",
    "print(response.choices[0].message.content)\n",
    "print('*'*40)\n",
    "print('tokens:', response.usage)"
   ]
  },
  {
   "cell_type": "code",
   "execution_count": 16,
   "id": "00aeeb5c",
   "metadata": {},
   "outputs": [
    {
     "name": "stdout",
     "output_type": "stream",
     "text": [
      "******************** answer ********************\n",
      "moveForward()\n",
      "moveForward()\n",
      "명령어를 모릅니다.\n",
      "****************************************\n",
      "tokens: CompletionUsage(completion_tokens=15, prompt_tokens=2614, total_tokens=2629, completion_tokens_details=CompletionTokensDetails(accepted_prediction_tokens=0, audio_tokens=0, reasoning_tokens=0, rejected_prediction_tokens=0), prompt_tokens_details=PromptTokensDetails(audio_tokens=0, cached_tokens=2304))\n",
      "CPU times: total: 62.5 ms\n",
      "Wall time: 826 ms\n"
     ]
    }
   ],
   "source": [
    "%%time\n",
    "\n",
    "user_content = '''\n",
    "#3. MZ01PY011\n",
    "아바타를 앞으로 한 칸 이동시킨다. 아바타를 앞으로 한 칸 이동시킨다. 아바타를 오른쪽으로 90도 회전시킨다. \n",
    "아바타를 앞으로 한 칸 이동시킨다. 아바타를 앞으로 한 칸 이동시킨다. 아바타를 왼쪽으로 90도 회전시킨다. \n",
    "아바타를 앞으로 한 칸 이동시킨다. 아바타를 오른쪽으로 90도 회전시킨다. 아바타를 앞으로 한 칸 이동시킨다. \n",
    "아바타를 앞으로 한 칸 이동시킨다. 아바타를 앞으로 한 칸 이동시킨다. 아바타를 오른쪽으로 90도 회전시킨다. \n",
    "아바타를 앞으로 한 칸 이동시킨다.\n",
    "(결과는 코드 또는 ‘명령어를 모릅니다.’만 출력)\n",
    "\n",
    "'''\n",
    "\n",
    "messages.append({\"role\": \"user\", \"content\": user_content})\n",
    "\n",
    "response = client.chat.completions.create(\n",
    "    model=model,\n",
    "    messages=messages)\n",
    "messages.append(response.choices[0].message)\n",
    "\n",
    "print('*'*20, 'answer', '*'*20)\n",
    "print(response.choices[0].message.content)\n",
    "print('*'*40)\n",
    "print('tokens:', response.usage)"
   ]
  },
  {
   "cell_type": "markdown",
   "id": "a04d91fc",
   "metadata": {},
   "source": [
    "## 명령어 설명 - turnRight()"
   ]
  },
  {
   "cell_type": "code",
   "execution_count": 17,
   "id": "55444765",
   "metadata": {},
   "outputs": [
    {
     "name": "stdout",
     "output_type": "stream",
     "text": [
      "******************** answer ********************\n",
      "명령어를 이해했습니다.\n",
      "****************************************\n",
      "tokens: CompletionUsage(completion_tokens=8, prompt_tokens=2723, total_tokens=2731, completion_tokens_details=CompletionTokensDetails(accepted_prediction_tokens=0, audio_tokens=0, reasoning_tokens=0, rejected_prediction_tokens=0), prompt_tokens_details=PromptTokensDetails(audio_tokens=0, cached_tokens=2560))\n",
      "CPU times: total: 78.1 ms\n",
      "Wall time: 793 ms\n"
     ]
    }
   ],
   "source": [
    "%%time\n",
    "\n",
    "user_content = '''\n",
    "명령어 설명\n",
    "\n",
    "turnRight(): turnRight(): 아바타를 오른쪽으로 90도 회전시킨다.\n",
    "\n",
    "명령어 설명을 이해한 경우 '명령어를 이해했습니다.', 이해하지 못한 경우 '명령어를 이해할 수 없습니다.' 문구를 출력한다.\n",
    "('명령어를 이해할 수 없습니다.' 문구 출력시 명령어를 사용할 수 없다.)\n",
    "'''\n",
    "\n",
    "messages.append({\"role\": \"user\", \"content\": user_content})\n",
    "\n",
    "response = client.chat.completions.create(\n",
    "    model=model,\n",
    "    messages=messages)\n",
    "messages.append(response.choices[0].message)\n",
    "\n",
    "print('*'*20, 'answer', '*'*20)\n",
    "print(response.choices[0].message.content)\n",
    "print('*'*40)\n",
    "print('tokens:', response.usage)"
   ]
  },
  {
   "cell_type": "code",
   "execution_count": 18,
   "id": "c7d746b4",
   "metadata": {},
   "outputs": [
    {
     "name": "stdout",
     "output_type": "stream",
     "text": [
      "******************** answer ********************\n",
      "이해했습니다.\n",
      "****************************************\n",
      "tokens: CompletionUsage(completion_tokens=5, prompt_tokens=2781, total_tokens=2786, completion_tokens_details=CompletionTokensDetails(accepted_prediction_tokens=0, audio_tokens=0, reasoning_tokens=0, rejected_prediction_tokens=0), prompt_tokens_details=PromptTokensDetails(audio_tokens=0, cached_tokens=0))\n",
      "CPU times: total: 62.5 ms\n",
      "Wall time: 861 ms\n"
     ]
    }
   ],
   "source": [
    "%%time\n",
    "\n",
    "user_content = '''\n",
    "Test case\n",
    " 각 문제에 맞는 코드를 작성한다. 결과는 코드 또는 ‘명령어를 모릅니다.’만 출력한다. 이해했으면 ‘이해했습니다.’ 문구 출력\n",
    "\n",
    "'''\n",
    "\n",
    "messages.append({\"role\": \"user\", \"content\": user_content})\n",
    "\n",
    "response = client.chat.completions.create(\n",
    "    model=model,\n",
    "    messages=messages)\n",
    "messages.append(response.choices[0].message)\n",
    "\n",
    "print('*'*20, 'answer', '*'*20)\n",
    "print(response.choices[0].message.content)\n",
    "print('*'*40)\n",
    "print('tokens:', response.usage)"
   ]
  },
  {
   "cell_type": "code",
   "execution_count": 19,
   "id": "e7ab8f5f",
   "metadata": {},
   "outputs": [
    {
     "name": "stdout",
     "output_type": "stream",
     "text": [
      "******************** answer ********************\n",
      "moveForward()\n",
      "moveForward()\n",
      "turnLeft()\n",
      "moveForward()\n",
      "moveForward()\n",
      "turnRight()\n",
      "moveForward()\n",
      "moveForward()\n",
      "turnLeft()\n",
      "moveForward()\n",
      "moveForward()\n",
      "****************************************\n",
      "tokens: CompletionUsage(completion_tokens=34, prompt_tokens=2979, total_tokens=3013, completion_tokens_details=CompletionTokensDetails(accepted_prediction_tokens=0, audio_tokens=0, reasoning_tokens=0, rejected_prediction_tokens=0), prompt_tokens_details=PromptTokensDetails(audio_tokens=0, cached_tokens=2688))\n",
      "CPU times: total: 62.5 ms\n",
      "Wall time: 1.18 s\n"
     ]
    }
   ],
   "source": [
    "%%time\n",
    "\n",
    "user_content = '''\n",
    "#1. MZ01PY001V\n",
    "아바타를 앞으로 한 칸 이동시킨다. 아바타를 앞으로 한 칸 이동시킨다. 아바타를 왼쪽으로 90도 회전시킨다. \n",
    "아바타를 앞으로 한 칸 이동시킨다. 아바타를 앞으로 한 칸 이동시킨다. 아바타를 오른쪽으로 90도 회전시킨다. \n",
    "아바타를 앞으로 한 칸 이동시킨다. 아바타를 앞으로 한 칸 이동시킨다. 아바타를 왼쪽으로 90도 회전시킨다. \n",
    "아바타를 앞으로 한 칸 이동시킨다. 아바타를 앞으로 한 칸 이동시킨다.\n",
    "(결과는 코드 또는 ‘명령어를 모릅니다.’만 출력)\n",
    "'''\n",
    "\n",
    "messages.append({\"role\": \"user\", \"content\": user_content})\n",
    "\n",
    "response = client.chat.completions.create(\n",
    "    model=model,\n",
    "    messages=messages)\n",
    "messages.append(response.choices[0].message)\n",
    "\n",
    "print('*'*20, 'answer', '*'*20)\n",
    "print(response.choices[0].message.content)\n",
    "print('*'*40)\n",
    "print('tokens:', response.usage)"
   ]
  },
  {
   "cell_type": "code",
   "execution_count": 20,
   "id": "15a16405",
   "metadata": {},
   "outputs": [
    {
     "name": "stdout",
     "output_type": "stream",
     "text": [
      "******************** answer ********************\n",
      "moveForward()\n",
      "turnLeft()\n",
      "moveForward()\n",
      "turnRight()\n",
      "moveForward()\n",
      "turnLeft()\n",
      "moveForward()\n",
      "turnRight()\n",
      "moveForward()\n",
      "turnLeft()\n",
      "moveForward()\n",
      "turnRight()\n",
      "moveForward()\n",
      "turnLeft()\n",
      "moveForward()\n",
      "****************************************\n",
      "tokens: CompletionUsage(completion_tokens=46, prompt_tokens=3272, total_tokens=3318, completion_tokens_details=CompletionTokensDetails(accepted_prediction_tokens=0, audio_tokens=0, reasoning_tokens=0, rejected_prediction_tokens=0), prompt_tokens_details=PromptTokensDetails(audio_tokens=0, cached_tokens=0))\n",
      "CPU times: total: 78.1 ms\n",
      "Wall time: 977 ms\n"
     ]
    }
   ],
   "source": [
    "%%time\n",
    "\n",
    "user_content = '''\n",
    "#2. MZ01PY005\n",
    "아바타를 앞으로 한 칸 이동시킨다. 아바타를 왼쪽으로 90도 회전시킨다. 아바타를 앞으로 한 칸 이동시킨다. \n",
    "아바타를 오른쪽으로 90도 회전시킨다. 아바타를 앞으로 한 칸 이동시킨다. 아바타를 왼쪽으로 90도 회전시킨다. \n",
    "아바타를 앞으로 한 칸 이동시킨다. 아바타를 오른쪽으로 90도 회전시킨다. 아바타를 앞으로 한 칸 이동시킨다. \n",
    "아바타를 왼쪽으로 90도 회전시킨다. 아바타를 앞으로 한 칸 이동시킨다. 아바타를 오른쪽으로 90도 회전시킨다. \n",
    "아바타를 앞으로 한 칸 이동시킨다. 아바타를 왼쪽으로 90도 회전시킨다. 아바타를 앞으로 한 칸 이동시킨다.\n",
    "(결과는 코드 또는 ‘명령어를 모릅니다.’만 출력)\n",
    "\n",
    "'''\n",
    "\n",
    "messages.append({\"role\": \"user\", \"content\": user_content})\n",
    "\n",
    "response = client.chat.completions.create(\n",
    "    model=model,\n",
    "    messages=messages)\n",
    "messages.append(response.choices[0].message)\n",
    "\n",
    "print('*'*20, 'answer', '*'*20)\n",
    "print(response.choices[0].message.content)\n",
    "print('*'*40)\n",
    "print('tokens:', response.usage)"
   ]
  },
  {
   "cell_type": "code",
   "execution_count": 21,
   "id": "e0e139d5",
   "metadata": {},
   "outputs": [
    {
     "name": "stdout",
     "output_type": "stream",
     "text": [
      "******************** answer ********************\n",
      "moveForward()\n",
      "moveForward()\n",
      "turnRight()\n",
      "moveForward()\n",
      "moveForward()\n",
      "turnLeft()\n",
      "moveForward()\n",
      "turnRight()\n",
      "moveForward()\n",
      "moveForward()\n",
      "moveForward()\n",
      "turnRight()\n",
      "moveForward()\n",
      "****************************************\n",
      "tokens: CompletionUsage(completion_tokens=40, prompt_tokens=3539, total_tokens=3579, completion_tokens_details=CompletionTokensDetails(accepted_prediction_tokens=0, audio_tokens=0, reasoning_tokens=0, rejected_prediction_tokens=0), prompt_tokens_details=PromptTokensDetails(audio_tokens=0, cached_tokens=2944))\n",
      "CPU times: total: 78.1 ms\n",
      "Wall time: 1.14 s\n"
     ]
    }
   ],
   "source": [
    "%%time\n",
    "\n",
    "user_content = '''\n",
    "#3. MZ01PY011\n",
    "아바타를 앞으로 한 칸 이동시킨다. 아바타를 앞으로 한 칸 이동시킨다. 아바타를 오른쪽으로 90도 회전시킨다. \n",
    "아바타를 앞으로 한 칸 이동시킨다. 아바타를 앞으로 한 칸 이동시킨다. 아바타를 왼쪽으로 90도 회전시킨다. \n",
    "아바타를 앞으로 한 칸 이동시킨다. 아바타를 오른쪽으로 90도 회전시킨다. 아바타를 앞으로 한 칸 이동시킨다. \n",
    "아바타를 앞으로 한 칸 이동시킨다. 아바타를 앞으로 한 칸 이동시킨다. 아바타를 오른쪽으로 90도 회전시킨다. \n",
    "아바타를 앞으로 한 칸 이동시킨다.\n",
    "(결과는 코드 또는 ‘명령어를 모릅니다.’만 출력)\n",
    "\n",
    "'''\n",
    "\n",
    "messages.append({\"role\": \"user\", \"content\": user_content})\n",
    "\n",
    "response = client.chat.completions.create(\n",
    "    model=model,\n",
    "    messages=messages)\n",
    "messages.append(response.choices[0].message)\n",
    "\n",
    "print('*'*20, 'answer', '*'*20)\n",
    "print(response.choices[0].message.content)\n",
    "print('*'*40)\n",
    "print('tokens:', response.usage)"
   ]
  },
  {
   "cell_type": "markdown",
   "id": "ca476bc6",
   "metadata": {},
   "source": [
    "## 명령어 설명 - 한번에 모두 설명"
   ]
  },
  {
   "cell_type": "code",
   "execution_count": 22,
   "id": "23e6dcc0",
   "metadata": {},
   "outputs": [
    {
     "name": "stdout",
     "output_type": "stream",
     "text": [
      "******************** answer ********************\n",
      "명령어를 이해했습니다.\n",
      "****************************************\n",
      "tokens: CompletionUsage(completion_tokens=8, prompt_tokens=3706, total_tokens=3714, completion_tokens_details=CompletionTokensDetails(accepted_prediction_tokens=0, audio_tokens=0, reasoning_tokens=0, rejected_prediction_tokens=0), prompt_tokens_details=PromptTokensDetails(audio_tokens=0, cached_tokens=3456))\n",
      "CPU times: total: 78.1 ms\n",
      "Wall time: 842 ms\n"
     ]
    }
   ],
   "source": [
    "%%time\n",
    "\n",
    "user_content = '''\n",
    "명령어 설명\n",
    "\n",
    "moveForward(): 아바타를 한 칸 앞으로 이동시킨다.\n",
    "turnLeft(): 아바타를 왼쪽으로 90도 회전시킨다.\n",
    "turnRight(): 아바타를 오른쪽으로 90도 회전시킨다.\n",
    "\n",
    "명령어 설명을 이해한 경우 '명령어를 이해했습니다.', 이해하지 못한 경우 '명령어를 이해할 수 없습니다.' 문구를 출력한다.\n",
    "('명령어를 이해할 수 없습니다.' 문구 출력시 명령어를 사용할 수 없다.)\n",
    "'''\n",
    "\n",
    "messages.append({\"role\": \"user\", \"content\": user_content})\n",
    "\n",
    "response = client.chat.completions.create(\n",
    "    model=model,\n",
    "    messages=messages)\n",
    "messages.append(response.choices[0].message)\n",
    "\n",
    "print('*'*20, 'answer', '*'*20)\n",
    "print(response.choices[0].message.content)\n",
    "print('*'*40)\n",
    "print('tokens:', response.usage)"
   ]
  },
  {
   "cell_type": "code",
   "execution_count": 23,
   "id": "238684b8",
   "metadata": {},
   "outputs": [
    {
     "name": "stdout",
     "output_type": "stream",
     "text": [
      "******************** answer ********************\n",
      "이해했습니다.\n",
      "****************************************\n",
      "tokens: CompletionUsage(completion_tokens=5, prompt_tokens=3764, total_tokens=3769, completion_tokens_details=CompletionTokensDetails(accepted_prediction_tokens=0, audio_tokens=0, reasoning_tokens=0, rejected_prediction_tokens=0), prompt_tokens_details=PromptTokensDetails(audio_tokens=0, cached_tokens=0))\n",
      "CPU times: total: 78.1 ms\n",
      "Wall time: 1 s\n"
     ]
    }
   ],
   "source": [
    "%%time\n",
    "\n",
    "user_content = '''\n",
    "Test case\n",
    " 각 문제에 맞는 코드를 작성한다. 결과는 코드 또는 ‘명령어를 모릅니다.’만 출력한다. 이해했으면 ‘이해했습니다.’ 문구 출력\n",
    "\n",
    "'''\n",
    "\n",
    "messages.append({\"role\": \"user\", \"content\": user_content})\n",
    "\n",
    "response = client.chat.completions.create(\n",
    "    model=model,\n",
    "    messages=messages)\n",
    "messages.append(response.choices[0].message)\n",
    "\n",
    "print('*'*20, 'answer', '*'*20)\n",
    "print(response.choices[0].message.content)\n",
    "print('*'*40)\n",
    "print('tokens:', response.usage)"
   ]
  },
  {
   "cell_type": "code",
   "execution_count": 24,
   "id": "d6ea5cb4",
   "metadata": {},
   "outputs": [
    {
     "name": "stdout",
     "output_type": "stream",
     "text": [
      "******************** answer ********************\n",
      "moveForward()\n",
      "moveForward()\n",
      "turnLeft()\n",
      "moveForward()\n",
      "moveForward()\n",
      "turnRight()\n",
      "moveForward()\n",
      "moveForward()\n",
      "turnLeft()\n",
      "moveForward()\n",
      "moveForward()\n",
      "****************************************\n",
      "tokens: CompletionUsage(completion_tokens=34, prompt_tokens=3962, total_tokens=3996, completion_tokens_details=CompletionTokensDetails(accepted_prediction_tokens=0, audio_tokens=0, reasoning_tokens=0, rejected_prediction_tokens=0), prompt_tokens_details=PromptTokensDetails(audio_tokens=0, cached_tokens=3584))\n",
      "CPU times: total: 93.8 ms\n",
      "Wall time: 1.36 s\n"
     ]
    }
   ],
   "source": [
    "%%time\n",
    "\n",
    "user_content = '''\n",
    "#1. MZ01PY001V\n",
    "아바타를 앞으로 한 칸 이동시킨다. 아바타를 앞으로 한 칸 이동시킨다. 아바타를 왼쪽으로 90도 회전시킨다. \n",
    "아바타를 앞으로 한 칸 이동시킨다. 아바타를 앞으로 한 칸 이동시킨다. 아바타를 오른쪽으로 90도 회전시킨다. \n",
    "아바타를 앞으로 한 칸 이동시킨다. 아바타를 앞으로 한 칸 이동시킨다. 아바타를 왼쪽으로 90도 회전시킨다. \n",
    "아바타를 앞으로 한 칸 이동시킨다. 아바타를 앞으로 한 칸 이동시킨다.\n",
    "(결과는 코드 또는 ‘명령어를 모릅니다.’만 출력)\n",
    "'''\n",
    "\n",
    "messages.append({\"role\": \"user\", \"content\": user_content})\n",
    "\n",
    "response = client.chat.completions.create(\n",
    "    model=model,\n",
    "    messages=messages)\n",
    "messages.append(response.choices[0].message)\n",
    "\n",
    "print('*'*20, 'answer', '*'*20)\n",
    "print(response.choices[0].message.content)\n",
    "print('*'*40)\n",
    "print('tokens:', response.usage)"
   ]
  },
  {
   "cell_type": "code",
   "execution_count": 25,
   "id": "82ff05db",
   "metadata": {},
   "outputs": [
    {
     "name": "stdout",
     "output_type": "stream",
     "text": [
      "******************** answer ********************\n",
      "moveForward()\n",
      "turnLeft()\n",
      "moveForward()\n",
      "turnRight()\n",
      "moveForward()\n",
      "turnLeft()\n",
      "moveForward()\n",
      "turnRight()\n",
      "moveForward()\n",
      "turnLeft()\n",
      "moveForward()\n",
      "turnRight()\n",
      "moveForward()\n",
      "turnLeft()\n",
      "moveForward()\n",
      "****************************************\n",
      "tokens: CompletionUsage(completion_tokens=46, prompt_tokens=4255, total_tokens=4301, completion_tokens_details=CompletionTokensDetails(accepted_prediction_tokens=0, audio_tokens=0, reasoning_tokens=0, rejected_prediction_tokens=0), prompt_tokens_details=PromptTokensDetails(audio_tokens=0, cached_tokens=3968))\n",
      "CPU times: total: 93.8 ms\n",
      "Wall time: 1.62 s\n"
     ]
    }
   ],
   "source": [
    "%%time\n",
    "\n",
    "user_content = '''\n",
    "#2. MZ01PY005\n",
    "아바타를 앞으로 한 칸 이동시킨다. 아바타를 왼쪽으로 90도 회전시킨다. 아바타를 앞으로 한 칸 이동시킨다. \n",
    "아바타를 오른쪽으로 90도 회전시킨다. 아바타를 앞으로 한 칸 이동시킨다. 아바타를 왼쪽으로 90도 회전시킨다. \n",
    "아바타를 앞으로 한 칸 이동시킨다. 아바타를 오른쪽으로 90도 회전시킨다. 아바타를 앞으로 한 칸 이동시킨다. \n",
    "아바타를 왼쪽으로 90도 회전시킨다. 아바타를 앞으로 한 칸 이동시킨다. 아바타를 오른쪽으로 90도 회전시킨다. \n",
    "아바타를 앞으로 한 칸 이동시킨다. 아바타를 왼쪽으로 90도 회전시킨다. 아바타를 앞으로 한 칸 이동시킨다.\n",
    "(결과는 코드 또는 ‘명령어를 모릅니다.’만 출력)\n",
    "\n",
    "'''\n",
    "\n",
    "messages.append({\"role\": \"user\", \"content\": user_content})\n",
    "\n",
    "response = client.chat.completions.create(\n",
    "    model=model,\n",
    "    messages=messages)\n",
    "messages.append(response.choices[0].message)\n",
    "\n",
    "print('*'*20, 'answer', '*'*20)\n",
    "print(response.choices[0].message.content)\n",
    "print('*'*40)\n",
    "print('tokens:', response.usage)"
   ]
  },
  {
   "cell_type": "code",
   "execution_count": 26,
   "id": "25cea71c",
   "metadata": {},
   "outputs": [
    {
     "name": "stdout",
     "output_type": "stream",
     "text": [
      "******************** answer ********************\n",
      "moveForward()\n",
      "moveForward()\n",
      "turnRight()\n",
      "moveForward()\n",
      "moveForward()\n",
      "turnLeft()\n",
      "moveForward()\n",
      "turnRight()\n",
      "moveForward()\n",
      "moveForward()\n",
      "moveForward()\n",
      "turnRight()\n",
      "moveForward()\n",
      "****************************************\n",
      "tokens: CompletionUsage(completion_tokens=40, prompt_tokens=4522, total_tokens=4562, completion_tokens_details=CompletionTokensDetails(accepted_prediction_tokens=0, audio_tokens=0, reasoning_tokens=0, rejected_prediction_tokens=0), prompt_tokens_details=PromptTokensDetails(audio_tokens=0, cached_tokens=4224))\n",
      "CPU times: total: 93.8 ms\n",
      "Wall time: 1.35 s\n"
     ]
    }
   ],
   "source": [
    "%%time\n",
    "\n",
    "user_content = '''\n",
    "#3. MZ01PY011\n",
    "아바타를 앞으로 한 칸 이동시킨다. 아바타를 앞으로 한 칸 이동시킨다. 아바타를 오른쪽으로 90도 회전시킨다. \n",
    "아바타를 앞으로 한 칸 이동시킨다. 아바타를 앞으로 한 칸 이동시킨다. 아바타를 왼쪽으로 90도 회전시킨다. \n",
    "아바타를 앞으로 한 칸 이동시킨다. 아바타를 오른쪽으로 90도 회전시킨다. 아바타를 앞으로 한 칸 이동시킨다. \n",
    "아바타를 앞으로 한 칸 이동시킨다. 아바타를 앞으로 한 칸 이동시킨다. 아바타를 오른쪽으로 90도 회전시킨다. \n",
    "아바타를 앞으로 한 칸 이동시킨다.\n",
    "(결과는 코드 또는 ‘명령어를 모릅니다.’만 출력)\n",
    "\n",
    "'''\n",
    "\n",
    "messages.append({\"role\": \"user\", \"content\": user_content})\n",
    "\n",
    "response = client.chat.completions.create(\n",
    "    model=model,\n",
    "    messages=messages)\n",
    "messages.append(response.choices[0].message)\n",
    "\n",
    "print('*'*20, 'answer', '*'*20)\n",
    "print(response.choices[0].message.content)\n",
    "print('*'*40)\n",
    "print('tokens:', response.usage)"
   ]
  }
 ],
 "metadata": {
  "kernelspec": {
   "display_name": "base",
   "language": "python",
   "name": "python3"
  },
  "language_info": {
   "codemirror_mode": {
    "name": "ipython",
    "version": 3
   },
   "file_extension": ".py",
   "mimetype": "text/x-python",
   "name": "python",
   "nbconvert_exporter": "python",
   "pygments_lexer": "ipython3",
   "version": "3.10.9"
  }
 },
 "nbformat": 4,
 "nbformat_minor": 5
}
