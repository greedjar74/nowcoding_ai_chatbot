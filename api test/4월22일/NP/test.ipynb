{
 "cells": [
  {
   "cell_type": "markdown",
   "id": "10250196",
   "metadata": {},
   "source": [
    "# chapter "
   ]
  },
  {
   "cell_type": "markdown",
   "id": "e0faa705",
   "metadata": {},
   "source": [
    "## Setting\n",
    "- GPT 모델 설정 필요"
   ]
  },
  {
   "cell_type": "code",
   "execution_count": 1,
   "id": "c83cee6a",
   "metadata": {},
   "outputs": [],
   "source": [
    "import os\n",
    "key_file = open('key.txt', 'r')\n",
    "os.environ['OPENAI_API_KEY'] = key_file.readline()\n",
    "key_file.close()\n",
    "from openai import OpenAI\n",
    "client = OpenAI()\n",
    "model = \"o4-mini\""
   ]
  },
  {
   "cell_type": "code",
   "execution_count": 2,
   "id": "d773a07a",
   "metadata": {},
   "outputs": [
    {
     "name": "stdout",
     "output_type": "stream",
     "text": [
      "******************** answer ********************\n",
      "안녕하세요! 메이즈 게임 구현을 도와드리겠습니다. 우선 몇 가지 사항을 정하고 시작하면 좋을 것 같습니다.\n",
      "\n",
      "1. 실행 환경\n",
      "  - 텍스트(콘솔) 기반인가요, 아니면 Pygame 같은 그래픽 라이브러리를 사용할 계획인가요?  \n",
      "2. 미로 생성 방식\n",
      "  - 미로를 랜덤 생성할 것인지, 아니면 미리 정의된 맵을 불러올 것인지요?  \n",
      "3. 아바타 조작\n",
      "  - 키보드 방향키로 직접 움직이게 할 건가요, 아니면 자동 경로 탐색(예: BFS/DFS)로 도착점까지 가도록 할 건가요?  \n",
      "4. 추가 기능\n",
      "  - 타이머, 아이템, 점수 시스템 등 부가 요소가 필요한지요?\n",
      "\n",
      "위 정보를 알려주시면 예제 코드 구조나 구현 방안을 구체적으로 제안해 드리겠습니다. 어떤 형태로 진행할지 알려주세요!\n",
      "****************************************\n",
      "tokens: CompletionUsage(completion_tokens=359, prompt_tokens=49, total_tokens=408, completion_tokens_details=CompletionTokensDetails(accepted_prediction_tokens=0, audio_tokens=0, reasoning_tokens=128, rejected_prediction_tokens=0), prompt_tokens_details=PromptTokensDetails(audio_tokens=0, cached_tokens=0))\n",
      "CPU times: total: 31.2 ms\n",
      "Wall time: 5.96 s\n"
     ]
    }
   ],
   "source": [
    "%%time\n",
    "\n",
    "messages = []\n",
    "\n",
    "system_content = '''\n",
    "# 게임 설명\n",
    "메이즈 게임은 미로 찾기 게임이고, 파이썬으로 아바타가 도착점으로 가도록 만들어야 하는 게임이다\n",
    "'''\n",
    "\n",
    "user_content = '''\n",
    "'''\n",
    "\n",
    "messages.append({\"role\": \"system\", \"content\": system_content})\n",
    "messages.append({\"role\": \"user\", \"content\": user_content})\n",
    "\n",
    "response = client.chat.completions.create(\n",
    "    model=model,\n",
    "    messages=messages)\n",
    "messages.append(response.choices[0].message)\n",
    "\n",
    "print('*'*20, 'answer', '*'*20)\n",
    "print(response.choices[0].message.content)\n",
    "print('*'*40)\n",
    "print('tokens:', response.usage)"
   ]
  },
  {
   "cell_type": "code",
   "execution_count": 3,
   "id": "57237647",
   "metadata": {},
   "outputs": [
    {
     "name": "stdout",
     "output_type": "stream",
     "text": [
      "******************** answer ********************\n",
      "이해했습니다\n",
      "****************************************\n",
      "tokens: CompletionUsage(completion_tokens=86, prompt_tokens=384, total_tokens=470, completion_tokens_details=CompletionTokensDetails(accepted_prediction_tokens=0, audio_tokens=0, reasoning_tokens=64, rejected_prediction_tokens=0), prompt_tokens_details=PromptTokensDetails(audio_tokens=0, cached_tokens=0))\n",
      "CPU times: total: 31.2 ms\n",
      "Wall time: 1.63 s\n"
     ]
    }
   ],
   "source": [
    "%%time\n",
    "\n",
    "user_content = ''' \n",
    "# 명령어 설명 \n",
    "- moveForward(): 앞으로 1칸 전진.\n",
    "- turnLeft(): 좌측으로 90도 회전.\n",
    "- turnRight(): 우측으로 90도 회전.\n",
    "- turnBack(): 180도 회전.\n",
    "- notDone(): 아바타가 도착지에 도착한 경우\n",
    "- pathAhead(): 앞으로 이동 가능한 경우\n",
    "- pathRight(): 우측으로 이동 가능한 경우\n",
    "- pathLeft(): 좌측으로 이동 가능한 경우\n",
    "이해했으면 이해했습니다라고 말한다\n",
    "'''\n",
    "\n",
    "messages.append({\"role\": \"user\", \"content\": user_content})\n",
    "\n",
    "response = client.chat.completions.create(\n",
    "    model=model,\n",
    "    messages=messages)\n",
    "messages.append(response.choices[0].message)\n",
    "\n",
    "print('*'*20, 'answer', '*'*20)\n",
    "print(response.choices[0].message.content)\n",
    "print('*'*40)\n",
    "print('tokens:', response.usage)"
   ]
  },
  {
   "cell_type": "code",
   "execution_count": 4,
   "id": "80a9ef22",
   "metadata": {},
   "outputs": [
    {
     "name": "stdout",
     "output_type": "stream",
     "text": [
      "******************** answer ********************\n",
      "아래 코드는 오른손 우선(right‐hand rule) 알고리즘을 이용해 아바타가 골 지점(g)까지 이동하게 합니다.  \n",
      "\n",
      "```python\n",
      "def solveMaze():\n",
      "    # 골에 도착할 때까지 반복\n",
      "    while notDone():\n",
      "        # 1) 오른쪽 뱡향으로 갈 수 있으면\n",
      "        if pathRight():\n",
      "            turnRight()\n",
      "            moveForward()\n",
      "        # 2) 아니면 앞이 뚫렸으면\n",
      "        elif pathAhead():\n",
      "            moveForward()\n",
      "        # 3) 아니면 왼쪽으로\n",
      "        elif pathLeft():\n",
      "            turnLeft()\n",
      "            moveForward()\n",
      "        # 4) 그 외(막다른 길)이면 뒤돌아서\n",
      "        else:\n",
      "            turnBack()\n",
      "            moveForward()\n",
      "\n",
      "# 실행\n",
      "solveMaze()\n",
      "```\n",
      "\n",
      "설명:  \n",
      "1. pathRight(), pathAhead(), pathLeft() 함수로 주변을 탐색  \n",
      "2. 가능한 방향에 맞춰 회전(turnRight/turnLeft/turnBack) 후 moveForward()  \n",
      "3. 골에 도달하면 notDone()가 False가 되어 루프 종료  \n",
      "4. 시작 방향은 오른쪽(동쪽)으로 가정됨  \n",
      "\n",
      "이 코드만 넣으면 주어진 미로에서 s→g를 자동으로 찾아갑니다.\n",
      "****************************************\n",
      "tokens: CompletionUsage(completion_tokens=803, prompt_tokens=623, total_tokens=1426, completion_tokens_details=CompletionTokensDetails(accepted_prediction_tokens=0, audio_tokens=0, reasoning_tokens=512, rejected_prediction_tokens=0), prompt_tokens_details=PromptTokensDetails(audio_tokens=0, cached_tokens=0))\n",
      "CPU times: total: 15.6 ms\n",
      "Wall time: 7.8 s\n"
     ]
    }
   ],
   "source": [
    "%%time\n",
    "\n",
    "user_content = ''' \n",
    "<질문 프롬프트>\n",
    "\n",
    "[0,0,g,1,1,0,0,0]\n",
    "[0,0,0,0,1,0,0,0]\n",
    "[0,0,0,0,1,1,0,0]\n",
    "[0,0,0,0,0,1,1,1]\n",
    "[s,1,0,0,0,0,1,0]\n",
    "[0,1,1,0,0,0,1,0]\n",
    "[0,0,1,0,0,0,1,0]\n",
    "[0,1,1,1,1,1,1,0]\n",
    "[0,0,1,0,0,0,0,0]\n",
    "\n",
    "s가 아바타 시작위치이고  g가 goal이야\n",
    "아바타는 시작 위치에서 오른쪽을 바라보고 있어\n",
    "0은 길이 없는 곳이고 1은 길이 있는 곳이야\n",
    "아바타가 g까지 갈 수 있도록 파이썬 코드를 작성해줘\n",
    "\n",
    "'''\n",
    "\n",
    "messages.append({\"role\": \"user\", \"content\": user_content})\n",
    "\n",
    "response = client.chat.completions.create(\n",
    "    model=model,\n",
    "    messages=messages)\n",
    "messages.append(response.choices[0].message)\n",
    "\n",
    "print('*'*20, 'answer', '*'*20)\n",
    "print(response.choices[0].message.content)\n",
    "print('*'*40)\n",
    "print('tokens:', response.usage)"
   ]
  }
 ],
 "metadata": {
  "kernelspec": {
   "display_name": "base",
   "language": "python",
   "name": "python3"
  },
  "language_info": {
   "codemirror_mode": {
    "name": "ipython",
    "version": 3
   },
   "file_extension": ".py",
   "mimetype": "text/x-python",
   "name": "python",
   "nbconvert_exporter": "python",
   "pygments_lexer": "ipython3",
   "version": "3.10.9"
  }
 },
 "nbformat": 4,
 "nbformat_minor": 5
}
