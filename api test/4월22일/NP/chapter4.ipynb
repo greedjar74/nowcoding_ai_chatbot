{
 "cells": [
  {
   "cell_type": "markdown",
   "id": "10250196",
   "metadata": {},
   "source": [
    "# chapter 4."
   ]
  },
  {
   "cell_type": "markdown",
   "id": "e0faa705",
   "metadata": {},
   "source": [
    "## Setting\n",
    "- GPT 모델 설정 필요"
   ]
  },
  {
   "cell_type": "code",
   "execution_count": 1,
   "id": "c83cee6a",
   "metadata": {},
   "outputs": [],
   "source": [
    "import os\n",
    "key_file = open('key.txt', 'r')\n",
    "os.environ['OPENAI_API_KEY'] = key_file.readline()\n",
    "key_file.close()\n",
    "from openai import OpenAI\n",
    "client = OpenAI()\n",
    "model = \"gpt-4.1-mini\""
   ]
  },
  {
   "cell_type": "code",
   "execution_count": 2,
   "id": "d773a07a",
   "metadata": {},
   "outputs": [
    {
     "name": "stdout",
     "output_type": "stream",
     "text": [
      "******************** answer ********************\n",
      "문제가 주어지지 않았거나 추가 설명이 필요합니다. 풀고자 하는 문제나 범위 설정에 대한 설명을 제공해 주세요.\n",
      "****************************************\n",
      "tokens: CompletionUsage(completion_tokens=32, prompt_tokens=121, total_tokens=153, completion_tokens_details=CompletionTokensDetails(accepted_prediction_tokens=0, audio_tokens=0, reasoning_tokens=0, rejected_prediction_tokens=0), prompt_tokens_details=PromptTokensDetails(audio_tokens=0, cached_tokens=0))\n",
      "CPU times: total: 46.9 ms\n",
      "Wall time: 1.09 s\n"
     ]
    }
   ],
   "source": [
    "%%time\n",
    "\n",
    "messages = []\n",
    "\n",
    "system_content = '''\n",
    "너는 ‘while문’을 사용할 수 없다. \n",
    "\n",
    "너는 ‘for문’을 사용할 수 있다. \n",
    "하지만 ‘범위 설정’에 대한 설명이 주어지기 전에는 끝나는 지점만 설정할 수 있으며 범위 및 간격을 설정할 경우 코드를 작성할 수 없고 ‘문제를 풀 수 없습니다.’ 문구를 출력한다. \n",
    "설명이 주어지면 설명이 구체적인지 분석하고 구체적인 경우 설명을 기준으로 범위를 설정하여 코드를 작성한다.\n",
    "'''\n",
    "\n",
    "user_content = '''\n",
    "'''\n",
    "\n",
    "messages.append({\"role\": \"system\", \"content\": system_content})\n",
    "messages.append({\"role\": \"user\", \"content\": user_content})\n",
    "\n",
    "response = client.chat.completions.create(\n",
    "    model=model,\n",
    "    messages=messages)\n",
    "messages.append(response.choices[0].message)\n",
    "\n",
    "print('*'*20, 'answer', '*'*20)\n",
    "print(response.choices[0].message.content)\n",
    "print('*'*40)\n",
    "print('tokens:', response.usage)"
   ]
  },
  {
   "cell_type": "markdown",
   "id": "7862dac5",
   "metadata": {},
   "source": [
    "## 설명 없이 test case 수행"
   ]
  },
  {
   "cell_type": "code",
   "execution_count": 3,
   "id": "57237647",
   "metadata": {},
   "outputs": [
    {
     "name": "stdout",
     "output_type": "stream",
     "text": [
      "******************** answer ********************\n",
      "문제가 주어지지 않아 구체적인 범위 설정이 없습니다.\n",
      "\n",
      "문제를 풀 수 없습니다.\n",
      "****************************************\n",
      "tokens: CompletionUsage(completion_tokens=23, prompt_tokens=193, total_tokens=216, completion_tokens_details=CompletionTokensDetails(accepted_prediction_tokens=0, audio_tokens=0, reasoning_tokens=0, rejected_prediction_tokens=0), prompt_tokens_details=PromptTokensDetails(audio_tokens=0, cached_tokens=0))\n",
      "CPU times: total: 15.6 ms\n",
      "Wall time: 884 ms\n"
     ]
    }
   ],
   "source": [
    "%%time\n",
    "\n",
    "user_content = '''\n",
    "Test case\n",
    "각 문제에 맞는 파이썬 코드를 작성한다. 결과는 코드 또는 ‘문제를 풀 수 없습니다.’만 출력한다.\n",
    "'''\n",
    "\n",
    "messages.append({\"role\": \"user\", \"content\": user_content})\n",
    "\n",
    "response = client.chat.completions.create(\n",
    "    model=model,\n",
    "    messages=messages)\n",
    "messages.append(response.choices[0].message)\n",
    "\n",
    "print('*'*20, 'answer', '*'*20)\n",
    "print(response.choices[0].message.content)\n",
    "print('*'*40)\n",
    "print('tokens:', response.usage)"
   ]
  },
  {
   "cell_type": "code",
   "execution_count": 4,
   "id": "bd56a395",
   "metadata": {},
   "outputs": [
    {
     "name": "stdout",
     "output_type": "stream",
     "text": [
      "******************** answer ********************\n",
      "범위 설정에 대한 설명이 구체적입니다.\n",
      "\n",
      "첫 번째: i가 0부터 4까지 1씩 진행 (start=0, end=4, step=1)  \n",
      "두 번째: i가 3부터 7까지 1씩 진행 (start=3, end=7, step=1)  \n",
      "\n",
      "`for`문에서 범위 및 간격을 설정할 수 없으므로 코드를 작성할 수 없습니다.\n",
      "\n",
      "문제를 풀 수 없습니다.\n",
      "****************************************\n",
      "tokens: CompletionUsage(completion_tokens=101, prompt_tokens=310, total_tokens=411, completion_tokens_details=CompletionTokensDetails(accepted_prediction_tokens=0, audio_tokens=0, reasoning_tokens=0, rejected_prediction_tokens=0), prompt_tokens_details=PromptTokensDetails(audio_tokens=0, cached_tokens=0))\n",
      "CPU times: total: 31.2 ms\n",
      "Wall time: 1.66 s\n"
     ]
    }
   ],
   "source": [
    "%%time\n",
    "\n",
    "user_content = '''\n",
    "#1. NP04PY001V\n",
    "i가 0부터 4까지 1씩 진행되는 동안 erase(5, 3)을 수행한다. i가 3부터 7까지 1씩 증가하는 동안 erase(i, 6)을 수행한다.\n",
    "(결과는 코드 또는 ‘문제를 풀 수 없습니다.’만 출력)\n",
    "(erase 명령어는 따로 정의하지 않아도 된다.)\n",
    "'''\n",
    "\n",
    "messages.append({\"role\": \"user\", \"content\": user_content})\n",
    "\n",
    "response = client.chat.completions.create(\n",
    "    model=model,\n",
    "    messages=messages)\n",
    "messages.append(response.choices[0].message)\n",
    "\n",
    "print('*'*20, 'answer', '*'*20)\n",
    "print(response.choices[0].message.content)\n",
    "print('*'*40)\n",
    "print('tokens:', response.usage)"
   ]
  },
  {
   "cell_type": "code",
   "execution_count": 5,
   "id": "11f2c82e",
   "metadata": {},
   "outputs": [
    {
     "name": "stdout",
     "output_type": "stream",
     "text": [
      "******************** answer ********************\n",
      "범위 및 간격(2씩 증가, 3씩 증가)에 대한 설명이 포함되어 있습니다.\n",
      "\n",
      "범위 및 간격 설정에 대한 설명이 주어졌으나, ‘for문’에서 범위와 간격을 설정할 수 없으므로 코드를 작성할 수 없습니다.\n",
      "\n",
      "문제를 풀 수 없습니다.\n",
      "****************************************\n",
      "tokens: CompletionUsage(completion_tokens=69, prompt_tokens=503, total_tokens=572, completion_tokens_details=CompletionTokensDetails(accepted_prediction_tokens=0, audio_tokens=0, reasoning_tokens=0, rejected_prediction_tokens=0), prompt_tokens_details=PromptTokensDetails(audio_tokens=0, cached_tokens=0))\n",
      "CPU times: total: 31.2 ms\n",
      "Wall time: 1.31 s\n"
     ]
    }
   ],
   "source": [
    "%%time\n",
    "\n",
    "user_content = '''\n",
    "#2. NP04PY007\n",
    "i가 2부터 8까지 2씩 증가하는 동안 erase(i, 4)를 수행한다. j가 4부터 7까지 3씩 증가하는 동안 erase(4, j)를 수행한다.\n",
    "(결과는 코드 또는 ‘문제를 풀 수 없습니다.’만 출력)\n",
    "(erase 명령어는 따로 정의하지 않아도 된다.)\n",
    "'''\n",
    "\n",
    "messages.append({\"role\": \"user\", \"content\": user_content})\n",
    "\n",
    "response = client.chat.completions.create(\n",
    "    model=model,\n",
    "    messages=messages)\n",
    "messages.append(response.choices[0].message)\n",
    "\n",
    "print('*'*20, 'answer', '*'*20)\n",
    "print(response.choices[0].message.content)\n",
    "print('*'*40)\n",
    "print('tokens:', response.usage)"
   ]
  },
  {
   "cell_type": "code",
   "execution_count": 6,
   "id": "7e0240a5",
   "metadata": {},
   "outputs": [
    {
     "name": "stdout",
     "output_type": "stream",
     "text": [
      "******************** answer ********************\n",
      "범위 및 간격(1부터 9까지 2씩 증가)에 대한 구체적인 설명이 주어졌습니다.\n",
      "\n",
      "하지만 for문에서 범위 및 간격 설정이 필요하므로 코드를 작성할 수 없습니다.\n",
      "\n",
      "문제를 풀 수 없습니다.\n",
      "****************************************\n",
      "tokens: CompletionUsage(completion_tokens=55, prompt_tokens=647, total_tokens=702, completion_tokens_details=CompletionTokensDetails(accepted_prediction_tokens=0, audio_tokens=0, reasoning_tokens=0, rejected_prediction_tokens=0), prompt_tokens_details=PromptTokensDetails(audio_tokens=0, cached_tokens=0))\n",
      "CPU times: total: 31.2 ms\n",
      "Wall time: 1.17 s\n"
     ]
    }
   ],
   "source": [
    "%%time\n",
    "\n",
    "user_content = '''\n",
    "#3. NP04PY016\n",
    "i가 1부터 9까지 2씩 증가하는 동안 erase(i, 5), erase(6, i)를 수행한다.\n",
    "(결과는 코드 또는 ‘문제를 풀 수 없습니다.’만 출력)\n",
    "(erase 명령어는 따로 정의하지 않아도 된다.)\n",
    "'''\n",
    "\n",
    "messages.append({\"role\": \"user\", \"content\": user_content})\n",
    "\n",
    "response = client.chat.completions.create(\n",
    "    model=model,\n",
    "    messages=messages)\n",
    "messages.append(response.choices[0].message)\n",
    "\n",
    "print('*'*20, 'answer', '*'*20)\n",
    "print(response.choices[0].message.content)\n",
    "print('*'*40)\n",
    "print('tokens:', response.usage)"
   ]
  },
  {
   "cell_type": "code",
   "execution_count": 7,
   "id": "5fe4d8d8",
   "metadata": {},
   "outputs": [
    {
     "name": "stdout",
     "output_type": "stream",
     "text": [
      "******************** answer ********************\n",
      "첫 번째는 i가 1부터 9까지 1씩 증가  \n",
      "두 번째는 i가 1부터 7까지 2씩 증가  \n",
      "\n",
      "두 번째 범위에서 간격이 2씩 증가하는 설정이 포함되어 있으므로 코드를 작성할 수 없습니다.\n",
      "\n",
      "문제를 풀 수 없습니다.\n",
      "****************************************\n",
      "tokens: CompletionUsage(completion_tokens=65, prompt_tokens=793, total_tokens=858, completion_tokens_details=CompletionTokensDetails(accepted_prediction_tokens=0, audio_tokens=0, reasoning_tokens=0, rejected_prediction_tokens=0), prompt_tokens_details=PromptTokensDetails(audio_tokens=0, cached_tokens=0))\n",
      "CPU times: total: 31.2 ms\n",
      "Wall time: 2.11 s\n"
     ]
    }
   ],
   "source": [
    "%%time\n",
    "\n",
    "user_content = '''\n",
    "#4. NP04PY011\n",
    "i가 1부터 9까지 1씩 증가하는 동안 erase(i, i)를 수행한다. i가 1부터 7까지 2씩 증가하는 동안 erase(i, 5)를 수행한다.\n",
    "(결과는 코드 또는 ‘문제를 풀 수 없습니다.’만 출력)\n",
    "(erase 명령어는 따로 정의하지 않아도 된다.)\n",
    "'''\n",
    "\n",
    "messages.append({\"role\": \"user\", \"content\": user_content})\n",
    "\n",
    "response = client.chat.completions.create(\n",
    "    model=model,\n",
    "    messages=messages)\n",
    "messages.append(response.choices[0].message)\n",
    "\n",
    "print('*'*20, 'answer', '*'*20)\n",
    "print(response.choices[0].message.content)\n",
    "print('*'*40)\n",
    "print('tokens:', response.usage)"
   ]
  },
  {
   "cell_type": "markdown",
   "id": "cc737e6b",
   "metadata": {},
   "source": [
    "## range 설명 - 정확한 설명"
   ]
  },
  {
   "cell_type": "code",
   "execution_count": 8,
   "id": "40cad749",
   "metadata": {},
   "outputs": [
    {
     "name": "stdout",
     "output_type": "stream",
     "text": [
      "******************** answer ********************\n",
      "설명을 이해했습니다.\n",
      "****************************************\n",
      "tokens: CompletionUsage(completion_tokens=6, prompt_tokens=998, total_tokens=1004, completion_tokens_details=CompletionTokensDetails(accepted_prediction_tokens=0, audio_tokens=0, reasoning_tokens=0, rejected_prediction_tokens=0), prompt_tokens_details=PromptTokensDetails(audio_tokens=0, cached_tokens=0))\n",
      "CPU times: total: 31.2 ms\n",
      "Wall time: 620 ms\n"
     ]
    }
   ],
   "source": [
    "%%time\n",
    "\n",
    "user_content = '''\n",
    "<범위설정 설명>\n",
    "\n",
    "range(start, end, term) : ‘start’부터 ‘end-1’까지 ‘term’ 간격으로 증가한다.\n",
    "\n",
    "[예시]\n",
    "for i in range(start, end, term):\n",
    "    동작코드\n",
    "\n",
    "위 형태로 작성한다.\n",
    "\n",
    "<범위설정 설명>이 구체적으로 작성되었다면 '설명을 이해했습니다.', 설명이 구체적이지 않다면 '설명을 이해하지 못했습니다.' 문구를 출력한다.\n",
    "(예시가 없으면 이해할 수 없다.)\n",
    "('설명을 이해하지 못했습니다.' 문구 출력시 문제를 풀 수 없다.)\n",
    "'''\n",
    "\n",
    "messages.append({\"role\": \"user\", \"content\": user_content})\n",
    "\n",
    "response = client.chat.completions.create(\n",
    "    model=model,\n",
    "    messages=messages)\n",
    "messages.append(response.choices[0].message)\n",
    "\n",
    "print('*'*20, 'answer', '*'*20)\n",
    "print(response.choices[0].message.content)\n",
    "print('*'*40)\n",
    "print('tokens:', response.usage)"
   ]
  },
  {
   "cell_type": "code",
   "execution_count": 9,
   "id": "41479e6a",
   "metadata": {},
   "outputs": [
    {
     "name": "stdout",
     "output_type": "stream",
     "text": [
      "******************** answer ********************\n",
      "문제가 주어지지 않아 풀 수 없습니다.\n",
      "\n",
      "문제를 풀 수 없습니다.\n",
      "****************************************\n",
      "tokens: CompletionUsage(completion_tokens=18, prompt_tokens=1040, total_tokens=1058, completion_tokens_details=CompletionTokensDetails(accepted_prediction_tokens=0, audio_tokens=0, reasoning_tokens=0, rejected_prediction_tokens=0), prompt_tokens_details=PromptTokensDetails(audio_tokens=0, cached_tokens=0))\n",
      "CPU times: total: 62.5 ms\n",
      "Wall time: 1.08 s\n"
     ]
    }
   ],
   "source": [
    "%%time\n",
    "\n",
    "user_content = '''\n",
    "Test case\n",
    "각 문제에 맞는 코드를 작성한다. 결과는 코드 또는 ‘문제를 풀 수 없습니다.’만 출력한다.\n",
    "'''\n",
    "\n",
    "messages.append({\"role\": \"user\", \"content\": user_content})\n",
    "\n",
    "response = client.chat.completions.create(\n",
    "    model=model,\n",
    "    messages=messages)\n",
    "messages.append(response.choices[0].message)\n",
    "\n",
    "print('*'*20, 'answer', '*'*20)\n",
    "print(response.choices[0].message.content)\n",
    "print('*'*40)\n",
    "print('tokens:', response.usage)"
   ]
  },
  {
   "cell_type": "code",
   "execution_count": 10,
   "id": "d6481bd1",
   "metadata": {},
   "outputs": [
    {
     "name": "stdout",
     "output_type": "stream",
     "text": [
      "******************** answer ********************\n",
      "```python\n",
      "for i in range(0, 5, 1):\n",
      "    erase(5, 3)\n",
      "\n",
      "for i in range(3, 8, 1):\n",
      "    erase(i, 6)\n",
      "```\n",
      "****************************************\n",
      "tokens: CompletionUsage(completion_tokens=46, prompt_tokens=1152, total_tokens=1198, completion_tokens_details=CompletionTokensDetails(accepted_prediction_tokens=0, audio_tokens=0, reasoning_tokens=0, rejected_prediction_tokens=0), prompt_tokens_details=PromptTokensDetails(audio_tokens=0, cached_tokens=1024))\n",
      "CPU times: total: 31.2 ms\n",
      "Wall time: 1.36 s\n"
     ]
    }
   ],
   "source": [
    "%%time\n",
    "\n",
    "user_content = '''\n",
    "#1. NP04PY001V\n",
    "i가 0부터 4까지 1씩 진행되는 동안 erase(5, 3)을 수행한다. i가 3부터 7까지 1씩 증가하는 동안 erase(i, 6)을 수행한다.\n",
    "(결과는 코드 또는 ‘문제를 풀 수 없습니다.’만 출력)\n",
    "(erase 명령어는 따로 정의하지 않아도 된다.)\n",
    "'''\n",
    "\n",
    "messages.append({\"role\": \"user\", \"content\": user_content})\n",
    "\n",
    "response = client.chat.completions.create(\n",
    "    model=model,\n",
    "    messages=messages)\n",
    "messages.append(response.choices[0].message)\n",
    "\n",
    "print('*'*20, 'answer', '*'*20)\n",
    "print(response.choices[0].message.content)\n",
    "print('*'*40)\n",
    "print('tokens:', response.usage)"
   ]
  },
  {
   "cell_type": "code",
   "execution_count": 11,
   "id": "b532bb4d",
   "metadata": {},
   "outputs": [
    {
     "name": "stdout",
     "output_type": "stream",
     "text": [
      "******************** answer ********************\n",
      "```python\n",
      "for i in range(2, 9, 2):\n",
      "    erase(i, 4)\n",
      "\n",
      "for j in range(4, 8, 3):\n",
      "    erase(4, j)\n",
      "```\n",
      "****************************************\n",
      "tokens: CompletionUsage(completion_tokens=45, prompt_tokens=1290, total_tokens=1335, completion_tokens_details=CompletionTokensDetails(accepted_prediction_tokens=0, audio_tokens=0, reasoning_tokens=0, rejected_prediction_tokens=0), prompt_tokens_details=PromptTokensDetails(audio_tokens=0, cached_tokens=1152))\n",
      "CPU times: total: 31.2 ms\n",
      "Wall time: 1.08 s\n"
     ]
    }
   ],
   "source": [
    "%%time\n",
    "\n",
    "user_content = '''\n",
    "#2. NP04PY007\n",
    "i가 2부터 8까지 2씩 증가하는 동안 erase(i, 4)를 수행한다. j가 4부터 7까지 3씩 증가하는 동안 erase(4, j)를 수행한다.\n",
    "(결과는 코드 또는 ‘문제를 풀 수 없습니다.’만 출력)\n",
    "(erase 명령어는 따로 정의하지 않아도 된다.)\n",
    "'''\n",
    "\n",
    "messages.append({\"role\": \"user\", \"content\": user_content})\n",
    "\n",
    "response = client.chat.completions.create(\n",
    "    model=model,\n",
    "    messages=messages)\n",
    "messages.append(response.choices[0].message)\n",
    "\n",
    "print('*'*20, 'answer', '*'*20)\n",
    "print(response.choices[0].message.content)\n",
    "print('*'*40)\n",
    "print('tokens:', response.usage)"
   ]
  },
  {
   "cell_type": "code",
   "execution_count": 12,
   "id": "91a5182e",
   "metadata": {},
   "outputs": [
    {
     "name": "stdout",
     "output_type": "stream",
     "text": [
      "******************** answer ********************\n",
      "```python\n",
      "for i in range(1, 10, 2):\n",
      "    erase(i, 5)\n",
      "    erase(6, i)\n",
      "```\n",
      "****************************************\n",
      "tokens: CompletionUsage(completion_tokens=32, prompt_tokens=1410, total_tokens=1442, completion_tokens_details=CompletionTokensDetails(accepted_prediction_tokens=0, audio_tokens=0, reasoning_tokens=0, rejected_prediction_tokens=0), prompt_tokens_details=PromptTokensDetails(audio_tokens=0, cached_tokens=1280))\n",
      "CPU times: total: 31.2 ms\n",
      "Wall time: 1.19 s\n"
     ]
    }
   ],
   "source": [
    "%%time\n",
    "\n",
    "user_content = '''\n",
    "#3. NP04PY016\n",
    "i가 1부터 9까지 2씩 증가하는 동안 erase(i, 5), erase(6, i)를 수행한다.\n",
    "(결과는 코드 또는 ‘문제를 풀 수 없습니다.’만 출력)\n",
    "(erase 명령어는 따로 정의하지 않아도 된다.)\n",
    "'''\n",
    "\n",
    "messages.append({\"role\": \"user\", \"content\": user_content})\n",
    "\n",
    "response = client.chat.completions.create(\n",
    "    model=model,\n",
    "    messages=messages)\n",
    "messages.append(response.choices[0].message)\n",
    "\n",
    "print('*'*20, 'answer', '*'*20)\n",
    "print(response.choices[0].message.content)\n",
    "print('*'*40)\n",
    "print('tokens:', response.usage)"
   ]
  },
  {
   "cell_type": "code",
   "execution_count": 13,
   "id": "87bc3d93",
   "metadata": {},
   "outputs": [
    {
     "name": "stdout",
     "output_type": "stream",
     "text": [
      "******************** answer ********************\n",
      "```python\n",
      "for i in range(1, 10, 1):\n",
      "    erase(i, i)\n",
      "\n",
      "for i in range(1, 8, 2):\n",
      "    erase(i, 5)\n",
      "```\n",
      "****************************************\n",
      "tokens: CompletionUsage(completion_tokens=44, prompt_tokens=1533, total_tokens=1577, completion_tokens_details=CompletionTokensDetails(accepted_prediction_tokens=0, audio_tokens=0, reasoning_tokens=0, rejected_prediction_tokens=0), prompt_tokens_details=PromptTokensDetails(audio_tokens=0, cached_tokens=0))\n",
      "CPU times: total: 46.9 ms\n",
      "Wall time: 1.29 s\n"
     ]
    }
   ],
   "source": [
    "%%time\n",
    "\n",
    "user_content = '''\n",
    "#4. NP04PY011\n",
    "i가 1부터 9까지 1씩 증가하는 동안 erase(i, i)를 수행한다. i가 1부터 7까지 2씩 증가하는 동안 erase(i, 5)를 수행한다.\n",
    "(결과는 코드 또는 ‘문제를 풀 수 없습니다.’만 출력)\n",
    "(erase 명령어는 따로 정의하지 않아도 된다.)\n",
    "'''\n",
    "\n",
    "messages.append({\"role\": \"user\", \"content\": user_content})\n",
    "\n",
    "response = client.chat.completions.create(\n",
    "    model=model,\n",
    "    messages=messages)\n",
    "messages.append(response.choices[0].message)\n",
    "\n",
    "print('*'*20, 'answer', '*'*20)\n",
    "print(response.choices[0].message.content)\n",
    "print('*'*40)\n",
    "print('tokens:', response.usage)"
   ]
  }
 ],
 "metadata": {
  "kernelspec": {
   "display_name": "base",
   "language": "python",
   "name": "python3"
  },
  "language_info": {
   "codemirror_mode": {
    "name": "ipython",
    "version": 3
   },
   "file_extension": ".py",
   "mimetype": "text/x-python",
   "name": "python",
   "nbconvert_exporter": "python",
   "pygments_lexer": "ipython3",
   "version": "3.10.9"
  }
 },
 "nbformat": 4,
 "nbformat_minor": 5
}
