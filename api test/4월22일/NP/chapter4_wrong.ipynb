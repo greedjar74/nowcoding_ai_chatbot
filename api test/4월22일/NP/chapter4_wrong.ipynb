{
 "cells": [
  {
   "cell_type": "markdown",
   "id": "10250196",
   "metadata": {},
   "source": [
    "# chapter 4."
   ]
  },
  {
   "cell_type": "markdown",
   "id": "e0faa705",
   "metadata": {},
   "source": [
    "## Setting\n",
    "- GPT 모델 설정 필요"
   ]
  },
  {
   "cell_type": "code",
   "execution_count": 1,
   "id": "c83cee6a",
   "metadata": {},
   "outputs": [],
   "source": [
    "import os\n",
    "key_file = open('key.txt', 'r')\n",
    "os.environ['OPENAI_API_KEY'] = key_file.readline()\n",
    "key_file.close()\n",
    "from openai import OpenAI\n",
    "client = OpenAI()\n",
    "model = \"gpt-4.1-mini\""
   ]
  },
  {
   "cell_type": "code",
   "execution_count": 2,
   "id": "d773a07a",
   "metadata": {},
   "outputs": [
    {
     "name": "stdout",
     "output_type": "stream",
     "text": [
      "******************** answer ********************\n",
      "주어진 조건을 이해했습니다.\n",
      "\n",
      "- while문 사용 불가\n",
      "- for문 사용 가능하나, 범위 설정에 대한 구체적 설명이 없으면 끝나는 지점만 설정해서 반복\n",
      "- 범위 및 간격 설정에 대한 구체적인 설명 없으면 \"문제를 풀 수 없습니다.\" 출력\n",
      "\n",
      "필요한 설명을 주시면 그에 맞게 코드를 작성해 드리겠습니다.\n",
      "****************************************\n",
      "tokens: CompletionUsage(completion_tokens=87, prompt_tokens=121, total_tokens=208, completion_tokens_details=CompletionTokensDetails(accepted_prediction_tokens=0, audio_tokens=0, reasoning_tokens=0, rejected_prediction_tokens=0), prompt_tokens_details=PromptTokensDetails(audio_tokens=0, cached_tokens=0))\n",
      "CPU times: total: 15.6 ms\n",
      "Wall time: 2.23 s\n"
     ]
    }
   ],
   "source": [
    "%%time\n",
    "\n",
    "messages = []\n",
    "\n",
    "system_content = '''\n",
    "너는 ‘while문’을 사용할 수 없다. \n",
    "\n",
    "너는 ‘for문’을 사용할 수 있다. \n",
    "하지만 ‘범위 설정’에 대한 설명이 주어지기 전에는 끝나는 지점만 설정할 수 있으며 범위 및 간격을 설정할 경우 코드를 작성할 수 없고 ‘문제를 풀 수 없습니다.’ 문구를 출력한다. \n",
    "설명이 주어지면 설명이 구체적인지 분석하고 구체적인 경우 설명을 기준으로 범위를 설정하여 코드를 작성한다.\n",
    "'''\n",
    "\n",
    "user_content = '''\n",
    "'''\n",
    "\n",
    "messages.append({\"role\": \"system\", \"content\": system_content})\n",
    "messages.append({\"role\": \"user\", \"content\": user_content})\n",
    "\n",
    "response = client.chat.completions.create(\n",
    "    model=model,\n",
    "    messages=messages)\n",
    "messages.append(response.choices[0].message)\n",
    "\n",
    "print('*'*20, 'answer', '*'*20)\n",
    "print(response.choices[0].message.content)\n",
    "print('*'*40)\n",
    "print('tokens:', response.usage)"
   ]
  },
  {
   "cell_type": "markdown",
   "id": "7862dac5",
   "metadata": {},
   "source": [
    "## 설명 없이 test case 수행"
   ]
  },
  {
   "cell_type": "code",
   "execution_count": 3,
   "id": "57237647",
   "metadata": {},
   "outputs": [
    {
     "name": "stdout",
     "output_type": "stream",
     "text": [
      "******************** answer ********************\n",
      "문제가 주어지지 않아 범위 및 간격 설정에 대한 설명이 없습니다.  \n",
      "따라서 문제를 풀 수 없습니다.  \n",
      "출력:  \n",
      "```\n",
      "문제를 풀 수 없습니다.\n",
      "```\n",
      "****************************************\n",
      "tokens: CompletionUsage(completion_tokens=44, prompt_tokens=248, total_tokens=292, completion_tokens_details=CompletionTokensDetails(accepted_prediction_tokens=0, audio_tokens=0, reasoning_tokens=0, rejected_prediction_tokens=0), prompt_tokens_details=PromptTokensDetails(audio_tokens=0, cached_tokens=0))\n",
      "CPU times: total: 31.2 ms\n",
      "Wall time: 1.41 s\n"
     ]
    }
   ],
   "source": [
    "%%time\n",
    "\n",
    "user_content = '''\n",
    "Test case\n",
    "각 문제에 맞는 파이썬 코드를 작성한다. 결과는 코드 또는 ‘문제를 풀 수 없습니다.’만 출력한다.\n",
    "'''\n",
    "\n",
    "messages.append({\"role\": \"user\", \"content\": user_content})\n",
    "\n",
    "response = client.chat.completions.create(\n",
    "    model=model,\n",
    "    messages=messages)\n",
    "messages.append(response.choices[0].message)\n",
    "\n",
    "print('*'*20, 'answer', '*'*20)\n",
    "print(response.choices[0].message.content)\n",
    "print('*'*40)\n",
    "print('tokens:', response.usage)"
   ]
  },
  {
   "cell_type": "code",
   "execution_count": null,
   "id": "da464572",
   "metadata": {},
   "outputs": [
    {
     "name": "stdout",
     "output_type": "stream",
     "text": [
      "******************** answer ********************\n",
      "```python\n",
      "for i in range(0, 5, 1):\n",
      "    erase(5, 3)\n",
      "\n",
      "for i in range(3, 8, 1):\n",
      "    erase(i, 6)\n",
      "```\n",
      "****************************************\n",
      "tokens: CompletionUsage(completion_tokens=46, prompt_tokens=1554, total_tokens=1600, completion_tokens_details=CompletionTokensDetails(accepted_prediction_tokens=0, audio_tokens=0, reasoning_tokens=0, rejected_prediction_tokens=0), prompt_tokens_details=PromptTokensDetails(audio_tokens=0, cached_tokens=0))\n",
      "CPU times: total: 31.2 ms\n",
      "Wall time: 1.65 s\n"
     ]
    }
   ],
   "source": [
    "%%time\n",
    "\n",
    "user_content = '''\n",
    "#1. NP04PY001V\n",
    "i가 0부터 4까지 1씩 진행되는 동안 erase(5, 3)을 수행한다. i가 3부터 7까지 1씩 증가하는 동안 erase(i, 6)을 수행한다.\n",
    "(결과는 코드 또는 ‘문제를 풀 수 없습니다.’만 출력)\n",
    "(erase 명령어는 따로 정의하지 않아도 된다.)\n",
    "'''\n",
    "\n",
    "messages.append({\"role\": \"user\", \"content\": user_content})\n",
    "\n",
    "response = client.chat.completions.create(\n",
    "    model=model,\n",
    "    messages=messages)\n",
    "messages.append(response.choices[0].message)\n",
    "\n",
    "print('*'*20, 'answer', '*'*20)\n",
    "print(response.choices[0].message.content)\n",
    "print('*'*40)\n",
    "print('tokens:', response.usage)"
   ]
  },
  {
   "cell_type": "code",
   "execution_count": null,
   "id": "a9034c22",
   "metadata": {},
   "outputs": [
    {
     "name": "stdout",
     "output_type": "stream",
     "text": [
      "******************** answer ********************\n",
      "```python\n",
      "for i in range(2, 9, 2):\n",
      "    erase(i, 4)\n",
      "\n",
      "for j in range(4, 8, 3):\n",
      "    erase(4, j)\n",
      "```\n",
      "****************************************\n",
      "tokens: CompletionUsage(completion_tokens=45, prompt_tokens=1687, total_tokens=1732, completion_tokens_details=CompletionTokensDetails(accepted_prediction_tokens=0, audio_tokens=0, reasoning_tokens=0, rejected_prediction_tokens=0), prompt_tokens_details=PromptTokensDetails(audio_tokens=0, cached_tokens=1408))\n",
      "CPU times: total: 62.5 ms\n",
      "Wall time: 1.25 s\n"
     ]
    }
   ],
   "source": [
    "%%time\n",
    "\n",
    "user_content = '''\n",
    "#2. NP04PY007\n",
    "i가 2부터 8까지 2씩 증가하는 동안 erase(i, 4)를 수행한다. j가 4부터 7까지 3씩 증가하는 동안 erase(4, j)를 수행한다.\n",
    "(결과는 코드 또는 ‘문제를 풀 수 없습니다.’만 출력)\n",
    "(erase 명령어는 따로 정의하지 않아도 된다.)\n",
    "'''\n",
    "\n",
    "messages.append({\"role\": \"user\", \"content\": user_content})\n",
    "\n",
    "response = client.chat.completions.create(\n",
    "    model=model,\n",
    "    messages=messages)\n",
    "messages.append(response.choices[0].message)\n",
    "\n",
    "print('*'*20, 'answer', '*'*20)\n",
    "print(response.choices[0].message.content)\n",
    "print('*'*40)\n",
    "print('tokens:', response.usage)"
   ]
  },
  {
   "cell_type": "code",
   "execution_count": null,
   "id": "50a9e2b1",
   "metadata": {},
   "outputs": [
    {
     "name": "stdout",
     "output_type": "stream",
     "text": [
      "******************** answer ********************\n",
      "```python\n",
      "for i in range(1, 10, 2):\n",
      "    erase(i, 5)\n",
      "    erase(6, i)\n",
      "```\n",
      "****************************************\n",
      "tokens: CompletionUsage(completion_tokens=32, prompt_tokens=1802, total_tokens=1834, completion_tokens_details=CompletionTokensDetails(accepted_prediction_tokens=0, audio_tokens=0, reasoning_tokens=0, rejected_prediction_tokens=0), prompt_tokens_details=PromptTokensDetails(audio_tokens=0, cached_tokens=1536))\n",
      "CPU times: total: 46.9 ms\n",
      "Wall time: 1.39 s\n"
     ]
    }
   ],
   "source": [
    "%%time\n",
    "\n",
    "user_content = '''\n",
    "#3. NP04PY016\n",
    "i가 1부터 9까지 2씩 증가하는 동안 erase(i, 5), erase(6, i)를 수행한다.\n",
    "(결과는 코드 또는 ‘문제를 풀 수 없습니다.’만 출력)\n",
    "(erase 명령어는 따로 정의하지 않아도 된다.)\n",
    "'''\n",
    "\n",
    "messages.append({\"role\": \"user\", \"content\": user_content})\n",
    "\n",
    "response = client.chat.completions.create(\n",
    "    model=model,\n",
    "    messages=messages)\n",
    "messages.append(response.choices[0].message)\n",
    "\n",
    "print('*'*20, 'answer', '*'*20)\n",
    "print(response.choices[0].message.content)\n",
    "print('*'*40)\n",
    "print('tokens:', response.usage)"
   ]
  },
  {
   "cell_type": "code",
   "execution_count": null,
   "id": "4fd11d62",
   "metadata": {},
   "outputs": [
    {
     "name": "stdout",
     "output_type": "stream",
     "text": [
      "******************** answer ********************\n",
      "```python\n",
      "for i in range(1, 10, 1):\n",
      "    erase(i, i)\n",
      "\n",
      "for i in range(1, 8, 2):\n",
      "    erase(i, 5)\n",
      "```\n",
      "****************************************\n",
      "tokens: CompletionUsage(completion_tokens=44, prompt_tokens=1920, total_tokens=1964, completion_tokens_details=CompletionTokensDetails(accepted_prediction_tokens=0, audio_tokens=0, reasoning_tokens=0, rejected_prediction_tokens=0), prompt_tokens_details=PromptTokensDetails(audio_tokens=0, cached_tokens=0))\n",
      "CPU times: total: 62.5 ms\n",
      "Wall time: 1.62 s\n"
     ]
    }
   ],
   "source": [
    "%%time\n",
    "\n",
    "user_content = '''\n",
    "#4. NP04PY011\n",
    "i가 1부터 9까지 1씩 증가하는 동안 erase(i, i)를 수행한다. i가 1부터 7까지 2씩 증가하는 동안 erase(i, 5)를 수행한다.\n",
    "(결과는 코드 또는 ‘문제를 풀 수 없습니다.’만 출력)\n",
    "(erase 명령어는 따로 정의하지 않아도 된다.)\n",
    "'''\n",
    "\n",
    "messages.append({\"role\": \"user\", \"content\": user_content})\n",
    "\n",
    "response = client.chat.completions.create(\n",
    "    model=model,\n",
    "    messages=messages)\n",
    "messages.append(response.choices[0].message)\n",
    "\n",
    "print('*'*20, 'answer', '*'*20)\n",
    "print(response.choices[0].message.content)\n",
    "print('*'*40)\n",
    "print('tokens:', response.usage)"
   ]
  },
  {
   "cell_type": "markdown",
   "id": "cc737e6b",
   "metadata": {},
   "source": [
    "## 틀린 설명"
   ]
  },
  {
   "cell_type": "code",
   "execution_count": 8,
   "id": "40cad749",
   "metadata": {},
   "outputs": [
    {
     "name": "stdout",
     "output_type": "stream",
     "text": [
      "******************** answer ********************\n",
      "설명을 분석해 보면,  \n",
      "‘range(start, end, term)’에 대한 정의와 예시가 구체적으로 주어져야 이해 가능하다고 되어 있습니다.  \n",
      "하지만 예시가 누락되어 있어 구체적이라 보기 어렵습니다.\n",
      "\n",
      "따라서 출력은:  \n",
      "```\n",
      "설명을 이해하지 못했습니다.\n",
      "```\n",
      "****************************************\n",
      "tokens: CompletionUsage(completion_tokens=71, prompt_tokens=1315, total_tokens=1386, completion_tokens_details=CompletionTokensDetails(accepted_prediction_tokens=0, audio_tokens=0, reasoning_tokens=0, rejected_prediction_tokens=0), prompt_tokens_details=PromptTokensDetails(audio_tokens=0, cached_tokens=0))\n",
      "CPU times: total: 46.9 ms\n",
      "Wall time: 2.15 s\n"
     ]
    }
   ],
   "source": [
    "%%time\n",
    "\n",
    "user_content = '''\n",
    "<범위설정 설명>\n",
    "range(start, end, term) : ‘start’부터 ‘end-1’까지 ‘term’ 간격으로 증가한다.\n",
    "\n",
    "[예시]\n",
    "\n",
    "설명이 구체적으로 작성되었다면 '설명을 이해했습니다.', 설명이 구체적이지 않다면 '설명을 이해하지 못했습니다.' 문구를 출력한다. \n",
    "(예시가 없으면 이해할 수 없다.)\n",
    "('설명을 이해하지 못했습니다.' 문구 출력시 문제를 풀 수 없다.)\n",
    "'''\n",
    "\n",
    "messages.append({\"role\": \"user\", \"content\": user_content})\n",
    "\n",
    "response = client.chat.completions.create(\n",
    "    model=model,\n",
    "    messages=messages)\n",
    "messages.append(response.choices[0].message)\n",
    "\n",
    "print('*'*20, 'answer', '*'*20)\n",
    "print(response.choices[0].message.content)\n",
    "print('*'*40)\n",
    "print('tokens:', response.usage)"
   ]
  },
  {
   "cell_type": "code",
   "execution_count": 9,
   "id": "41479e6a",
   "metadata": {},
   "outputs": [
    {
     "name": "stdout",
     "output_type": "stream",
     "text": [
      "******************** answer ********************\n",
      "범위 설정 설명에 예시가 없으므로 '설명을 이해하지 못했습니다.' 상태입니다.  \n",
      "따라서 문제를 풀 수 없습니다.\n",
      "\n",
      "출력:  \n",
      "```\n",
      "문제를 풀 수 없습니다.\n",
      "```\n",
      "****************************************\n",
      "tokens: CompletionUsage(completion_tokens=46, prompt_tokens=1422, total_tokens=1468, completion_tokens_details=CompletionTokensDetails(accepted_prediction_tokens=0, audio_tokens=0, reasoning_tokens=0, rejected_prediction_tokens=0), prompt_tokens_details=PromptTokensDetails(audio_tokens=0, cached_tokens=1280))\n",
      "CPU times: total: 31.2 ms\n",
      "Wall time: 1.56 s\n"
     ]
    }
   ],
   "source": [
    "%%time\n",
    "\n",
    "user_content = '''\n",
    "Test case\n",
    "각 문제에 맞는 코드를 작성한다. 결과는 코드 또는 ‘문제를 풀 수 없습니다.’만 출력한다.\n",
    "'''\n",
    "\n",
    "messages.append({\"role\": \"user\", \"content\": user_content})\n",
    "\n",
    "response = client.chat.completions.create(\n",
    "    model=model,\n",
    "    messages=messages)\n",
    "messages.append(response.choices[0].message)\n",
    "\n",
    "print('*'*20, 'answer', '*'*20)\n",
    "print(response.choices[0].message.content)\n",
    "print('*'*40)\n",
    "print('tokens:', response.usage)"
   ]
  },
  {
   "cell_type": "code",
   "execution_count": null,
   "id": "b61675fd",
   "metadata": {},
   "outputs": [
    {
     "name": "stdout",
     "output_type": "stream",
     "text": [
      "******************** answer ********************\n",
      "```python\n",
      "for i in range(0, 5, 1):\n",
      "    erase(5, 3)\n",
      "\n",
      "for i in range(3, 8, 1):\n",
      "    erase(i, 6)\n",
      "```\n",
      "****************************************\n",
      "tokens: CompletionUsage(completion_tokens=46, prompt_tokens=1554, total_tokens=1600, completion_tokens_details=CompletionTokensDetails(accepted_prediction_tokens=0, audio_tokens=0, reasoning_tokens=0, rejected_prediction_tokens=0), prompt_tokens_details=PromptTokensDetails(audio_tokens=0, cached_tokens=0))\n",
      "CPU times: total: 31.2 ms\n",
      "Wall time: 1.65 s\n"
     ]
    }
   ],
   "source": [
    "%%time\n",
    "\n",
    "user_content = '''\n",
    "#1. NP04PY001V\n",
    "i가 0부터 4까지 1씩 진행되는 동안 erase(5, 3)을 수행한다. i가 3부터 7까지 1씩 증가하는 동안 erase(i, 6)을 수행한다.\n",
    "(결과는 코드 또는 ‘문제를 풀 수 없습니다.’만 출력)\n",
    "(erase 명령어는 따로 정의하지 않아도 된다.)\n",
    "'''\n",
    "\n",
    "messages.append({\"role\": \"user\", \"content\": user_content})\n",
    "\n",
    "response = client.chat.completions.create(\n",
    "    model=model,\n",
    "    messages=messages)\n",
    "messages.append(response.choices[0].message)\n",
    "\n",
    "print('*'*20, 'answer', '*'*20)\n",
    "print(response.choices[0].message.content)\n",
    "print('*'*40)\n",
    "print('tokens:', response.usage)"
   ]
  },
  {
   "cell_type": "code",
   "execution_count": null,
   "id": "56a2ecaf",
   "metadata": {},
   "outputs": [
    {
     "name": "stdout",
     "output_type": "stream",
     "text": [
      "******************** answer ********************\n",
      "```python\n",
      "for i in range(2, 9, 2):\n",
      "    erase(i, 4)\n",
      "\n",
      "for j in range(4, 8, 3):\n",
      "    erase(4, j)\n",
      "```\n",
      "****************************************\n",
      "tokens: CompletionUsage(completion_tokens=45, prompt_tokens=1687, total_tokens=1732, completion_tokens_details=CompletionTokensDetails(accepted_prediction_tokens=0, audio_tokens=0, reasoning_tokens=0, rejected_prediction_tokens=0), prompt_tokens_details=PromptTokensDetails(audio_tokens=0, cached_tokens=1408))\n",
      "CPU times: total: 62.5 ms\n",
      "Wall time: 1.25 s\n"
     ]
    }
   ],
   "source": [
    "%%time\n",
    "\n",
    "user_content = '''\n",
    "#2. NP04PY007\n",
    "i가 2부터 8까지 2씩 증가하는 동안 erase(i, 4)를 수행한다. j가 4부터 7까지 3씩 증가하는 동안 erase(4, j)를 수행한다.\n",
    "(결과는 코드 또는 ‘문제를 풀 수 없습니다.’만 출력)\n",
    "(erase 명령어는 따로 정의하지 않아도 된다.)\n",
    "'''\n",
    "\n",
    "messages.append({\"role\": \"user\", \"content\": user_content})\n",
    "\n",
    "response = client.chat.completions.create(\n",
    "    model=model,\n",
    "    messages=messages)\n",
    "messages.append(response.choices[0].message)\n",
    "\n",
    "print('*'*20, 'answer', '*'*20)\n",
    "print(response.choices[0].message.content)\n",
    "print('*'*40)\n",
    "print('tokens:', response.usage)"
   ]
  },
  {
   "cell_type": "code",
   "execution_count": null,
   "id": "499e2d42",
   "metadata": {},
   "outputs": [
    {
     "name": "stdout",
     "output_type": "stream",
     "text": [
      "******************** answer ********************\n",
      "```python\n",
      "for i in range(1, 10, 2):\n",
      "    erase(i, 5)\n",
      "    erase(6, i)\n",
      "```\n",
      "****************************************\n",
      "tokens: CompletionUsage(completion_tokens=32, prompt_tokens=1802, total_tokens=1834, completion_tokens_details=CompletionTokensDetails(accepted_prediction_tokens=0, audio_tokens=0, reasoning_tokens=0, rejected_prediction_tokens=0), prompt_tokens_details=PromptTokensDetails(audio_tokens=0, cached_tokens=1536))\n",
      "CPU times: total: 46.9 ms\n",
      "Wall time: 1.39 s\n"
     ]
    }
   ],
   "source": [
    "%%time\n",
    "\n",
    "user_content = '''\n",
    "#3. NP04PY016\n",
    "i가 1부터 9까지 2씩 증가하는 동안 erase(i, 5), erase(6, i)를 수행한다.\n",
    "(결과는 코드 또는 ‘문제를 풀 수 없습니다.’만 출력)\n",
    "(erase 명령어는 따로 정의하지 않아도 된다.)\n",
    "'''\n",
    "\n",
    "messages.append({\"role\": \"user\", \"content\": user_content})\n",
    "\n",
    "response = client.chat.completions.create(\n",
    "    model=model,\n",
    "    messages=messages)\n",
    "messages.append(response.choices[0].message)\n",
    "\n",
    "print('*'*20, 'answer', '*'*20)\n",
    "print(response.choices[0].message.content)\n",
    "print('*'*40)\n",
    "print('tokens:', response.usage)"
   ]
  },
  {
   "cell_type": "code",
   "execution_count": null,
   "id": "88cd5faa",
   "metadata": {},
   "outputs": [
    {
     "name": "stdout",
     "output_type": "stream",
     "text": [
      "******************** answer ********************\n",
      "```python\n",
      "for i in range(1, 10, 1):\n",
      "    erase(i, i)\n",
      "\n",
      "for i in range(1, 8, 2):\n",
      "    erase(i, 5)\n",
      "```\n",
      "****************************************\n",
      "tokens: CompletionUsage(completion_tokens=44, prompt_tokens=1920, total_tokens=1964, completion_tokens_details=CompletionTokensDetails(accepted_prediction_tokens=0, audio_tokens=0, reasoning_tokens=0, rejected_prediction_tokens=0), prompt_tokens_details=PromptTokensDetails(audio_tokens=0, cached_tokens=0))\n",
      "CPU times: total: 62.5 ms\n",
      "Wall time: 1.62 s\n"
     ]
    }
   ],
   "source": [
    "%%time\n",
    "\n",
    "user_content = '''\n",
    "#4. NP04PY011\n",
    "i가 1부터 9까지 1씩 증가하는 동안 erase(i, i)를 수행한다. i가 1부터 7까지 2씩 증가하는 동안 erase(i, 5)를 수행한다.\n",
    "(결과는 코드 또는 ‘문제를 풀 수 없습니다.’만 출력)\n",
    "(erase 명령어는 따로 정의하지 않아도 된다.)\n",
    "'''\n",
    "\n",
    "messages.append({\"role\": \"user\", \"content\": user_content})\n",
    "\n",
    "response = client.chat.completions.create(\n",
    "    model=model,\n",
    "    messages=messages)\n",
    "messages.append(response.choices[0].message)\n",
    "\n",
    "print('*'*20, 'answer', '*'*20)\n",
    "print(response.choices[0].message.content)\n",
    "print('*'*40)\n",
    "print('tokens:', response.usage)"
   ]
  }
 ],
 "metadata": {
  "kernelspec": {
   "display_name": "base",
   "language": "python",
   "name": "python3"
  },
  "language_info": {
   "codemirror_mode": {
    "name": "ipython",
    "version": 3
   },
   "file_extension": ".py",
   "mimetype": "text/x-python",
   "name": "python",
   "nbconvert_exporter": "python",
   "pygments_lexer": "ipython3",
   "version": "3.10.9"
  }
 },
 "nbformat": 4,
 "nbformat_minor": 5
}
