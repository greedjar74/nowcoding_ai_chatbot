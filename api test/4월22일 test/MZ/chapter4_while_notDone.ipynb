{
 "cells": [
  {
   "cell_type": "markdown",
   "id": "af57f1de",
   "metadata": {},
   "source": [
    "# chapter 4. while"
   ]
  },
  {
   "cell_type": "markdown",
   "id": "e0faa705",
   "metadata": {},
   "source": [
    "## Setting\n",
    "- GPT 모델 설정 필요"
   ]
  },
  {
   "cell_type": "code",
   "execution_count": 1,
   "id": "c83cee6a",
   "metadata": {},
   "outputs": [],
   "source": [
    "import os\n",
    "key_file = open('key.txt', 'r')\n",
    "os.environ['OPENAI_API_KEY'] = key_file.readline()\n",
    "key_file.close()\n",
    "from openai import OpenAI\n",
    "client = OpenAI()\n",
    "model = \"gpt-4.1-mini\""
   ]
  },
  {
   "cell_type": "code",
   "execution_count": 2,
   "id": "d773a07a",
   "metadata": {},
   "outputs": [
    {
     "name": "stdout",
     "output_type": "stream",
     "text": [
      "******************** answer ********************\n",
      "이해했습니다.\n",
      "****************************************\n",
      "tokens: CompletionUsage(completion_tokens=5, prompt_tokens=259, total_tokens=264, completion_tokens_details=CompletionTokensDetails(accepted_prediction_tokens=0, audio_tokens=0, reasoning_tokens=0, rejected_prediction_tokens=0), prompt_tokens_details=PromptTokensDetails(audio_tokens=0, cached_tokens=0))\n",
      "CPU times: total: 15.6 ms\n",
      "Wall time: 752 ms\n"
     ]
    }
   ],
   "source": [
    "%%time\n",
    "\n",
    "messages = []\n",
    "\n",
    "system_content = '''\n",
    "너는 파이썬의 'for문'을 사용할 수 없다. \n",
    "\n",
    "너는 'while문'에 대한 설명이 주어지기 전에는 문제를 풀 수 없다. \n",
    "'while문'에 대한 설명이 주어지면 설명이 정확한지 분석하고 정확한 경우에만 'while문'을 사용할 수 있다. \n",
    "\n",
    "너는 아바타가 목적지에 도착했는지 검사하는 명령어를 모른다. \n",
    "아바타가 목적지에 도착했는지 검사하는 명령어를 설명하기 전에는 문제를 풀 수 없다. \n",
    "만약 명령어 설명이 틀리더라도 설명을 기준으로 작성한다. \n",
    "\n",
    "문제를 풀 수 없는 경우 '문제를 풀 수 없습니다.' 문구를 출력한다.\n",
    "\n",
    "<명령어 설명>\n",
    "moveForward(): 아바타를 한 칸 앞으로 이동시킨다. \n",
    "turnLeft(): 아바타를 왼쪽으로 90도 회전시킨다. \n",
    "turnRight(): 아바타를 오른쪽으로 90도 회전시킨다. \n",
    "\n",
    "이해했으면 '이해했습니다.' 문구를 출력한다.\n",
    "'''\n",
    "\n",
    "user_content = '''\n",
    "'''\n",
    "\n",
    "messages.append({\"role\": \"system\", \"content\": system_content})\n",
    "messages.append({\"role\": \"user\", \"content\": user_content})\n",
    "\n",
    "response = client.chat.completions.create(\n",
    "    model=model,\n",
    "    messages=messages)\n",
    "messages.append(response.choices[0].message)\n",
    "\n",
    "print('*'*20, 'answer', '*'*20)\n",
    "print(response.choices[0].message.content)\n",
    "print('*'*40)\n",
    "print('tokens:', response.usage)"
   ]
  },
  {
   "cell_type": "markdown",
   "id": "a04d91fc",
   "metadata": {},
   "source": [
    "## 설명"
   ]
  },
  {
   "cell_type": "code",
   "execution_count": 3,
   "id": "55444765",
   "metadata": {},
   "outputs": [
    {
     "name": "stdout",
     "output_type": "stream",
     "text": [
      "******************** answer ********************\n",
      "while문을 이해했습니다.\n",
      "****************************************\n",
      "tokens: CompletionUsage(completion_tokens=7, prompt_tokens=393, total_tokens=400, completion_tokens_details=CompletionTokensDetails(accepted_prediction_tokens=0, audio_tokens=0, reasoning_tokens=0, rejected_prediction_tokens=0), prompt_tokens_details=PromptTokensDetails(audio_tokens=0, cached_tokens=0))\n",
      "CPU times: total: 31.2 ms\n",
      "Wall time: 779 ms\n"
     ]
    }
   ],
   "source": [
    "%%time\n",
    "\n",
    "user_content = '''\n",
    "<while문 설명>\n",
    "while문: 조건문이 True인 동안 while문 안의 내용을 반복적으로 수행한다. \n",
    "\n",
    "[예시]\n",
    "while 조건: \n",
    "    동작 코드 \n",
    "\n",
    "\n",
    "\n",
    "'while문 설명'이 구체적인지 판단한다. 구체적이고 정확한 경우 ‘while문을 이해했습니다.’ 그렇지 않은 경우 ‘while문을 이해하지 못했습니다.’ 문구를  출력한다. \n",
    "(예시가 없거나 정확하지 않은 경우 이해할 수 없다.)\n",
    "(‘while문을 이해하지 못했습니다.’를 출력한 경우 문제를 풀 수 없다.)\n",
    "'''\n",
    "\n",
    "messages.append({\"role\": \"user\", \"content\": user_content})\n",
    "\n",
    "response = client.chat.completions.create(\n",
    "    model=model,\n",
    "    messages=messages)\n",
    "messages.append(response.choices[0].message)\n",
    "\n",
    "print('*'*20, 'answer', '*'*20)\n",
    "print(response.choices[0].message.content)\n",
    "print('*'*40)\n",
    "print('tokens:', response.usage)"
   ]
  },
  {
   "cell_type": "code",
   "execution_count": 4,
   "id": "c44af665",
   "metadata": {},
   "outputs": [
    {
     "name": "stdout",
     "output_type": "stream",
     "text": [
      "******************** answer ********************\n",
      "명령어를 이해했습니다.\n",
      "****************************************\n",
      "tokens: CompletionUsage(completion_tokens=8, prompt_tokens=519, total_tokens=527, completion_tokens_details=CompletionTokensDetails(accepted_prediction_tokens=0, audio_tokens=0, reasoning_tokens=0, rejected_prediction_tokens=0), prompt_tokens_details=PromptTokensDetails(audio_tokens=0, cached_tokens=0))\n",
      "CPU times: total: 15.6 ms\n",
      "Wall time: 1.25 s\n"
     ]
    }
   ],
   "source": [
    "%%time\n",
    "\n",
    "user_content = '''\n",
    "<명령어 설명>\n",
    "notDone() : 아바타가 도착지에 도착했는지 확인한다. 도착하지 못한 경우 True를 반환한다.\n",
    "\n",
    "\n",
    "명령어 설명을 이해했다면 '명령어를 이해했습니다.', 이해하지 못했다면 '명령어를 이해할 수 없습니다.' 문구를 출력한다. \n",
    "('명령어를 이해할 수 없습니다.' 문구 출력시 문제를 풀 수 없다.)\n",
    "(명령어의 반환값을 잘 확인하여 코드를 작성한다.)\n",
    "'''\n",
    "\n",
    "messages.append({\"role\": \"user\", \"content\": user_content})\n",
    "\n",
    "response = client.chat.completions.create(\n",
    "    model=model,\n",
    "    messages=messages)\n",
    "messages.append(response.choices[0].message)\n",
    "\n",
    "print('*'*20, 'answer', '*'*20)\n",
    "print(response.choices[0].message.content)\n",
    "print('*'*40)\n",
    "print('tokens:', response.usage)"
   ]
  },
  {
   "cell_type": "code",
   "execution_count": 5,
   "id": "8fcc89d4",
   "metadata": {},
   "outputs": [
    {
     "name": "stdout",
     "output_type": "stream",
     "text": [
      "******************** answer ********************\n",
      "문제를 풀 수 없습니다.\n",
      "****************************************\n",
      "tokens: CompletionUsage(completion_tokens=7, prompt_tokens=609, total_tokens=616, completion_tokens_details=CompletionTokensDetails(accepted_prediction_tokens=0, audio_tokens=0, reasoning_tokens=0, rejected_prediction_tokens=0), prompt_tokens_details=PromptTokensDetails(audio_tokens=0, cached_tokens=0))\n",
      "CPU times: total: 31.2 ms\n",
      "Wall time: 765 ms\n"
     ]
    }
   ],
   "source": [
    "%%time\n",
    "\n",
    "user_content = '''\n",
    "Test case\n",
    "각 문제에 맞는 코드를 작성한다. 결과는 코드 또는 ‘문제를 풀 수 없습니다.’만 출력한다.\n",
    "(<while문 설명>에서 'while문을 이해하지 못했습니다.'를 출력했거나 <명령어 설명>에서 '명령어를 이해할 수 없습니다.'를 출력한 경우 문제를 풀 수 없다.)\n",
    "'''\n",
    "\n",
    "messages.append({\"role\": \"user\", \"content\": user_content})\n",
    "\n",
    "response = client.chat.completions.create(\n",
    "    model=model,\n",
    "    messages=messages)\n",
    "messages.append(response.choices[0].message)\n",
    "\n",
    "print('*'*20, 'answer', '*'*20)\n",
    "print(response.choices[0].message.content)\n",
    "print('*'*40)\n",
    "print('tokens:', response.usage)"
   ]
  },
  {
   "cell_type": "code",
   "execution_count": 6,
   "id": "470cbd12",
   "metadata": {},
   "outputs": [
    {
     "name": "stdout",
     "output_type": "stream",
     "text": [
      "******************** answer ********************\n",
      "while notDone():\n",
      "    moveForward()\n",
      "    turnRight()\n",
      "    moveForward()\n",
      "    turnLeft()\n",
      "****************************************\n",
      "tokens: CompletionUsage(completion_tokens=21, prompt_tokens=798, total_tokens=819, completion_tokens_details=CompletionTokensDetails(accepted_prediction_tokens=0, audio_tokens=0, reasoning_tokens=0, rejected_prediction_tokens=0), prompt_tokens_details=PromptTokensDetails(audio_tokens=0, cached_tokens=0))\n",
      "CPU times: total: 31.2 ms\n",
      "Wall time: 1.44 s\n"
     ]
    }
   ],
   "source": [
    "%%time\n",
    "\n",
    "user_content = '''\n",
    "#1. MZ05PY001V\n",
    "[아바타가 도착지에 도착하지 못한 경우 뒤의 동작들을 반복한다.[아바타를 앞으로 한 칸 이동시킨다.] [아바타를 오른쪽으로 90도 회전시킨다.] [아바타를 앞으로 한 칸 이동시킨다.] [아바타를 왼쪽으로 90도 회전시킨다.]]\n",
    "(<while문 설명>에서 'while문을 이해하지 못했습니다.'를 출력했거나 <명령어 설명>에서 '명령어를 이해할 수 없습니다.'를 출력한 경우 문제를 풀 수 없다.)\n",
    "(결과는 코드 또는 ‘문제를 풀 수 없습니다.’만 출력)\n",
    "(명령어의 반환값을 잘 확인하여 코드를 작성한다.)\n",
    "'''\n",
    "\n",
    "messages.append({\"role\": \"user\", \"content\": user_content})\n",
    "\n",
    "response = client.chat.completions.create(\n",
    "    model=model,\n",
    "    messages=messages)\n",
    "messages.append(response.choices[0].message)\n",
    "\n",
    "print('*'*20, 'answer', '*'*20)\n",
    "print(response.choices[0].message.content)\n",
    "print('*'*40)\n",
    "print('tokens:', response.usage)"
   ]
  },
  {
   "cell_type": "code",
   "execution_count": 7,
   "id": "afe3331b",
   "metadata": {},
   "outputs": [
    {
     "name": "stdout",
     "output_type": "stream",
     "text": [
      "******************** answer ********************\n",
      "moveForward()\n",
      "moveForward()\n",
      "moveForward()\n",
      "moveForward()\n",
      "moveForward()\n",
      "turnRight()\n",
      "moveForward()\n",
      "while notDone():\n",
      "    turnRight()\n",
      "    moveForward()\n",
      "    turnLeft()\n",
      "    moveForward()\n",
      "****************************************\n",
      "tokens: CompletionUsage(completion_tokens=42, prompt_tokens=1108, total_tokens=1150, completion_tokens_details=CompletionTokensDetails(accepted_prediction_tokens=0, audio_tokens=0, reasoning_tokens=0, rejected_prediction_tokens=0), prompt_tokens_details=PromptTokensDetails(audio_tokens=0, cached_tokens=0))\n",
      "CPU times: total: 15.6 ms\n",
      "Wall time: 1.62 s\n"
     ]
    }
   ],
   "source": [
    "%%time\n",
    "\n",
    "user_content = '''\n",
    "#2. MZ05PY004\n",
    "[아바타를 앞으로 한 칸 이동시킨다.] \n",
    "[아바타를 앞으로 한 칸 이동시킨다.] \n",
    "[아바타를 앞으로 한 칸 이동시킨다.] \n",
    "[아바타를 앞으로 한 칸 이동시킨다.] \n",
    "[아바타를 앞으로 한 칸 이동시킨다.] \n",
    "[아바타를 오른쪽으로 90도 회전시킨다.]\n",
    "[아바타를 앞으로 한 칸 이동시킨다.] \n",
    "[아바타가 도착지에 도착하지 못한 경우 뒤의 동작들을 반복한다. [아바타를 오른쪽으로 90도 회전시킨다.] [아바타를 앞으로 한 칸 이동시킨다.] [아바타를 왼쪽으로 90도 회전시킨다.] [아바타를 앞으로 한 칸 이동시킨다.]]\n",
    "(<while문 설명>에서 'while문을 이해하지 못했습니다.'를 출력했거나 <명령어 설명>에서 '명령어를 이해할 수 없습니다.'를 출력한 경우 문제를 풀 수 없다.)\n",
    "(결과는 코드 또는 ‘문제를 풀 수 없습니다.’만 출력)\n",
    "(명령어의 반환값을 잘 확인하여 코드를 작성한다.)\n",
    "'''\n",
    "\n",
    "messages.append({\"role\": \"user\", \"content\": user_content})\n",
    "\n",
    "response = client.chat.completions.create(\n",
    "    model=model,\n",
    "    messages=messages)\n",
    "messages.append(response.choices[0].message)\n",
    "\n",
    "print('*'*20, 'answer', '*'*20)\n",
    "print(response.choices[0].message.content)\n",
    "print('*'*40)\n",
    "print('tokens:', response.usage)"
   ]
  },
  {
   "cell_type": "code",
   "execution_count": 8,
   "id": "c0a439ff",
   "metadata": {},
   "outputs": [
    {
     "name": "stdout",
     "output_type": "stream",
     "text": [
      "******************** answer ********************\n",
      "while notDone():\n",
      "    moveForward()\n",
      "    turnLeft()\n",
      "    moveForward()\n",
      "    turnLeft()\n",
      "    moveForward()\n",
      "    turnRight()\n",
      "    moveForward()\n",
      "    moveForward()\n",
      "    turnRight()\n",
      "    moveForward()\n",
      "****************************************\n",
      "tokens: CompletionUsage(completion_tokens=45, prompt_tokens=1422, total_tokens=1467, completion_tokens_details=CompletionTokensDetails(accepted_prediction_tokens=0, audio_tokens=0, reasoning_tokens=0, rejected_prediction_tokens=0), prompt_tokens_details=PromptTokensDetails(audio_tokens=0, cached_tokens=0))\n",
      "CPU times: total: 31.2 ms\n",
      "Wall time: 1.32 s\n"
     ]
    }
   ],
   "source": [
    "%%time\n",
    "\n",
    "user_content = '''\n",
    "#3. MZ05PY015\n",
    "[아바타가 도착지에 도착하지 않은 경우 뒤의 동작들을 반복한다. [아바타를 앞으로 한 칸 이동시킨다.] [아바타를 왼쪽으로 90도 회전시킨다.] [아바타를 앞으로 한 칸 이동시킨다.] [아바타를 왼쪽으로 90도 회전시킨다.] [아바타를 앞으로 한 칸 이동시킨다.] [아바타를 오른쪽으로 90도 회전시킨다.] [아바타를 앞으로 한 칸 이동시킨다.] [아바타를 앞으로 한 칸 이동시킨다.] [아바타를 오른쪽으로 90도 회전시킨다.] [아바타를 앞으로 한 칸 이동시킨다.]]\n",
    "(<while문 설명>에서 'while문을 이해하지 못했습니다.'를 출력했거나 <명령어 설명>에서 '명령어를 이해할 수 없습니다.'를 출력한 경우 문제를 풀 수 없다.)\n",
    "(결과는 코드 또는 ‘문제를 풀 수 없습니다.’만 출력)\n",
    "(명령어의 반환값을 잘 확인하여 코드를 작성한다.)\n",
    "'''\n",
    "\n",
    "messages.append({\"role\": \"user\", \"content\": user_content})\n",
    "\n",
    "response = client.chat.completions.create(\n",
    "    model=model,\n",
    "    messages=messages)\n",
    "messages.append(response.choices[0].message)\n",
    "\n",
    "print('*'*20, 'answer', '*'*20)\n",
    "print(response.choices[0].message.content)\n",
    "print('*'*40)\n",
    "print('tokens:', response.usage)"
   ]
  }
 ],
 "metadata": {
  "kernelspec": {
   "display_name": "base",
   "language": "python",
   "name": "python3"
  },
  "language_info": {
   "codemirror_mode": {
    "name": "ipython",
    "version": 3
   },
   "file_extension": ".py",
   "mimetype": "text/x-python",
   "name": "python",
   "nbconvert_exporter": "python",
   "pygments_lexer": "ipython3",
   "version": "3.10.9"
  }
 },
 "nbformat": 4,
 "nbformat_minor": 5
}
