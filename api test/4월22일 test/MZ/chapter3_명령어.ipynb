{
 "cells": [
  {
   "cell_type": "markdown",
   "id": "af57f1de",
   "metadata": {},
   "source": [
    "# chapter 1. MZ 명령어"
   ]
  },
  {
   "cell_type": "markdown",
   "id": "e0faa705",
   "metadata": {},
   "source": [
    "## Setting\n",
    "- GPT 모델 설정 필요"
   ]
  },
  {
   "cell_type": "code",
   "execution_count": 1,
   "id": "c83cee6a",
   "metadata": {},
   "outputs": [],
   "source": [
    "import os\n",
    "key_file = open('key.txt', 'r')\n",
    "os.environ['OPENAI_API_KEY'] = key_file.readline()\n",
    "key_file.close()\n",
    "from openai import OpenAI\n",
    "client = OpenAI()\n",
    "model = \"gpt-4.1-mini\""
   ]
  },
  {
   "cell_type": "code",
   "execution_count": null,
   "id": "d773a07a",
   "metadata": {},
   "outputs": [
    {
     "name": "stdout",
     "output_type": "stream",
     "text": [
      "******************** answer ********************\n",
      "이해했습니다.\n",
      "****************************************\n",
      "tokens: CompletionUsage(completion_tokens=5, prompt_tokens=118, total_tokens=123, completion_tokens_details=CompletionTokensDetails(accepted_prediction_tokens=0, audio_tokens=0, reasoning_tokens=0, rejected_prediction_tokens=0), prompt_tokens_details=PromptTokensDetails(audio_tokens=0, cached_tokens=0))\n",
      "CPU times: total: 46.9 ms\n",
      "Wall time: 1.01 s\n"
     ]
    }
   ],
   "source": [
    "%%time\n",
    "\n",
    "messages = []\n",
    "\n",
    "system_content = '''\n",
    "너는 for문을 사용할 수 없다.\n",
    "\n",
    "너는 아바타를 제어하는 명령어를 모른다.\n",
    "설명이 주어지지 않은 명령어는 사용할 수 없으며 '명령어를 모릅니다.' 문구를 출력한다.\n",
    "만약 명령어에 대한 설명이 틀리더라도 설명을 기준으로 명령어를 선택하여 파이썬 코드를 작성한다.\n",
    "\n",
    "# 문제를 풀 때 함수를 정의하지 않는다.\n",
    "'''\n",
    "\n",
    "user_content = '''\n",
    "'''\n",
    "\n",
    "messages.append({\"role\": \"system\", \"content\": system_content})\n",
    "messages.append({\"role\": \"user\", \"content\": user_content})\n",
    "\n",
    "response = client.chat.completions.create(\n",
    "    model=model,\n",
    "    messages=messages)\n",
    "messages.append(response.choices[0].message)\n",
    "\n",
    "print('*'*20, 'answer', '*'*20)\n",
    "print(response.choices[0].message.content)\n",
    "print('*'*40)\n",
    "print('tokens:', response.usage)"
   ]
  },
  {
   "cell_type": "markdown",
   "id": "ca476bc6",
   "metadata": {},
   "source": [
    "## 명령어 설명"
   ]
  },
  {
   "cell_type": "code",
   "execution_count": 3,
   "id": "23e6dcc0",
   "metadata": {},
   "outputs": [
    {
     "name": "stdout",
     "output_type": "stream",
     "text": [
      "******************** answer ********************\n",
      "명령어를 이해했습니다.\n",
      "****************************************\n",
      "tokens: CompletionUsage(completion_tokens=8, prompt_tokens=290, total_tokens=298, completion_tokens_details=CompletionTokensDetails(accepted_prediction_tokens=0, audio_tokens=0, reasoning_tokens=0, rejected_prediction_tokens=0), prompt_tokens_details=PromptTokensDetails(audio_tokens=0, cached_tokens=0))\n",
      "CPU times: total: 15.6 ms\n",
      "Wall time: 1.35 s\n"
     ]
    }
   ],
   "source": [
    "%%time\n",
    "\n",
    "user_content = '''\n",
    "<명령어 설명>\n",
    "moveForward(): 아바타를 앞으로 한 칸 이동시킨다.\n",
    "turnLeft(): 아바타를 왼쪽으로 90도 회전시킨다.\n",
    "turnRight(): 아바타를 오른쪽으로 90도 회전시킨다.\n",
    "\n",
    "각각의 명령어 설명을 이해한 경우 '명령어를 이해했습니다.', 이해하지 못한 경우 '명령어를 이해할 수 없습니다.' 문구를 출력한다.\n",
    "(설명이 구체적이지 않은 명령어는 사용할 수 없다.)\n",
    "(만약 명령어 설명이 틀리더라도 설명을 기준으로 코드를 작성한다.)\n",
    "('명령어를 이해할 수 없습니다.' 문구 출력시 문제를 풀 수 없다.)\n",
    "'''\n",
    "\n",
    "messages.append({\"role\": \"user\", \"content\": user_content})\n",
    "\n",
    "response = client.chat.completions.create(\n",
    "    model=model,\n",
    "    messages=messages)\n",
    "messages.append(response.choices[0].message)\n",
    "\n",
    "print('*'*20, 'answer', '*'*20)\n",
    "print(response.choices[0].message.content)\n",
    "print('*'*40)\n",
    "print('tokens:', response.usage)"
   ]
  },
  {
   "cell_type": "code",
   "execution_count": 4,
   "id": "238684b8",
   "metadata": {},
   "outputs": [
    {
     "name": "stdout",
     "output_type": "stream",
     "text": [
      "******************** answer ********************\n",
      "명령어를 모릅니다.\n",
      "****************************************\n",
      "tokens: CompletionUsage(completion_tokens=9, prompt_tokens=336, total_tokens=345, completion_tokens_details=CompletionTokensDetails(accepted_prediction_tokens=0, audio_tokens=0, reasoning_tokens=0, rejected_prediction_tokens=0), prompt_tokens_details=PromptTokensDetails(audio_tokens=0, cached_tokens=0))\n",
      "CPU times: total: 15.6 ms\n",
      "Wall time: 749 ms\n"
     ]
    }
   ],
   "source": [
    "%%time\n",
    "\n",
    "user_content = '''\n",
    "Test case\n",
    "각 문제에 맞는 코드를 작성한다. 결과는 코드 또는 ‘명령어를 모릅니다.’만 출력한다.\n",
    "'''\n",
    "\n",
    "messages.append({\"role\": \"user\", \"content\": user_content})\n",
    "\n",
    "response = client.chat.completions.create(\n",
    "    model=model,\n",
    "    messages=messages)\n",
    "messages.append(response.choices[0].message)\n",
    "\n",
    "print('*'*20, 'answer', '*'*20)\n",
    "print(response.choices[0].message.content)\n",
    "print('*'*40)\n",
    "print('tokens:', response.usage)"
   ]
  },
  {
   "cell_type": "code",
   "execution_count": null,
   "id": "d6ea5cb4",
   "metadata": {},
   "outputs": [
    {
     "name": "stdout",
     "output_type": "stream",
     "text": [
      "******************** answer ********************\n",
      "moveForward()\n",
      "moveForward()\n",
      "turnLeft()\n",
      "moveForward()\n",
      "moveForward()\n",
      "turnRight()\n",
      "moveForward()\n",
      "moveForward()\n",
      "turnLeft()\n",
      "moveForward()\n",
      "moveForward()\n",
      "****************************************\n",
      "tokens: CompletionUsage(completion_tokens=34, prompt_tokens=538, total_tokens=572, completion_tokens_details=CompletionTokensDetails(accepted_prediction_tokens=0, audio_tokens=0, reasoning_tokens=0, rejected_prediction_tokens=0), prompt_tokens_details=PromptTokensDetails(audio_tokens=0, cached_tokens=0))\n",
      "CPU times: total: 15.6 ms\n",
      "Wall time: 1.14 s\n"
     ]
    }
   ],
   "source": [
    "%%time\n",
    "\n",
    "user_content = '''\n",
    "#1. MZ01PY001V\n",
    "아바타를 앞으로 한 칸 이동시킨다. 아바타를 앞으로 한 칸 이동시킨다. 아바타를 왼쪽으로 90도 회전시킨다. \n",
    "아바타를 앞으로 한 칸 이동시킨다. 아바타를 앞으로 한 칸 이동시킨다. 아바타를 오른쪽으로 90도 회전시킨다. \n",
    "아바타를 앞으로 한 칸 이동시킨다. 아바타를 앞으로 한 칸 이동시킨다. 아바타를 왼쪽으로 90도 회전시킨다. \n",
    "아바타를 앞으로 한 칸 이동시킨다. 아바타를 앞으로 한 칸 이동시킨다.\n",
    "(결과는 코드 또는 ‘명령어를 모릅니다.’만 출력)\n",
    "'''\n",
    "\n",
    "messages.append({\"role\": \"user\", \"content\": user_content})\n",
    "\n",
    "response = client.chat.completions.create(\n",
    "    model=model,\n",
    "    messages=messages)\n",
    "messages.append(response.choices[0].message)\n",
    "\n",
    "print('*'*20, 'answer', '*'*20)\n",
    "print(response.choices[0].message.content)\n",
    "print('*'*40)\n",
    "print('tokens:', response.usage)"
   ]
  },
  {
   "cell_type": "code",
   "execution_count": 6,
   "id": "82ff05db",
   "metadata": {},
   "outputs": [
    {
     "name": "stdout",
     "output_type": "stream",
     "text": [
      "******************** answer ********************\n",
      "moveForward()\n",
      "turnLeft()\n",
      "moveForward()\n",
      "turnRight()\n",
      "moveForward()\n",
      "turnLeft()\n",
      "moveForward()\n",
      "turnRight()\n",
      "moveForward()\n",
      "turnLeft()\n",
      "moveForward()\n",
      "turnRight()\n",
      "moveForward()\n",
      "turnLeft()\n",
      "moveForward()\n",
      "****************************************\n",
      "tokens: CompletionUsage(completion_tokens=46, prompt_tokens=831, total_tokens=877, completion_tokens_details=CompletionTokensDetails(accepted_prediction_tokens=0, audio_tokens=0, reasoning_tokens=0, rejected_prediction_tokens=0), prompt_tokens_details=PromptTokensDetails(audio_tokens=0, cached_tokens=0))\n",
      "CPU times: total: 15.6 ms\n",
      "Wall time: 1.85 s\n"
     ]
    }
   ],
   "source": [
    "%%time\n",
    "\n",
    "user_content = '''\n",
    "#2. MZ01PY005\n",
    "아바타를 앞으로 한 칸 이동시킨다. 아바타를 왼쪽으로 90도 회전시킨다. 아바타를 앞으로 한 칸 이동시킨다. \n",
    "아바타를 오른쪽으로 90도 회전시킨다. 아바타를 앞으로 한 칸 이동시킨다. 아바타를 왼쪽으로 90도 회전시킨다. \n",
    "아바타를 앞으로 한 칸 이동시킨다. 아바타를 오른쪽으로 90도 회전시킨다. 아바타를 앞으로 한 칸 이동시킨다. \n",
    "아바타를 왼쪽으로 90도 회전시킨다. 아바타를 앞으로 한 칸 이동시킨다. 아바타를 오른쪽으로 90도 회전시킨다. \n",
    "아바타를 앞으로 한 칸 이동시킨다. 아바타를 왼쪽으로 90도 회전시킨다. 아바타를 앞으로 한 칸 이동시킨다.\n",
    "(결과는 코드 또는 ‘명령어를 모릅니다.’만 출력)\n",
    "\n",
    "'''\n",
    "\n",
    "messages.append({\"role\": \"user\", \"content\": user_content})\n",
    "\n",
    "response = client.chat.completions.create(\n",
    "    model=model,\n",
    "    messages=messages)\n",
    "messages.append(response.choices[0].message)\n",
    "\n",
    "print('*'*20, 'answer', '*'*20)\n",
    "print(response.choices[0].message.content)\n",
    "print('*'*40)\n",
    "print('tokens:', response.usage)"
   ]
  },
  {
   "cell_type": "code",
   "execution_count": 7,
   "id": "25cea71c",
   "metadata": {},
   "outputs": [
    {
     "name": "stdout",
     "output_type": "stream",
     "text": [
      "******************** answer ********************\n",
      "moveForward()\n",
      "moveForward()\n",
      "turnRight()\n",
      "moveForward()\n",
      "moveForward()\n",
      "turnLeft()\n",
      "moveForward()\n",
      "turnRight()\n",
      "moveForward()\n",
      "moveForward()\n",
      "moveForward()\n",
      "turnRight()\n",
      "moveForward()\n",
      "****************************************\n",
      "tokens: CompletionUsage(completion_tokens=40, prompt_tokens=1098, total_tokens=1138, completion_tokens_details=CompletionTokensDetails(accepted_prediction_tokens=0, audio_tokens=0, reasoning_tokens=0, rejected_prediction_tokens=0), prompt_tokens_details=PromptTokensDetails(audio_tokens=0, cached_tokens=0))\n",
      "CPU times: total: 31.2 ms\n",
      "Wall time: 2.02 s\n"
     ]
    }
   ],
   "source": [
    "%%time\n",
    "\n",
    "user_content = '''\n",
    "#3. MZ01PY011\n",
    "아바타를 앞으로 한 칸 이동시킨다. 아바타를 앞으로 한 칸 이동시킨다. 아바타를 오른쪽으로 90도 회전시킨다. \n",
    "아바타를 앞으로 한 칸 이동시킨다. 아바타를 앞으로 한 칸 이동시킨다. 아바타를 왼쪽으로 90도 회전시킨다. \n",
    "아바타를 앞으로 한 칸 이동시킨다. 아바타를 오른쪽으로 90도 회전시킨다. 아바타를 앞으로 한 칸 이동시킨다. \n",
    "아바타를 앞으로 한 칸 이동시킨다. 아바타를 앞으로 한 칸 이동시킨다. 아바타를 오른쪽으로 90도 회전시킨다. \n",
    "아바타를 앞으로 한 칸 이동시킨다.\n",
    "(결과는 코드 또는 ‘명령어를 모릅니다.’만 출력)\n",
    "'''\n",
    "\n",
    "messages.append({\"role\": \"user\", \"content\": user_content})\n",
    "\n",
    "response = client.chat.completions.create(\n",
    "    model=model,\n",
    "    messages=messages)\n",
    "messages.append(response.choices[0].message)\n",
    "\n",
    "print('*'*20, 'answer', '*'*20)\n",
    "print(response.choices[0].message.content)\n",
    "print('*'*40)\n",
    "print('tokens:', response.usage)"
   ]
  }
 ],
 "metadata": {
  "kernelspec": {
   "display_name": "base",
   "language": "python",
   "name": "python3"
  },
  "language_info": {
   "codemirror_mode": {
    "name": "ipython",
    "version": 3
   },
   "file_extension": ".py",
   "mimetype": "text/x-python",
   "name": "python",
   "nbconvert_exporter": "python",
   "pygments_lexer": "ipython3",
   "version": "3.10.9"
  }
 },
 "nbformat": 4,
 "nbformat_minor": 5
}
