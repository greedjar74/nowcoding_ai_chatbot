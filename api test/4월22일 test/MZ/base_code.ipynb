{
 "cells": [
  {
   "cell_type": "markdown",
   "id": "10250196",
   "metadata": {},
   "source": [
    "# chapter "
   ]
  },
  {
   "cell_type": "markdown",
   "id": "e0faa705",
   "metadata": {},
   "source": [
    "## Setting\n",
    "- GPT 모델 설정 필요"
   ]
  },
  {
   "cell_type": "code",
   "execution_count": null,
   "id": "c83cee6a",
   "metadata": {},
   "outputs": [],
   "source": [
    "import os\n",
    "#key_file = open('key.txt', 'r')\n",
    "os.environ['OPENAI_API_KEY'] = '' # key_file.readline()\n",
    "#key_file.close()\n",
    "from openai import OpenAI\n",
    "client = OpenAI()\n",
    "model = \"gpt-4o-mini\""
   ]
  },
  {
   "cell_type": "markdown",
   "id": "464b9510",
   "metadata": {},
   "source": [
    "- 첫 질문"
   ]
  },
  {
   "cell_type": "code",
   "execution_count": 2,
   "id": "b8ce45f9",
   "metadata": {},
   "outputs": [],
   "source": [
    "# %%time\n",
    "\n",
    "# messages = []\n",
    "# system_content = '''\n",
    "\n",
    "# '''\n",
    "# user_content = '''\n",
    "\n",
    "# '''\n",
    "# messages.append({\"role\": \"system\", \"content\": system_content})\n",
    "# messages.append({\"role\": \"user\", \"content\": user_content})\n",
    "\n",
    "# response = client.chat.completions.create(\n",
    "#     model=model,\n",
    "#     messages=messages)\n",
    "# messages.append(response.choices[0].message)\n",
    "\n",
    "# print('*'*20, 'answer', '*'*20)\n",
    "# print(response.choices[0].message.content)\n",
    "# print('*'*40)\n",
    "# print('tokens:', response.usage)"
   ]
  },
  {
   "cell_type": "markdown",
   "id": "b2723392",
   "metadata": {},
   "source": [
    "- 이어서 질문"
   ]
  },
  {
   "cell_type": "code",
   "execution_count": 3,
   "id": "c0a14bd8",
   "metadata": {},
   "outputs": [],
   "source": [
    "# %%time\n",
    "\n",
    "# user_content = '''\n",
    "\n",
    "# '''\n",
    "# messages.append({\"role\": \"user\", \"content\": user_content})\n",
    "\n",
    "# response = client.chat.completions.create(\n",
    "#     model=model,\n",
    "#     messages=messages)\n",
    "# messages.append(response.choices[0].message)\n",
    "\n",
    "# print('*'*20, 'answer', '*'*20)\n",
    "# print(response.choices[0].message.content)\n",
    "# print('*'*40)\n",
    "# print('tokens:', response.usage)"
   ]
  },
  {
   "cell_type": "code",
   "execution_count": null,
   "id": "d773a07a",
   "metadata": {},
   "outputs": [
    {
     "name": "stdout",
     "output_type": "stream",
     "text": [
      "[{'role': 'system', 'content': '\\nsystem\\n'}, {'role': 'user', 'content': '\\nuser\\n'}]\n",
      "******************** answer ********************\n",
      "Hello! How can I assist you today?\n",
      "****************************************\n",
      "tokens: CompletionUsage(completion_tokens=9, prompt_tokens=17, total_tokens=26, completion_tokens_details=CompletionTokensDetails(accepted_prediction_tokens=0, audio_tokens=0, reasoning_tokens=0, rejected_prediction_tokens=0), prompt_tokens_details=PromptTokensDetails(audio_tokens=0, cached_tokens=0))\n",
      "CPU times: total: 0 ns\n",
      "Wall time: 1.72 s\n"
     ]
    }
   ],
   "source": [
    "%%time\n",
    "\n",
    "messages = []\n",
    "\n",
    "system_content = '''\n",
    "'''\n",
    "\n",
    "user_content = '''\n",
    "'''\n",
    "\n",
    "messages.append({\"role\": \"system\", \"content\": system_content})\n",
    "messages.append({\"role\": \"user\", \"content\": user_content})\n",
    "\n",
    "response = client.chat.completions.create(\n",
    "    model=model,\n",
    "    messages=messages)\n",
    "messages.append(response.choices[0].message)\n",
    "\n",
    "print('*'*20, 'answer', '*'*20)\n",
    "print(response.choices[0].message.content)\n",
    "print('*'*40)\n",
    "print('tokens:', response.usage)"
   ]
  },
  {
   "cell_type": "code",
   "execution_count": null,
   "id": "57237647",
   "metadata": {},
   "outputs": [
    {
     "name": "stdout",
     "output_type": "stream",
     "text": [
      "******************** answer ********************\n",
      "for i in range(4):\n",
      "    erase(0, i)\n",
      "****************************************\n",
      "tokens: CompletionUsage(completion_tokens=15, prompt_tokens=443, total_tokens=458, completion_tokens_details=CompletionTokensDetails(accepted_prediction_tokens=0, audio_tokens=0, reasoning_tokens=0, rejected_prediction_tokens=0), prompt_tokens_details=PromptTokensDetails(audio_tokens=0, cached_tokens=0))\n",
      "CPU times: total: 15.6 ms\n",
      "Wall time: 903 ms\n"
     ]
    }
   ],
   "source": [
    "%%time\n",
    "\n",
    "user_content = ''' \n",
    "'''\n",
    "\n",
    "messages.append({\"role\": \"user\", \"content\": user_content})\n",
    "\n",
    "response = client.chat.completions.create(\n",
    "    model=model,\n",
    "    messages=messages)\n",
    "messages.append(response.choices[0].message)\n",
    "\n",
    "print('*'*20, 'answer', '*'*20)\n",
    "print(response.choices[0].message.content)\n",
    "print('*'*40)\n",
    "print('tokens:', response.usage)"
   ]
  }
 ],
 "metadata": {
  "kernelspec": {
   "display_name": "base",
   "language": "python",
   "name": "python3"
  },
  "language_info": {
   "codemirror_mode": {
    "name": "ipython",
    "version": 3
   },
   "file_extension": ".py",
   "mimetype": "text/x-python",
   "name": "python",
   "nbconvert_exporter": "python",
   "pygments_lexer": "ipython3",
   "version": "3.10.9"
  }
 },
 "nbformat": 4,
 "nbformat_minor": 5
}
