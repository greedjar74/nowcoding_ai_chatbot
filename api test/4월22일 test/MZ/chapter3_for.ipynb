{
 "cells": [
  {
   "cell_type": "markdown",
   "id": "af57f1de",
   "metadata": {},
   "source": [
    "# chapter 2. for문"
   ]
  },
  {
   "cell_type": "markdown",
   "id": "e0faa705",
   "metadata": {},
   "source": [
    "## Setting\n",
    "- GPT 모델 설정 필요"
   ]
  },
  {
   "cell_type": "code",
   "execution_count": 1,
   "id": "c83cee6a",
   "metadata": {},
   "outputs": [],
   "source": [
    "import os\n",
    "key_file = open('key.txt', 'r')\n",
    "os.environ['OPENAI_API_KEY'] = key_file.readline()\n",
    "key_file.close()\n",
    "from openai import OpenAI\n",
    "client = OpenAI()\n",
    "model = \"gpt-4.1-mini\""
   ]
  },
  {
   "cell_type": "code",
   "execution_count": 2,
   "id": "d773a07a",
   "metadata": {},
   "outputs": [
    {
     "name": "stdout",
     "output_type": "stream",
     "text": [
      "******************** answer ********************\n",
      "이해했습니다.\n",
      "****************************************\n",
      "tokens: CompletionUsage(completion_tokens=5, prompt_tokens=200, total_tokens=205, completion_tokens_details=CompletionTokensDetails(accepted_prediction_tokens=0, audio_tokens=0, reasoning_tokens=0, rejected_prediction_tokens=0), prompt_tokens_details=PromptTokensDetails(audio_tokens=0, cached_tokens=0))\n",
      "CPU times: total: 46.9 ms\n",
      "Wall time: 752 ms\n"
     ]
    }
   ],
   "source": [
    "%%time\n",
    "\n",
    "messages = []\n",
    "\n",
    "system_content = '''\n",
    "너는 파이썬의 'while문'을 사용할 수 없다. \n",
    "\n",
    "너는 <for문 설명>이 주어지기 전에는 사용할 수 없다. \n",
    "'for문 설명'이 주어지면 설명이 정확한지 분석하고 정확한 경우에만 'for문'을 사용할 수 있다.\n",
    "예시가 없다면 'for문'을 사용할 수 없다.\n",
    "문제가 주어졌을 때 'for문'을 사용하지 못하는 상황에서는 'for문' 없이 코드를 작성한다.\n",
    "\n",
    "<기본 명령어 설명>\n",
    "moveForward(): 아바타를 한 칸 앞으로 이동시킨다.\n",
    "turnLeft(): 아바타를 왼쪽으로 90도 회전시킨다.\n",
    "turnRight(): 아바타를 오른쪽으로 90도 회전시킨다.\n",
    "\n",
    "이해했으면 ‘이해했습니다.’ 문구를 출력한다.\n",
    "'''\n",
    "\n",
    "user_content = '''\n",
    "'''\n",
    "\n",
    "messages.append({\"role\": \"system\", \"content\": system_content})\n",
    "messages.append({\"role\": \"user\", \"content\": user_content})\n",
    "\n",
    "response = client.chat.completions.create(\n",
    "    model=model,\n",
    "    messages=messages)\n",
    "messages.append(response.choices[0].message)\n",
    "\n",
    "print('*'*20, 'answer', '*'*20)\n",
    "print(response.choices[0].message.content)\n",
    "print('*'*40)\n",
    "print('tokens:', response.usage)"
   ]
  },
  {
   "cell_type": "markdown",
   "id": "a04d91fc",
   "metadata": {},
   "source": [
    "## for문 설명"
   ]
  },
  {
   "cell_type": "code",
   "execution_count": null,
   "id": "55444765",
   "metadata": {},
   "outputs": [
    {
     "name": "stdout",
     "output_type": "stream",
     "text": [
      "******************** answer ********************\n",
      "for문을 이해했습니다.\n",
      "****************************************\n",
      "tokens: CompletionUsage(completion_tokens=7, prompt_tokens=324, total_tokens=331, completion_tokens_details=CompletionTokensDetails(accepted_prediction_tokens=0, audio_tokens=0, reasoning_tokens=0, rejected_prediction_tokens=0), prompt_tokens_details=PromptTokensDetails(audio_tokens=0, cached_tokens=0))\n",
      "CPU times: total: 31.2 ms\n",
      "Wall time: 862 ms\n"
     ]
    }
   ],
   "source": [
    "%%time\n",
    "\n",
    "user_content = '''\n",
    "<for문 설명>\n",
    "for문: 동일한 행위를 반복적으로 수행할 때 사용한다.\n",
    "\n",
    "[예시]\n",
    "for 변수 in range(범위):\n",
    "    동작 코드\n",
    "\n",
    "\n",
    "\n",
    "<for문 설명>이 정확한 경우 'for문을 이해했습니다.', 정확하지 않은 경우 'for문을 이해하지 못했습니다.' 문구를 출력한다.\n",
    "(예시가 없거나 정확하지 않은 경우 이해할 수 없다.)\n",
    "(‘for문을 이해하지 못했습니다.’를 출력한 경우 'for문'을 사용하지 못한다.)\n",
    "'''\n",
    "\n",
    "messages.append({\"role\": \"user\", \"content\": user_content})\n",
    "\n",
    "response = client.chat.completions.create(\n",
    "    model=model,\n",
    "    messages=messages)\n",
    "messages.append(response.choices[0].message)\n",
    "\n",
    "print('*'*20, 'answer', '*'*20)\n",
    "print(response.choices[0].message.content)\n",
    "print('*'*40)\n",
    "print('tokens:', response.usage)"
   ]
  },
  {
   "cell_type": "code",
   "execution_count": 4,
   "id": "d298b242",
   "metadata": {},
   "outputs": [
    {
     "name": "stdout",
     "output_type": "stream",
     "text": [
      "******************** answer ********************\n",
      "# 코드 작성 의뢰 주신 문제 내용이 없으므로 코드 작성이 어렵습니다.\n",
      "# 문제 내용을 알려주시면 코드를 작성하겠습니다.\n",
      "****************************************\n",
      "tokens: CompletionUsage(completion_tokens=32, prompt_tokens=380, total_tokens=412, completion_tokens_details=CompletionTokensDetails(accepted_prediction_tokens=0, audio_tokens=0, reasoning_tokens=0, rejected_prediction_tokens=0), prompt_tokens_details=PromptTokensDetails(audio_tokens=0, cached_tokens=0))\n",
      "CPU times: total: 15.6 ms\n",
      "Wall time: 1.69 s\n"
     ]
    }
   ],
   "source": [
    "%%time\n",
    "\n",
    "user_content = '''\n",
    "Test case\n",
    "각 문제에 맞는 코드를 작성한다. \n",
    "결과는 코드만 출력한다.\n",
    "('for문'을 사용할 수 없는 경우 'for문'없이 코드를 작성한다.)\n",
    "'''\n",
    "\n",
    "messages.append({\"role\": \"user\", \"content\": user_content})\n",
    "\n",
    "response = client.chat.completions.create(\n",
    "    model=model,\n",
    "    messages=messages)\n",
    "messages.append(response.choices[0].message)\n",
    "\n",
    "print('*'*20, 'answer', '*'*20)\n",
    "print(response.choices[0].message.content)\n",
    "print('*'*40)\n",
    "print('tokens:', response.usage)"
   ]
  },
  {
   "cell_type": "code",
   "execution_count": null,
   "id": "ceaccb28",
   "metadata": {},
   "outputs": [
    {
     "name": "stdout",
     "output_type": "stream",
     "text": [
      "******************** answer ********************\n",
      "moveForward()\n",
      "turnLeft()\n",
      "moveForward()\n",
      "moveForward()\n",
      "turnRight()\n",
      "for _ in range(4):\n",
      "    moveForward()\n",
      "turnLeft()\n",
      "moveForward()\n",
      "moveForward()\n",
      "turnLeft()\n",
      "for _ in range(5):\n",
      "    moveForward()\n",
      "****************************************\n",
      "tokens: CompletionUsage(completion_tokens=50, prompt_tokens=628, total_tokens=678, completion_tokens_details=CompletionTokensDetails(accepted_prediction_tokens=0, audio_tokens=0, reasoning_tokens=0, rejected_prediction_tokens=0), prompt_tokens_details=PromptTokensDetails(audio_tokens=0, cached_tokens=0))\n",
      "CPU times: total: 15.6 ms\n",
      "Wall time: 1.57 s\n"
     ]
    }
   ],
   "source": [
    "%%time\n",
    "\n",
    "user_content = '''\n",
    "#1. MZ02PY001V\n",
    "[아바타를 앞으로 한 칸 이동시킨다.] [아바타를 왼쪽으로 90도 회전시킨다] [아바타를 앞으로 한 칸 이동시킨다.] \n",
    "[아바타를 앞으로 한 칸 이동시킨다.] [아바타를 오른쪽으로 90도 회전시킨다.] [[아바타를 앞으로 한 칸 이동시킨다.] 이 행위를 4번 반복한다.] \n",
    "[아바타를 왼쪽으로 90도 회전시킨다.] [아바타를 앞으로 한 칸 이동시킨다.] [아바타를 앞으로 한 칸 이동시킨다.]\n",
    "[아바타를 왼쪽으로 90도 회전시킨다.][[아바타를 앞으로 한 칸 이동시킨다.] 이 행위를 5번 반복한다.]\n",
    "(결과는 코드만 출력, python 타입으로 출력한다.)\n",
    "'''\n",
    "\n",
    "messages.append({\"role\": \"user\", \"content\": user_content})\n",
    "\n",
    "response = client.chat.completions.create(\n",
    "    model=model,\n",
    "    messages=messages)\n",
    "messages.append(response.choices[0].message)\n",
    "\n",
    "print('*'*20, 'answer', '*'*20)\n",
    "print(response.choices[0].message.content)\n",
    "print('*'*40)\n",
    "print('tokens:', response.usage)"
   ]
  },
  {
   "cell_type": "code",
   "execution_count": null,
   "id": "536fa9a2",
   "metadata": {},
   "outputs": [
    {
     "name": "stdout",
     "output_type": "stream",
     "text": [
      "******************** answer ********************\n",
      "for _ in range(4):\n",
      "    moveForward()\n",
      "turnRight()\n",
      "for _ in range(5):\n",
      "    moveForward()\n",
      "turnRight()\n",
      "for _ in range(5):\n",
      "    moveForward()\n",
      "****************************************\n",
      "tokens: CompletionUsage(completion_tokens=40, prompt_tokens=807, total_tokens=847, completion_tokens_details=CompletionTokensDetails(accepted_prediction_tokens=0, audio_tokens=0, reasoning_tokens=0, rejected_prediction_tokens=0), prompt_tokens_details=PromptTokensDetails(audio_tokens=0, cached_tokens=0))\n",
      "CPU times: total: 31.2 ms\n",
      "Wall time: 1.32 s\n"
     ]
    }
   ],
   "source": [
    "%%time\n",
    "\n",
    "user_content = '''\n",
    "#2. MZ02PY002\n",
    "[[아바타를 앞으로 한 칸 이동시킨다.] 이 행위를 4번 반복한다.] [아바타를 오른쪽으로 90도 회전시킨다.] [[아바타를 앞으로 한 칸 이동시킨다.] 이 행위를 5번 반복한다.] \n",
    "[아바타를 오른쪽으로 90도 회전시킨다.] [[아바타를 앞으로 한 칸 이동시킨다.] 이 행위를 5번 반복한다.]\n",
    "(결과는 코드만 출력, python 타입으로 출력한다.)\n",
    "'''\n",
    "\n",
    "messages.append({\"role\": \"user\", \"content\": user_content})\n",
    "\n",
    "response = client.chat.completions.create(\n",
    "    model=model,\n",
    "    messages=messages)\n",
    "messages.append(response.choices[0].message)\n",
    "\n",
    "print('*'*20, 'answer', '*'*20)\n",
    "print(response.choices[0].message.content)\n",
    "print('*'*40)\n",
    "print('tokens:', response.usage)"
   ]
  },
  {
   "cell_type": "code",
   "execution_count": null,
   "id": "78663290",
   "metadata": {},
   "outputs": [
    {
     "name": "stdout",
     "output_type": "stream",
     "text": [
      "******************** answer ********************\n",
      "moveForward()\n",
      "moveForward()\n",
      "moveForward()\n",
      "turnLeft()\n",
      "moveForward()\n",
      "moveForward()\n",
      "turnLeft()\n",
      "for _ in range(4):\n",
      "    moveForward()\n",
      "turnLeft()\n",
      "moveForward()\n",
      "moveForward()\n",
      "moveForward()\n",
      "turnRight()\n",
      "moveForward()\n",
      "****************************************\n",
      "tokens: CompletionUsage(completion_tokens=51, prompt_tokens=1057, total_tokens=1108, completion_tokens_details=CompletionTokensDetails(accepted_prediction_tokens=0, audio_tokens=0, reasoning_tokens=0, rejected_prediction_tokens=0), prompt_tokens_details=PromptTokensDetails(audio_tokens=0, cached_tokens=0))\n",
      "CPU times: total: 46.9 ms\n",
      "Wall time: 1.56 s\n"
     ]
    }
   ],
   "source": [
    "%%time\n",
    "\n",
    "user_content = '''\n",
    "#3. MZ02PY015\n",
    "[[아바타를 앞으로 한 칸 이동시킨다.] 이 행위를 3번 반복한다.] [아바타를 왼쪽으로 90도 회전시킨다.] [아바타를 앞으로 한 칸 이동시킨다.] \n",
    "[아바타를 앞으로 한 칸 이동시킨다.] [아바타를 왼쪽으로 90도 회전시킨다.] [[아바타를 앞으로 한 칸 이동시킨다.] 이 행위를 4번 반복한다.] \n",
    "[아바타를 왼쪽으로 90도 회전시킨다.] [[아바타를 앞으로 한 칸 이동시킨다.] 이 행위를 3번 반복한다.] [아바타를 오른쪽으로 90도 회전시킨다.] \n",
    "[아바타를 앞으로 한 칸 이동시킨다.]\n",
    "(결과는 코드만 출력, python 타입으로 출력한다.)\n",
    "'''\n",
    "\n",
    "messages.append({\"role\": \"user\", \"content\": user_content})\n",
    "\n",
    "response = client.chat.completions.create(\n",
    "    model=model,\n",
    "    messages=messages)\n",
    "messages.append(response.choices[0].message)\n",
    "\n",
    "print('*'*20, 'answer', '*'*20)\n",
    "print(response.choices[0].message.content)\n",
    "print('*'*40)\n",
    "print('tokens:', response.usage)"
   ]
  }
 ],
 "metadata": {
  "kernelspec": {
   "display_name": "base",
   "language": "python",
   "name": "python3"
  },
  "language_info": {
   "codemirror_mode": {
    "name": "ipython",
    "version": 3
   },
   "file_extension": ".py",
   "mimetype": "text/x-python",
   "name": "python",
   "nbconvert_exporter": "python",
   "pygments_lexer": "ipython3",
   "version": "3.10.9"
  }
 },
 "nbformat": 4,
 "nbformat_minor": 5
}
