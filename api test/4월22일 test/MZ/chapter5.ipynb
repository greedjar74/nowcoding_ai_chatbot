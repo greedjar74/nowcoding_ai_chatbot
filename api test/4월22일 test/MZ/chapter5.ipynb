{
 "cells": [
  {
   "cell_type": "markdown",
   "id": "af57f1de",
   "metadata": {},
   "source": [
    "# chapter 5."
   ]
  },
  {
   "cell_type": "markdown",
   "id": "e0faa705",
   "metadata": {},
   "source": [
    "## Setting\n",
    "- GPT 모델 설정 필요"
   ]
  },
  {
   "cell_type": "code",
   "execution_count": 1,
   "id": "c83cee6a",
   "metadata": {},
   "outputs": [],
   "source": [
    "import os\n",
    "key_file = open('key.txt', 'r')\n",
    "os.environ['OPENAI_API_KEY'] = key_file.readline()\n",
    "key_file.close()\n",
    "from openai import OpenAI\n",
    "client = OpenAI()\n",
    "model = \"gpt-4.1-mini\""
   ]
  },
  {
   "cell_type": "code",
   "execution_count": 2,
   "id": "d773a07a",
   "metadata": {},
   "outputs": [
    {
     "name": "stdout",
     "output_type": "stream",
     "text": [
      "******************** answer ********************\n",
      "이해했습니다.\n",
      "****************************************\n",
      "tokens: CompletionUsage(completion_tokens=5, prompt_tokens=259, total_tokens=264, completion_tokens_details=CompletionTokensDetails(accepted_prediction_tokens=0, audio_tokens=0, reasoning_tokens=0, rejected_prediction_tokens=0), prompt_tokens_details=PromptTokensDetails(audio_tokens=0, cached_tokens=0))\n",
      "CPU times: total: 15.6 ms\n",
      "Wall time: 766 ms\n"
     ]
    }
   ],
   "source": [
    "%%time\n",
    "\n",
    "messages = []\n",
    "\n",
    "system_content = '''\n",
    "너는 ‘if문’에 대한 설명이 주어지기 전에는 문제를 풀 수 없다.\n",
    "‘if문’에 대한 설명이 주어지면 설명이 정확한지 분석하고 정확한 경우에만 ‘if문’을 사용할 수 있다.\n",
    "\n",
    "너는 길의 유무를 검사하는 명령어를 모른다.\n",
    "아바타 주변에 길이 있는지 검사하는 명령어를 설명하기 전에는 문제를 풀 수 없다.\n",
    "'명령어 설명'이 틀린 경우 '명령어 설명'을 기준으로 조건을 작성한다.\n",
    "\n",
    "문제를 풀 수 없는 경우 ‘문제를 풀 수 없습니다.’ 문구를 출력한다.\n",
    "\n",
    "<기본 명령어 설명>\n",
    "moveForward(): 아바타를 한 칸 앞으로 이동시킨다.\n",
    "turnLeft(): 아바타를 왼쪽으로 90도 회전시킨다.\n",
    "turnRight(): 아바타를 오른쪽으로 90도 회전시킨다.\n",
    "notDone(): 아바타가 도착지에 도착했는지 파악한다. 도착하지 못한 경우 True\n",
    "\n",
    "이해했으면 '이해했습니다.' 문구를 출력한다.\n",
    "'''\n",
    "\n",
    "user_content = '''\n",
    "'''\n",
    "\n",
    "messages.append({\"role\": \"system\", \"content\": system_content})\n",
    "messages.append({\"role\": \"user\", \"content\": user_content})\n",
    "\n",
    "response = client.chat.completions.create(\n",
    "    model=model,\n",
    "    messages=messages)\n",
    "messages.append(response.choices[0].message)\n",
    "\n",
    "print('*'*20, 'answer', '*'*20)\n",
    "print(response.choices[0].message.content)\n",
    "print('*'*40)\n",
    "print('tokens:', response.usage)"
   ]
  },
  {
   "cell_type": "markdown",
   "id": "a04d91fc",
   "metadata": {},
   "source": [
    "## 설명"
   ]
  },
  {
   "cell_type": "code",
   "execution_count": 3,
   "id": "55444765",
   "metadata": {},
   "outputs": [
    {
     "name": "stdout",
     "output_type": "stream",
     "text": [
      "******************** answer ********************\n",
      "if문을 이해했습니다.\n",
      "****************************************\n",
      "tokens: CompletionUsage(completion_tokens=7, prompt_tokens=372, total_tokens=379, completion_tokens_details=CompletionTokensDetails(accepted_prediction_tokens=0, audio_tokens=0, reasoning_tokens=0, rejected_prediction_tokens=0), prompt_tokens_details=PromptTokensDetails(audio_tokens=0, cached_tokens=0))\n",
      "CPU times: total: 15.6 ms\n",
      "Wall time: 724 ms\n"
     ]
    }
   ],
   "source": [
    "%%time\n",
    "\n",
    "user_content = '''\n",
    "<if문 설명>\n",
    "if문: 조건이 True인 경우에만 코드를 수행한다.\n",
    "\n",
    "[예시]\n",
    "if 조건:\n",
    "    코드\n",
    "\n",
    "\n",
    "\n",
    "<if문 설명>이 정확한 경우 ‘if문’을 이해했습니다.’, 그렇지 않은 경우 ‘if문을 이해하지 못했습니다.’ 문구를 출력한다.\n",
    "(예시가 없거나 정확하지 않은 경우 이해할 수 없다.)\n",
    "('if문을 이해하지 못했습니다.'를 출력한 경우 문제를 풀 수 없다.)\n",
    "'''\n",
    "\n",
    "messages.append({\"role\": \"user\", \"content\": user_content})\n",
    "\n",
    "response = client.chat.completions.create(\n",
    "    model=model,\n",
    "    messages=messages)\n",
    "messages.append(response.choices[0].message)\n",
    "\n",
    "print('*'*20, 'answer', '*'*20)\n",
    "print(response.choices[0].message.content)\n",
    "print('*'*40)\n",
    "print('tokens:', response.usage)"
   ]
  },
  {
   "cell_type": "code",
   "execution_count": 4,
   "id": "0c7ba2cf",
   "metadata": {},
   "outputs": [
    {
     "name": "stdout",
     "output_type": "stream",
     "text": [
      "******************** answer ********************\n",
      "명령어를 이해했습니다.\n",
      "****************************************\n",
      "tokens: CompletionUsage(completion_tokens=8, prompt_tokens=536, total_tokens=544, completion_tokens_details=CompletionTokensDetails(accepted_prediction_tokens=0, audio_tokens=0, reasoning_tokens=0, rejected_prediction_tokens=0), prompt_tokens_details=PromptTokensDetails(audio_tokens=0, cached_tokens=0))\n",
      "CPU times: total: 15.6 ms\n",
      "Wall time: 669 ms\n"
     ]
    }
   ],
   "source": [
    "%%time\n",
    "\n",
    "user_content = '''\n",
    "<명령어 설명>\n",
    "pathAhead(): 아바타 앞에 길이 있는지 확인한다. 길이 있는 경우 True\n",
    "pathLeft(): 아바타 왼쪽에 길이 있는지 확인한다. 길이 있는 경우 True\n",
    "pathRight(): 아바타 오른쪽에 길이 있는지 확인한다. 길이 있는 경우 True\n",
    "\n",
    "\n",
    "\n",
    "각각의 명령어 설명을 이해했다면 ‘명령어를 이해했습니다.’, 이해하지 못했다면 ‘명령어를 이해할 수 없습니다.’ 문구를 출력한다.\n",
    "(구체적인 명령어 설명이 없다면 이해할 수 없다.)\n",
    "(명령어 설명이 틀리더라도 설명을 기준으로 코드를 작성한다.)\n",
    "'''\n",
    "\n",
    "messages.append({\"role\": \"user\", \"content\": user_content})\n",
    "\n",
    "response = client.chat.completions.create(\n",
    "    model=model,\n",
    "    messages=messages)\n",
    "messages.append(response.choices[0].message)\n",
    "\n",
    "print('*'*20, 'answer', '*'*20)\n",
    "print(response.choices[0].message.content)\n",
    "print('*'*40)\n",
    "print('tokens:', response.usage)"
   ]
  },
  {
   "cell_type": "code",
   "execution_count": 5,
   "id": "1d543568",
   "metadata": {},
   "outputs": [
    {
     "name": "stdout",
     "output_type": "stream",
     "text": [
      "******************** answer ********************\n",
      "문제를 풀 수 없습니다.\n",
      "****************************************\n",
      "tokens: CompletionUsage(completion_tokens=7, prompt_tokens=623, total_tokens=630, completion_tokens_details=CompletionTokensDetails(accepted_prediction_tokens=0, audio_tokens=0, reasoning_tokens=0, rejected_prediction_tokens=0), prompt_tokens_details=PromptTokensDetails(audio_tokens=0, cached_tokens=0))\n",
      "CPU times: total: 31.2 ms\n",
      "Wall time: 702 ms\n"
     ]
    }
   ],
   "source": [
    "%%time\n",
    "\n",
    "user_content = '''\n",
    "Test case\n",
    "각 문제에 맞는 코드를 작성한다. 결과는 코드 또는 ‘문제를 풀 수 없습니다.’만 출력한다.\n",
    "(<if문 설명>에서'if문을 이해하지 못했습니다.' 또는 <명령어 설명>에서 '명령어를 이해하지 못했습니다.'가 출력된 경우 문제를 풀 수 없다.)\n",
    "'''\n",
    "\n",
    "messages.append({\"role\": \"user\", \"content\": user_content})\n",
    "\n",
    "response = client.chat.completions.create(\n",
    "    model=model,\n",
    "    messages=messages)\n",
    "messages.append(response.choices[0].message)\n",
    "\n",
    "print('*'*20, 'answer', '*'*20)\n",
    "print(response.choices[0].message.content)\n",
    "print('*'*40)\n",
    "print('tokens:', response.usage)"
   ]
  },
  {
   "cell_type": "code",
   "execution_count": 6,
   "id": "fa9c7573",
   "metadata": {},
   "outputs": [
    {
     "name": "stdout",
     "output_type": "stream",
     "text": [
      "******************** answer ********************\n",
      "while notDone():\n",
      "    if pathRight():\n",
      "        turnRight()\n",
      "    moveForward()\n",
      "****************************************\n",
      "tokens: CompletionUsage(completion_tokens=18, prompt_tokens=771, total_tokens=789, completion_tokens_details=CompletionTokensDetails(accepted_prediction_tokens=0, audio_tokens=0, reasoning_tokens=0, rejected_prediction_tokens=0), prompt_tokens_details=PromptTokensDetails(audio_tokens=0, cached_tokens=0))\n",
      "CPU times: total: 46.9 ms\n",
      "Wall time: 943 ms\n"
     ]
    }
   ],
   "source": [
    "%%time\n",
    "\n",
    "user_content = '''\n",
    "#1. MZ06PY001V\n",
    "[아바타가 도착지에 도착하지 못한 경우 뒤의 코드를 반복한다. [만약 아바타 오른쪽에 길이 있다면 아바타를 오른쪽으로 90도 회전시킨다.] [아바타를 앞으로 한 칸 이동시킨다.]]\n",
    "(<if문 설명>에서'if문을 이해하지 못했습니다.' 또는 <명령어 설명>에서 '명령어를 이해하지 못했습니다.'가 출력된 경우 문제를 풀 수 없다.)\n",
    "(코드 또는 ‘문제를 풀 수 없습니다.’만 출력)\n",
    "'''\n",
    "\n",
    "messages.append({\"role\": \"user\", \"content\": user_content})\n",
    "\n",
    "response = client.chat.completions.create(\n",
    "    model=model,\n",
    "    messages=messages)\n",
    "messages.append(response.choices[0].message)\n",
    "\n",
    "print('*'*20, 'answer', '*'*20)\n",
    "print(response.choices[0].message.content)\n",
    "print('*'*40)\n",
    "print('tokens:', response.usage)"
   ]
  },
  {
   "cell_type": "code",
   "execution_count": 7,
   "id": "fbf07331",
   "metadata": {},
   "outputs": [
    {
     "name": "stdout",
     "output_type": "stream",
     "text": [
      "******************** answer ********************\n",
      "while notDone():\n",
      "    if pathLeft():\n",
      "        turnLeft()\n",
      "    moveForward()\n",
      "****************************************\n",
      "tokens: CompletionUsage(completion_tokens=18, prompt_tokens=931, total_tokens=949, completion_tokens_details=CompletionTokensDetails(accepted_prediction_tokens=0, audio_tokens=0, reasoning_tokens=0, rejected_prediction_tokens=0), prompt_tokens_details=PromptTokensDetails(audio_tokens=0, cached_tokens=0))\n",
      "CPU times: total: 15.6 ms\n",
      "Wall time: 1.06 s\n"
     ]
    }
   ],
   "source": [
    "%%time\n",
    "\n",
    "user_content = '''\n",
    "#2. MZ06PY011\n",
    "[아바타가 도착지에 도착하지 못한 경우 뒤의 코드를 반복한다. [만약 아바타 왼쪽에 길이 있다면 아바타를 왼쪽으로 90도 회전시킨다.] [아바타를 앞으로 한 칸 이동시킨다.]]\n",
    "(<if문 설명>에서'if문을 이해하지 못했습니다.' 또는 <명령어 설명>에서 '명령어를 이해하지 못했습니다.'가 출력된 경우 문제를 풀 수 없다.)\n",
    "(코드 또는 ‘문제를 풀 수 없습니다.’만 출력)\n",
    "'''\n",
    "\n",
    "messages.append({\"role\": \"user\", \"content\": user_content})\n",
    "\n",
    "response = client.chat.completions.create(\n",
    "    model=model,\n",
    "    messages=messages)\n",
    "messages.append(response.choices[0].message)\n",
    "\n",
    "print('*'*20, 'answer', '*'*20)\n",
    "print(response.choices[0].message.content)\n",
    "print('*'*40)\n",
    "print('tokens:', response.usage)"
   ]
  },
  {
   "cell_type": "code",
   "execution_count": 8,
   "id": "a5379251",
   "metadata": {},
   "outputs": [
    {
     "name": "stdout",
     "output_type": "stream",
     "text": [
      "******************** answer ********************\n",
      "while notDone():\n",
      "    if pathLeft():\n",
      "        turnLeft()\n",
      "    if pathRight():\n",
      "        turnRight()\n",
      "    if pathAhead():\n",
      "        moveForward()\n",
      "****************************************\n",
      "tokens: CompletionUsage(completion_tokens=32, prompt_tokens=1131, total_tokens=1163, completion_tokens_details=CompletionTokensDetails(accepted_prediction_tokens=0, audio_tokens=0, reasoning_tokens=0, rejected_prediction_tokens=0), prompt_tokens_details=PromptTokensDetails(audio_tokens=0, cached_tokens=0))\n",
      "CPU times: total: 31.2 ms\n",
      "Wall time: 1.12 s\n"
     ]
    }
   ],
   "source": [
    "%%time\n",
    "\n",
    "user_content = '''\n",
    "#3. MZ06PY005\n",
    "[아바타가 도착지에 도착하지 못한 경우 뒤의 코드를 반복한다. [만약 아바타 왼쪽에 길이 있다면 아바타를 왼쪽으로 90도 회전시킨다.] [만약 아바타 오른쪽에 길이 있다면 아바타를 오른쪽으로 90도 회전시킨다.] [만약 아바타 앞에 길이 있다면 아바타를 앞으로 한 칸 이동시킨다.]]\n",
    "(<if문 설명>에서'if문을 이해하지 못했습니다.' 또는 <명령어 설명>에서 '명령어를 이해하지 못했습니다.'가 출력된 경우 문제를 풀 수 없다.)\n",
    "(코드 또는 ‘문제를 풀 수 없습니다.’만 출력)\n",
    "'''\n",
    "\n",
    "messages.append({\"role\": \"user\", \"content\": user_content})\n",
    "\n",
    "response = client.chat.completions.create(\n",
    "    model=model,\n",
    "    messages=messages)\n",
    "messages.append(response.choices[0].message)\n",
    "\n",
    "print('*'*20, 'answer', '*'*20)\n",
    "print(response.choices[0].message.content)\n",
    "print('*'*40)\n",
    "print('tokens:', response.usage)"
   ]
  }
 ],
 "metadata": {
  "kernelspec": {
   "display_name": "base",
   "language": "python",
   "name": "python3"
  },
  "language_info": {
   "codemirror_mode": {
    "name": "ipython",
    "version": 3
   },
   "file_extension": ".py",
   "mimetype": "text/x-python",
   "name": "python",
   "nbconvert_exporter": "python",
   "pygments_lexer": "ipython3",
   "version": "3.10.9"
  }
 },
 "nbformat": 4,
 "nbformat_minor": 5
}
