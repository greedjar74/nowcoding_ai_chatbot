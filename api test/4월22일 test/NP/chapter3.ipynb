{
 "cells": [
  {
   "cell_type": "markdown",
   "id": "10250196",
   "metadata": {},
   "source": [
    "# chapter "
   ]
  },
  {
   "cell_type": "markdown",
   "id": "e0faa705",
   "metadata": {},
   "source": [
    "## Setting\n",
    "- GPT 모델 설정 필요"
   ]
  },
  {
   "cell_type": "code",
   "execution_count": 1,
   "id": "c83cee6a",
   "metadata": {},
   "outputs": [],
   "source": [
    "import os\n",
    "key_file = open('key.txt', 'r')\n",
    "os.environ['OPENAI_API_KEY'] = key_file.readline()\n",
    "key_file.close()\n",
    "from openai import OpenAI\n",
    "client = OpenAI()\n",
    "model = \"gpt-4.1-mini\""
   ]
  },
  {
   "cell_type": "code",
   "execution_count": 2,
   "id": "d773a07a",
   "metadata": {},
   "outputs": [
    {
     "name": "stdout",
     "output_type": "stream",
     "text": [
      "******************** answer ********************\n",
      "문제를 풀 수 없습니다.\n",
      "****************************************\n",
      "tokens: CompletionUsage(completion_tokens=7, prompt_tokens=152, total_tokens=159, completion_tokens_details=CompletionTokensDetails(accepted_prediction_tokens=0, audio_tokens=0, reasoning_tokens=0, rejected_prediction_tokens=0), prompt_tokens_details=PromptTokensDetails(audio_tokens=0, cached_tokens=0))\n",
      "CPU times: total: 31.2 ms\n",
      "Wall time: 1.25 s\n"
     ]
    }
   ],
   "source": [
    "%%time\n",
    "\n",
    "messages = []\n",
    "\n",
    "system_content = '''\n",
    "너는 <비교연산자 설명>이 주어지기 전에는 문제를 풀 수 없다.\n",
    "<비교연산자 설명>이 주어지면 설명이 정확한지 분석하고 정확한 경우에만 '비교연산자(<, >, ==, !=, <=, >=)'를 사용할 수 있다.\n",
    "설명이 없는 '비교연산자'는 사용할 수 없다.\n",
    "\n",
    "문제를 풀 수 없는 경우 '문제를 풀 수 없습니다.'를 출력한다.\n",
    "\n",
    "<기본 명령어>\n",
    "erase(x, y): x행, y열에 저장된 값을 1 감소시킨다.\n",
    "(따로 정의할 필요 없다.)\n",
    "'''\n",
    "\n",
    "user_content = '''\n",
    "'''\n",
    "\n",
    "messages.append({\"role\": \"system\", \"content\": system_content})\n",
    "messages.append({\"role\": \"user\", \"content\": user_content})\n",
    "\n",
    "response = client.chat.completions.create(\n",
    "    model=model,\n",
    "    messages=messages)\n",
    "messages.append(response.choices[0].message)\n",
    "\n",
    "print('*'*20, 'answer', '*'*20)\n",
    "print(response.choices[0].message.content)\n",
    "print('*'*40)\n",
    "print('tokens:', response.usage)"
   ]
  },
  {
   "cell_type": "markdown",
   "id": "1db7e106",
   "metadata": {},
   "source": [
    "## 비교연산자 설명 - 정확한 설명"
   ]
  },
  {
   "cell_type": "code",
   "execution_count": 3,
   "id": "53d83d68",
   "metadata": {},
   "outputs": [
    {
     "name": "stdout",
     "output_type": "stream",
     "text": [
      "******************** answer ********************\n",
      "비교연산자를 이해했습니다.\n",
      "****************************************\n",
      "tokens: CompletionUsage(completion_tokens=9, prompt_tokens=320, total_tokens=329, completion_tokens_details=CompletionTokensDetails(accepted_prediction_tokens=0, audio_tokens=0, reasoning_tokens=0, rejected_prediction_tokens=0), prompt_tokens_details=PromptTokensDetails(audio_tokens=0, cached_tokens=0))\n",
      "CPU times: total: 31.2 ms\n",
      "Wall time: 664 ms\n"
     ]
    }
   ],
   "source": [
    "%%time\n",
    "\n",
    "user_content = '''\n",
    "<비교연산자 설명>\n",
    "a < b : a가 b보다 작은지 확인한다. a가 작은 경우 True\n",
    "a == b : 두 값이 동일한지 확인한다. 동일한 경우 True \n",
    "a != b : 두 값이 다른지 확인한다. 다른 경우 True \n",
    "a <= b : a가 b보다 작거나 같은지 확인한다. a가 작거나 같은 경우 True \n",
    "\n",
    "<비교연산자 설명>이 정확한지 분석한다. 정확한 경우 '비교연산자를 이해했습니다.' 정확하지 않은 경우 '비교연산자를 이해하지 못했습니다.' 문구를 출력한다.\n",
    "('비교연산자를 이해하지 못했습니다.'를 출력한 경우 문제를 풀 수 없다.)\n",
    "'''\n",
    "\n",
    "messages.append({\"role\": \"user\", \"content\": user_content})\n",
    "\n",
    "response = client.chat.completions.create(\n",
    "    model=model,\n",
    "    messages=messages)\n",
    "messages.append(response.choices[0].message)\n",
    "\n",
    "print('*'*20, 'answer', '*'*20)\n",
    "print(response.choices[0].message.content)\n",
    "print('*'*40)\n",
    "print('tokens:', response.usage)"
   ]
  },
  {
   "cell_type": "code",
   "execution_count": 4,
   "id": "3227f9c5",
   "metadata": {},
   "outputs": [
    {
     "name": "stdout",
     "output_type": "stream",
     "text": [
      "******************** answer ********************\n",
      "문제를 풀 수 없습니다.\n",
      "****************************************\n",
      "tokens: CompletionUsage(completion_tokens=7, prompt_tokens=365, total_tokens=372, completion_tokens_details=CompletionTokensDetails(accepted_prediction_tokens=0, audio_tokens=0, reasoning_tokens=0, rejected_prediction_tokens=0), prompt_tokens_details=PromptTokensDetails(audio_tokens=0, cached_tokens=0))\n",
      "CPU times: total: 15.6 ms\n",
      "Wall time: 637 ms\n"
     ]
    }
   ],
   "source": [
    "%%time\n",
    "\n",
    "user_content = '''\n",
    "Test case\n",
    "각 문제에 맞는 코드를 작성한다. 결과는 코드 또는 ‘문제를 풀 수 없습니다.’만 출력한다.\n",
    "'''\n",
    "\n",
    "messages.append({\"role\": \"user\", \"content\": user_content})\n",
    "\n",
    "response = client.chat.completions.create(\n",
    "    model=model,\n",
    "    messages=messages)\n",
    "messages.append(response.choices[0].message)\n",
    "\n",
    "print('*'*20, 'answer', '*'*20)\n",
    "print(response.choices[0].message.content)\n",
    "print('*'*40)\n",
    "print('tokens:', response.usage)"
   ]
  },
  {
   "cell_type": "code",
   "execution_count": 5,
   "id": "2ee6c158",
   "metadata": {},
   "outputs": [
    {
     "name": "stdout",
     "output_type": "stream",
     "text": [
      "******************** answer ********************\n",
      "i = 2\n",
      "while i < 9:\n",
      "    erase(i, 3)\n",
      "    i += 2\n",
      "****************************************\n",
      "tokens: CompletionUsage(completion_tokens=24, prompt_tokens=450, total_tokens=474, completion_tokens_details=CompletionTokensDetails(accepted_prediction_tokens=0, audio_tokens=0, reasoning_tokens=0, rejected_prediction_tokens=0), prompt_tokens_details=PromptTokensDetails(audio_tokens=0, cached_tokens=0))\n",
      "CPU times: total: 15.6 ms\n",
      "Wall time: 876 ms\n"
     ]
    }
   ],
   "source": [
    "%%time\n",
    "\n",
    "user_content = '''\n",
    "#1. NP03PY001V\n",
    "i는 2를 초기값으로 가진다. i가 9보다 작은 경우 erase(i, 3)과 i+=2를 반복한다.\n",
    "(결과는 코드 또는 '문제를 풀 수 없습니다.'만 출력)\n",
    "(erase 명령어는 따로 정의할 필요 없다.)\n",
    "'''\n",
    "\n",
    "messages.append({\"role\": \"user\", \"content\": user_content})\n",
    "\n",
    "response = client.chat.completions.create(\n",
    "    model=model,\n",
    "    messages=messages)\n",
    "messages.append(response.choices[0].message)\n",
    "\n",
    "print('*'*20, 'answer', '*'*20)\n",
    "print(response.choices[0].message.content)\n",
    "print('*'*40)\n",
    "print('tokens:', response.usage)"
   ]
  },
  {
   "cell_type": "code",
   "execution_count": 6,
   "id": "2b408dd2",
   "metadata": {},
   "outputs": [
    {
     "name": "stdout",
     "output_type": "stream",
     "text": [
      "******************** answer ********************\n",
      "x = 1\n",
      "y = 2\n",
      "while x <= 10:\n",
      "    erase(x, y)\n",
      "    x += 3\n",
      "    y += 2\n",
      "****************************************\n",
      "tokens: CompletionUsage(completion_tokens=34, prompt_tokens=562, total_tokens=596, completion_tokens_details=CompletionTokensDetails(accepted_prediction_tokens=0, audio_tokens=0, reasoning_tokens=0, rejected_prediction_tokens=0), prompt_tokens_details=PromptTokensDetails(audio_tokens=0, cached_tokens=0))\n",
      "CPU times: total: 31.2 ms\n",
      "Wall time: 981 ms\n"
     ]
    }
   ],
   "source": [
    "%%time\n",
    "\n",
    "user_content = '''\n",
    "#2. NP03PY019\n",
    "x의 초기값은 1, y의 초기값은 2다. x가 10보다 작거나 같은 경우 erase(x, y)와 x+=3, y+=2를 반복한다.\n",
    "(결과는 코드 또는 '문제를 풀 수 없습니다.'만 출력)\n",
    "(erase 명령어는 따로 정의할 필요 없다.)\n",
    "'''\n",
    "\n",
    "messages.append({\"role\": \"user\", \"content\": user_content})\n",
    "\n",
    "response = client.chat.completions.create(\n",
    "    model=model,\n",
    "    messages=messages)\n",
    "messages.append(response.choices[0].message)\n",
    "\n",
    "print('*'*20, 'answer', '*'*20)\n",
    "print(response.choices[0].message.content)\n",
    "print('*'*40)\n",
    "print('tokens:', response.usage)"
   ]
  },
  {
   "cell_type": "code",
   "execution_count": 7,
   "id": "94011f5f",
   "metadata": {},
   "outputs": [
    {
     "name": "stdout",
     "output_type": "stream",
     "text": [
      "******************** answer ********************\n",
      "x = 2\n",
      "y1 = 2\n",
      "y2 = 9\n",
      "while x <= 9:\n",
      "    erase(x, y1)\n",
      "    erase(x, y2)\n",
      "    x += 7\n",
      "****************************************\n",
      "tokens: CompletionUsage(completion_tokens=43, prompt_tokens=697, total_tokens=740, completion_tokens_details=CompletionTokensDetails(accepted_prediction_tokens=0, audio_tokens=0, reasoning_tokens=0, rejected_prediction_tokens=0), prompt_tokens_details=PromptTokensDetails(audio_tokens=0, cached_tokens=0))\n",
      "CPU times: total: 15.6 ms\n",
      "Wall time: 1.12 s\n"
     ]
    }
   ],
   "source": [
    "%%time\n",
    "\n",
    "user_content = '''\n",
    "#3. NP03PY021\n",
    "x의 초기값은 2, y1의 초기값은 2, y2의 초기값은 9이다. x가 9보다 작거나 같은 경우 erase(x, y1), erase(x, y2), x += 7을 반복한다.\n",
    "(결과는 코드 또는 '문제를 풀 수 없습니다.'만 출력)\n",
    "(erase 명령어는 따로 정의할 필요 없다.)\n",
    "'''\n",
    "\n",
    "messages.append({\"role\": \"user\", \"content\": user_content})\n",
    "\n",
    "response = client.chat.completions.create(\n",
    "    model=model,\n",
    "    messages=messages)\n",
    "messages.append(response.choices[0].message)\n",
    "\n",
    "print('*'*20, 'answer', '*'*20)\n",
    "print(response.choices[0].message.content)\n",
    "print('*'*40)\n",
    "print('tokens:', response.usage)"
   ]
  },
  {
   "cell_type": "code",
   "execution_count": null,
   "id": "e168b105",
   "metadata": {},
   "outputs": [
    {
     "name": "stdout",
     "output_type": "stream",
     "text": [
      "******************** answer ********************\n",
      "x1 = 2\n",
      "y1 = 8\n",
      "while x1 <= 5:\n",
      "    erase(x1, y1)\n",
      "    x1 += 1\n",
      "    y1 -= 1\n",
      "\n",
      "x2 = 6\n",
      "y2 = 6\n",
      "while x2 <= 9:\n",
      "    erase(x2, y2)\n",
      "    x2 += 1\n",
      "    y2 += 1\n",
      "****************************************\n",
      "tokens: CompletionUsage(completion_tokens=82, prompt_tokens=870, total_tokens=952, completion_tokens_details=CompletionTokensDetails(accepted_prediction_tokens=0, audio_tokens=0, reasoning_tokens=0, rejected_prediction_tokens=0), prompt_tokens_details=PromptTokensDetails(audio_tokens=0, cached_tokens=0))\n",
      "CPU times: total: 31.2 ms\n",
      "Wall time: 1.62 s\n"
     ]
    }
   ],
   "source": [
    "%%time\n",
    "\n",
    "user_content = '''\n",
    "#4. NP03PY020\n",
    "x1=2, y1=8, x2=6, y2=6을 초기값으로 가진다. \n",
    "x1이 5보다 작거나 같은 경우 erase(x1, y1), x1 += 1, y1-=1을 반복한다.\n",
    "x2가 9보다 작거나 같은 경우 erase(x2, y2), x2+=1, y2+=1을 반복한다.\n",
    "\n",
    "(결과는 코드 또는 ‘문제를 풀 수 없습니다.’만 출력)\n",
    "(명령어는 정의할 필요 없다.)\n",
    "'''\n",
    "\n",
    "messages.append({\"role\": \"user\", \"content\": user_content})\n",
    "\n",
    "response = client.chat.completions.create(\n",
    "    model=model,\n",
    "    messages=messages)\n",
    "messages.append(response.choices[0].message)\n",
    "\n",
    "print('*'*20, 'answer', '*'*20)\n",
    "print(response.choices[0].message.content)\n",
    "print('*'*40)\n",
    "print('tokens:', response.usage)"
   ]
  }
 ],
 "metadata": {
  "kernelspec": {
   "display_name": "base",
   "language": "python",
   "name": "python3"
  },
  "language_info": {
   "codemirror_mode": {
    "name": "ipython",
    "version": 3
   },
   "file_extension": ".py",
   "mimetype": "text/x-python",
   "name": "python",
   "nbconvert_exporter": "python",
   "pygments_lexer": "ipython3",
   "version": "3.10.9"
  }
 },
 "nbformat": 4,
 "nbformat_minor": 5
}
