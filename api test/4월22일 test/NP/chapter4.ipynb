{
 "cells": [
  {
   "cell_type": "markdown",
   "id": "10250196",
   "metadata": {},
   "source": [
    "# chapter 4."
   ]
  },
  {
   "cell_type": "markdown",
   "id": "e0faa705",
   "metadata": {},
   "source": [
    "## Setting\n",
    "- GPT 모델 설정 필요"
   ]
  },
  {
   "cell_type": "code",
   "execution_count": 1,
   "id": "c83cee6a",
   "metadata": {},
   "outputs": [],
   "source": [
    "import os\n",
    "key_file = open('key.txt', 'r')\n",
    "os.environ['OPENAI_API_KEY'] = key_file.readline()\n",
    "key_file.close()\n",
    "from openai import OpenAI\n",
    "client = OpenAI()\n",
    "model = \"gpt-4.1-mini\""
   ]
  },
  {
   "cell_type": "code",
   "execution_count": 2,
   "id": "d773a07a",
   "metadata": {},
   "outputs": [
    {
     "name": "stdout",
     "output_type": "stream",
     "text": [
      "******************** answer ********************\n",
      "문제를 풀기 위해서는 <범위설정 설명>이 필요합니다. <범위설정 설명>을 제공해 주세요.\n",
      "****************************************\n",
      "tokens: CompletionUsage(completion_tokens=30, prompt_tokens=93, total_tokens=123, completion_tokens_details=CompletionTokensDetails(accepted_prediction_tokens=0, audio_tokens=0, reasoning_tokens=0, rejected_prediction_tokens=0), prompt_tokens_details=PromptTokensDetails(audio_tokens=0, cached_tokens=0))\n",
      "CPU times: total: 15.6 ms\n",
      "Wall time: 866 ms\n"
     ]
    }
   ],
   "source": [
    "%%time\n",
    "\n",
    "messages = []\n",
    "\n",
    "system_content = '''\n",
    "너는 ‘while문’을 사용할 수 없다. \n",
    "\n",
    "너는 <범위설정 설명>이 주어지기 전에는 문제를 풀 수 없다.\n",
    "<범위설정 설명>이 주어지면 설명이 정확한지 분석하고 정확한 경우 문제를 풀 수 있다.\n",
    "\n",
    "문제를 풀 수 없는 경우 '문제를 풀 수 없습니다.' 문구를 출력한다.\n",
    "'''\n",
    "\n",
    "user_content = '''\n",
    "'''\n",
    "\n",
    "messages.append({\"role\": \"system\", \"content\": system_content})\n",
    "messages.append({\"role\": \"user\", \"content\": user_content})\n",
    "\n",
    "response = client.chat.completions.create(\n",
    "    model=model,\n",
    "    messages=messages)\n",
    "messages.append(response.choices[0].message)\n",
    "\n",
    "print('*'*20, 'answer', '*'*20)\n",
    "print(response.choices[0].message.content)\n",
    "print('*'*40)\n",
    "print('tokens:', response.usage)"
   ]
  },
  {
   "cell_type": "markdown",
   "id": "cc737e6b",
   "metadata": {},
   "source": [
    "## range 설명 - 정확한 설명"
   ]
  },
  {
   "cell_type": "code",
   "execution_count": 3,
   "id": "40cad749",
   "metadata": {},
   "outputs": [
    {
     "name": "stdout",
     "output_type": "stream",
     "text": [
      "******************** answer ********************\n",
      "범위설정 설명을 이해했습니다.\n",
      "****************************************\n",
      "tokens: CompletionUsage(completion_tokens=10, prompt_tokens=274, total_tokens=284, completion_tokens_details=CompletionTokensDetails(accepted_prediction_tokens=0, audio_tokens=0, reasoning_tokens=0, rejected_prediction_tokens=0), prompt_tokens_details=PromptTokensDetails(audio_tokens=0, cached_tokens=0))\n",
      "CPU times: total: 15.6 ms\n",
      "Wall time: 564 ms\n"
     ]
    }
   ],
   "source": [
    "%%time\n",
    "\n",
    "user_content = '''\n",
    "<범위설정 설명>\n",
    "range(start, end, term): 'start'부터 'end'미만까지 'term'간격으로 증가한다.\n",
    "\n",
    "[예시]\n",
    "for i in range(start, end, term):\n",
    "    동작 코드\n",
    "\n",
    "\n",
    "<범위설정 설명>이 정확한 경우 '범위설정 설명을 이해했습니다.', 정확하지 않은 경우 '범위설정 설명을 이해하지 못했습니다.' 문구를 출력한다.\n",
    "([예시]가 없거나 정확하지 않은 경우 이해할 수 없다.)\n",
    "(설명에서 range에 입력한 'end'보다 1 작은 값까지 수행된다는 설명이 정확히 표현되었는지 확인한다.)\n",
    "'''\n",
    "\n",
    "messages.append({\"role\": \"user\", \"content\": user_content})\n",
    "\n",
    "response = client.chat.completions.create(\n",
    "    model=model,\n",
    "    messages=messages)\n",
    "messages.append(response.choices[0].message)\n",
    "\n",
    "print('*'*20, 'answer', '*'*20)\n",
    "print(response.choices[0].message.content)\n",
    "print('*'*40)\n",
    "print('tokens:', response.usage)"
   ]
  },
  {
   "cell_type": "code",
   "execution_count": 4,
   "id": "41479e6a",
   "metadata": {},
   "outputs": [
    {
     "name": "stdout",
     "output_type": "stream",
     "text": [
      "******************** answer ********************\n",
      "문제를 알려주세요.\n",
      "****************************************\n",
      "tokens: CompletionUsage(completion_tokens=5, prompt_tokens=350, total_tokens=355, completion_tokens_details=CompletionTokensDetails(accepted_prediction_tokens=0, audio_tokens=0, reasoning_tokens=0, rejected_prediction_tokens=0), prompt_tokens_details=PromptTokensDetails(audio_tokens=0, cached_tokens=0))\n",
      "CPU times: total: 15.6 ms\n",
      "Wall time: 529 ms\n"
     ]
    }
   ],
   "source": [
    "%%time\n",
    "\n",
    "user_content = '''\n",
    "Test case\n",
    "각 문제에 맞는 코드를 작성한다. 결과는 코드 또는 ‘문제를 풀 수 없습니다.’만 출력한다.\n",
    "(<범위설정 설명>에서 '범위설정 설명을 이해하지 못했습니다.'를 출력한 경우 문제를 풀 수 없다.)\n",
    "'''\n",
    "\n",
    "messages.append({\"role\": \"user\", \"content\": user_content})\n",
    "\n",
    "response = client.chat.completions.create(\n",
    "    model=model,\n",
    "    messages=messages)\n",
    "messages.append(response.choices[0].message)\n",
    "\n",
    "print('*'*20, 'answer', '*'*20)\n",
    "print(response.choices[0].message.content)\n",
    "print('*'*40)\n",
    "print('tokens:', response.usage)"
   ]
  },
  {
   "cell_type": "code",
   "execution_count": 5,
   "id": "d6481bd1",
   "metadata": {},
   "outputs": [
    {
     "name": "stdout",
     "output_type": "stream",
     "text": [
      "******************** answer ********************\n",
      "for i in range(0, 5, 1):\n",
      "    erase(5, 3)\n",
      "for i in range(3, 8, 1):\n",
      "    erase(i, 6)\n",
      "****************************************\n",
      "tokens: CompletionUsage(completion_tokens=42, prompt_tokens=480, total_tokens=522, completion_tokens_details=CompletionTokensDetails(accepted_prediction_tokens=0, audio_tokens=0, reasoning_tokens=0, rejected_prediction_tokens=0), prompt_tokens_details=PromptTokensDetails(audio_tokens=0, cached_tokens=0))\n",
      "CPU times: total: 15.6 ms\n",
      "Wall time: 2.03 s\n"
     ]
    }
   ],
   "source": [
    "%%time\n",
    "\n",
    "user_content = '''\n",
    "#1. NP04PY001V\n",
    "i가 0부터 4까지 1씩 진행되는 동안 erase(5, 3)을 수행한다. i가 3부터 7까지 1씩 증가하는 동안 erase(i, 6)을 수행한다.\n",
    "(<범위설정 설명>에서 '범위설정 설명을 이해하지 못했습니다.'를 출력한 경우 문제를 풀 수 없다.)\n",
    "(erase 명령어는 따로 정의하지 않아도 된다.)\n",
    "(결과는 코드 또는 ‘문제를 풀 수 없습니다.’만 출력)\n",
    "'''\n",
    "\n",
    "messages.append({\"role\": \"user\", \"content\": user_content})\n",
    "\n",
    "response = client.chat.completions.create(\n",
    "    model=model,\n",
    "    messages=messages)\n",
    "messages.append(response.choices[0].message)\n",
    "\n",
    "print('*'*20, 'answer', '*'*20)\n",
    "print(response.choices[0].message.content)\n",
    "print('*'*40)\n",
    "print('tokens:', response.usage)"
   ]
  },
  {
   "cell_type": "code",
   "execution_count": 6,
   "id": "b532bb4d",
   "metadata": {},
   "outputs": [
    {
     "name": "stdout",
     "output_type": "stream",
     "text": [
      "******************** answer ********************\n",
      "for i in range(2, 9, 2):\n",
      "    erase(i, 4)\n",
      "for j in range(4, 8, 3):\n",
      "    erase(4, j)\n",
      "****************************************\n",
      "tokens: CompletionUsage(completion_tokens=41, prompt_tokens=645, total_tokens=686, completion_tokens_details=CompletionTokensDetails(accepted_prediction_tokens=0, audio_tokens=0, reasoning_tokens=0, rejected_prediction_tokens=0), prompt_tokens_details=PromptTokensDetails(audio_tokens=0, cached_tokens=0))\n",
      "CPU times: total: 15.6 ms\n",
      "Wall time: 883 ms\n"
     ]
    }
   ],
   "source": [
    "%%time\n",
    "\n",
    "user_content = '''\n",
    "#2. NP04PY007\n",
    "i가 2부터 8까지 2씩 증가하는 동안 erase(i, 4)를 수행한다. j가 4부터 7까지 3씩 증가하는 동안 erase(4, j)를 수행한다.\n",
    "(<범위설정 설명>에서 '범위설정 설명을 이해하지 못했습니다.'를 출력한 경우 문제를 풀 수 없다.)\n",
    "(erase 명령어는 따로 정의하지 않아도 된다.)\n",
    "(결과는 코드 또는 ‘문제를 풀 수 없습니다.’만 출력한다.)\n",
    "'''\n",
    "\n",
    "messages.append({\"role\": \"user\", \"content\": user_content})\n",
    "\n",
    "response = client.chat.completions.create(\n",
    "    model=model,\n",
    "    messages=messages)\n",
    "messages.append(response.choices[0].message)\n",
    "\n",
    "print('*'*20, 'answer', '*'*20)\n",
    "print(response.choices[0].message.content)\n",
    "print('*'*40)\n",
    "print('tokens:', response.usage)"
   ]
  },
  {
   "cell_type": "code",
   "execution_count": 7,
   "id": "91a5182e",
   "metadata": {},
   "outputs": [
    {
     "name": "stdout",
     "output_type": "stream",
     "text": [
      "******************** answer ********************\n",
      "for i in range(1, 10, 2):\n",
      "    erase(i, 5)\n",
      "    erase(6, i)\n",
      "****************************************\n",
      "tokens: CompletionUsage(completion_tokens=28, prompt_tokens=792, total_tokens=820, completion_tokens_details=CompletionTokensDetails(accepted_prediction_tokens=0, audio_tokens=0, reasoning_tokens=0, rejected_prediction_tokens=0), prompt_tokens_details=PromptTokensDetails(audio_tokens=0, cached_tokens=0))\n",
      "CPU times: total: 31.2 ms\n",
      "Wall time: 688 ms\n"
     ]
    }
   ],
   "source": [
    "%%time\n",
    "\n",
    "user_content = '''\n",
    "#3. NP04PY016\n",
    "i가 1부터 9까지 2씩 증가하는 동안 erase(i, 5), erase(6, i)를 수행한다.\n",
    "(<범위설정 설명>에서 '범위설정 설명을 이해하지 못했습니다.'를 출력한 경우 문제를 풀 수 없다.)\n",
    "(erase 명령어는 따로 정의하지 않아도 된다.)\n",
    "(결과는 코드 또는 ‘문제를 풀 수 없습니다.’만 출력한다.)\n",
    "'''\n",
    "\n",
    "messages.append({\"role\": \"user\", \"content\": user_content})\n",
    "\n",
    "response = client.chat.completions.create(\n",
    "    model=model,\n",
    "    messages=messages)\n",
    "messages.append(response.choices[0].message)\n",
    "\n",
    "print('*'*20, 'answer', '*'*20)\n",
    "print(response.choices[0].message.content)\n",
    "print('*'*40)\n",
    "print('tokens:', response.usage)"
   ]
  },
  {
   "cell_type": "code",
   "execution_count": 8,
   "id": "87bc3d93",
   "metadata": {},
   "outputs": [
    {
     "name": "stdout",
     "output_type": "stream",
     "text": [
      "******************** answer ********************\n",
      "for i in range(1, 10, 1):\n",
      "    erase(i, i)\n",
      "for i in range(1, 8, 2):\n",
      "    erase(i, 5)\n",
      "****************************************\n",
      "tokens: CompletionUsage(completion_tokens=39, prompt_tokens=941, total_tokens=980, completion_tokens_details=CompletionTokensDetails(accepted_prediction_tokens=0, audio_tokens=0, reasoning_tokens=0, rejected_prediction_tokens=0), prompt_tokens_details=PromptTokensDetails(audio_tokens=0, cached_tokens=0))\n",
      "CPU times: total: 31.2 ms\n",
      "Wall time: 850 ms\n"
     ]
    }
   ],
   "source": [
    "%%time\n",
    "\n",
    "user_content = '''\n",
    "#4. NP04PY011\n",
    "i가 1부터 9까지 1씩 증가하는 동안 erase(i, i)를 수행한다. i가 1부터 7까지 2씩 증가하는 동안 erase(i, 5)를 수행한다.\n",
    "(<범위설정 설명>에서 '범위설정 설명을 이해하지 못했습니다.'를 출력한 경우 문제를 풀 수 없다.)\n",
    "(erase 명령어는 따로 정의하지 않아도 된다.)\n",
    "(결과는 코드 또는 ‘문제를 풀 수 없습니다.’만 출력)\n",
    "'''\n",
    "\n",
    "messages.append({\"role\": \"user\", \"content\": user_content})\n",
    "\n",
    "response = client.chat.completions.create(\n",
    "    model=model,\n",
    "    messages=messages)\n",
    "messages.append(response.choices[0].message)\n",
    "\n",
    "print('*'*20, 'answer', '*'*20)\n",
    "print(response.choices[0].message.content)\n",
    "print('*'*40)\n",
    "print('tokens:', response.usage)"
   ]
  }
 ],
 "metadata": {
  "kernelspec": {
   "display_name": "base",
   "language": "python",
   "name": "python3"
  },
  "language_info": {
   "codemirror_mode": {
    "name": "ipython",
    "version": 3
   },
   "file_extension": ".py",
   "mimetype": "text/x-python",
   "name": "python",
   "nbconvert_exporter": "python",
   "pygments_lexer": "ipython3",
   "version": "3.10.9"
  }
 },
 "nbformat": 4,
 "nbformat_minor": 5
}
