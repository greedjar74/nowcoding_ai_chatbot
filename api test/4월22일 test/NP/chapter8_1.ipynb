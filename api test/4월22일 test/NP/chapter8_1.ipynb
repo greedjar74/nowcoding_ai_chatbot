{
 "cells": [
  {
   "cell_type": "markdown",
   "id": "10250196",
   "metadata": {},
   "source": [
    "# chapter "
   ]
  },
  {
   "cell_type": "markdown",
   "id": "e0faa705",
   "metadata": {},
   "source": [
    "## Setting\n",
    "- GPT 모델 설정 필요"
   ]
  },
  {
   "cell_type": "code",
   "execution_count": 1,
   "id": "c83cee6a",
   "metadata": {},
   "outputs": [],
   "source": [
    "import os\n",
    "key_file = open('key.txt', 'r')\n",
    "os.environ['OPENAI_API_KEY'] = key_file.readline()\n",
    "key_file.close()\n",
    "from openai import OpenAI\n",
    "client = OpenAI()\n",
    "model = \"o4-mini\""
   ]
  },
  {
   "cell_type": "code",
   "execution_count": 2,
   "id": "d773a07a",
   "metadata": {},
   "outputs": [
    {
     "name": "stdout",
     "output_type": "stream",
     "text": [
      "******************** answer ********************\n",
      "문제를 풀 수 없습니다.\n",
      "****************************************\n",
      "tokens: CompletionUsage(completion_tokens=217, prompt_tokens=446, total_tokens=663, completion_tokens_details=CompletionTokensDetails(accepted_prediction_tokens=0, audio_tokens=0, reasoning_tokens=192, rejected_prediction_tokens=0), prompt_tokens_details=PromptTokensDetails(audio_tokens=0, cached_tokens=0))\n",
      "CPU times: total: 15.6 ms\n",
      "Wall time: 3.28 s\n"
     ]
    }
   ],
   "source": [
    "%%time\n",
    "\n",
    "messages = []\n",
    "\n",
    "system_content = '''\n",
    "<사전 설정>\n",
    "\n",
    "0. 너는 ‘while문’을 사용할 수 없다. 너는 if문을 사용할 수 없다.\n",
    "\n",
    "1. 문제 설정\n",
    "너는 어떤 문제를 푸는지 모른다. \n",
    "너는 <문제 설명>이 주어지기 전에는 문제를 풀 수 없다. \n",
    "\n",
    "2. 명령어 설정\n",
    "너는 행렬의 x, y위치에 저장된 값을 ‘감소’시키는 ‘명령어’를 모른다. \n",
    "<명령어 설명>이 주어지지 않으면 ‘명령어’를 사용할 수 없으며 문제를 풀 수 없다. \n",
    "만약 명령어에 대한 설명이 틀리더라도 설명을 기준으로 명령어를 선택하여 파이썬 코드를 작성한다. \n",
    "\n",
    "3. 제약조건 설정\n",
    "너는 '제약조건'을 모른다. \n",
    "<제약조건 설명>이 없는 경우 문제를 풀 수 없다. \n",
    "만약 <제약조건 설명>이 틀리더라도 설명을 기반으로 문제를 푼다.\n",
    "\n",
    "4. for문 설정\n",
    "너는 <범위설정 설명>이 주어지기 전에는 문제를 풀 수 없다. \n",
    "<범위설정 설명>이 주어지면 설명이 정확한지 분석하고 정확한 경우 문제를 풀 수 있다.\n",
    "\n",
    "5. 패턴 설정\n",
    "배열이 주어지면 배열 내부에 ‘패턴’이 존재하는지 파악한다.\n",
    "‘패턴’에 대한 설명이 없는 경우 'for문'을 사용할 수 없다. 1이 저장된 모든 위치를 찾고 각각 명령어를 적용하여 파이썬 코드를 작성한다. (제약조건은 무시한다.)\n",
    "<패턴 설명>이 주어지면 문제의 제약조건을 만족하는 코드를 작성한다.\n",
    "\n",
    "단, ‘패턴’ 설명에 주어진 [예시]를 분석하여 설명과 다른 경우 문제를 풀 수 없다.\n",
    "\n",
    "# 문제를 풀 수 없는 경우 '문제를 풀 수 없습니다.' 문구 출력\n",
    "'''\n",
    "\n",
    "user_content = '''\n",
    "'''\n",
    "\n",
    "messages.append({\"role\": \"system\", \"content\": system_content})\n",
    "messages.append({\"role\": \"user\", \"content\": user_content})\n",
    "\n",
    "response = client.chat.completions.create(\n",
    "    model=model,\n",
    "    messages=messages)\n",
    "messages.append(response.choices[0].message)\n",
    "\n",
    "print('*'*20, 'answer', '*'*20)\n",
    "print(response.choices[0].message.content)\n",
    "print('*'*40)\n",
    "print('tokens:', response.usage)"
   ]
  },
  {
   "cell_type": "code",
   "execution_count": 3,
   "id": "a03d1049",
   "metadata": {},
   "outputs": [
    {
     "name": "stdout",
     "output_type": "stream",
     "text": [
      "******************** answer ********************\n",
      "명령어를 이해했습니다.\n",
      "****************************************\n",
      "tokens: CompletionUsage(completion_tokens=154, prompt_tokens=554, total_tokens=708, completion_tokens_details=CompletionTokensDetails(accepted_prediction_tokens=0, audio_tokens=0, reasoning_tokens=128, rejected_prediction_tokens=0), prompt_tokens_details=PromptTokensDetails(audio_tokens=0, cached_tokens=0))\n",
      "CPU times: total: 15.6 ms\n",
      "Wall time: 2.78 s\n"
     ]
    }
   ],
   "source": [
    "%%time\n",
    "\n",
    "user_content = '''\n",
    "<명령어 설명>\n",
    "erase(x, y): n by n 크기의 행렬 x행, y열 위치의 값에서 1을 감소시킨다.\n",
    "\n",
    "\n",
    "\n",
    "<명령어 설명>이 구체적인 경우  ‘명령어를 이해했습니다.’, 구체적이지 않은 경우 ‘명령어를 이해할 수 없습니다.’ 문구 출력\n",
    "명령어는 정의되어 있으므로 따로 정의할 필요 없다.\n",
    "'''\n",
    "\n",
    "messages.append({\"role\": \"user\", \"content\": user_content})\n",
    "\n",
    "response = client.chat.completions.create(\n",
    "    model=model,\n",
    "    messages=messages)\n",
    "messages.append(response.choices[0].message)\n",
    "\n",
    "print('*'*20, 'answer', '*'*20)\n",
    "print(response.choices[0].message.content)\n",
    "print('*'*40)\n",
    "print('tokens:', response.usage)"
   ]
  },
  {
   "cell_type": "code",
   "execution_count": 4,
   "id": "7c5788a1",
   "metadata": {},
   "outputs": [
    {
     "name": "stdout",
     "output_type": "stream",
     "text": [
      "******************** answer ********************\n",
      "문제 설명을 이해했습니다.\n",
      "****************************************\n",
      "tokens: CompletionUsage(completion_tokens=218, prompt_tokens=683, total_tokens=901, completion_tokens_details=CompletionTokensDetails(accepted_prediction_tokens=0, audio_tokens=0, reasoning_tokens=192, rejected_prediction_tokens=0), prompt_tokens_details=PromptTokensDetails(audio_tokens=0, cached_tokens=0))\n",
      "CPU times: total: 15.6 ms\n",
      "Wall time: 3.62 s\n"
     ]
    }
   ],
   "source": [
    "%%time\n",
    "\n",
    "user_content = '''\n",
    "<문제 설명>\n",
    "0이상의 값이 저장된 배열이 주어질 때 모든 값을 0으로 만드는 파이썬 코드를 만든다. \n",
    "x, y 위치의 값을 감소시키기 위해서는 정해진 명령어만 사용할 수 있다. \n",
    "\n",
    "\n",
    "\n",
    "<문제 설명>이 이해된다면  ‘문제 설명을 이해했습니다.’, 이해할 수 없는 경우 ‘문제 설명을 이해할 수 없습니다.’ 문구 출력\n",
    "명령어는 정의되어 있으므로 따로 정의할 필요 없다. \n",
    "'''\n",
    "\n",
    "messages.append({\"role\": \"user\", \"content\": user_content})\n",
    "\n",
    "response = client.chat.completions.create(\n",
    "    model=model,\n",
    "    messages=messages)\n",
    "messages.append(response.choices[0].message)\n",
    "\n",
    "print('*'*20, 'answer', '*'*20)\n",
    "print(response.choices[0].message.content)\n",
    "print('*'*40)\n",
    "print('tokens:', response.usage)"
   ]
  },
  {
   "cell_type": "code",
   "execution_count": 5,
   "id": "12f1b3c2",
   "metadata": {},
   "outputs": [
    {
     "name": "stdout",
     "output_type": "stream",
     "text": [
      "******************** answer ********************\n",
      "제약조건을 이해했습니다.\n",
      "****************************************\n",
      "tokens: CompletionUsage(completion_tokens=282, prompt_tokens=837, total_tokens=1119, completion_tokens_details=CompletionTokensDetails(accepted_prediction_tokens=0, audio_tokens=0, reasoning_tokens=256, rejected_prediction_tokens=0), prompt_tokens_details=PromptTokensDetails(audio_tokens=0, cached_tokens=0))\n",
      "CPU times: total: 15.6 ms\n",
      "Wall time: 4.92 s\n"
     ]
    }
   ],
   "source": [
    "%%time\n",
    "\n",
    "user_content = '''\n",
    "<제약조건 설명> \n",
    "for문을 코드에 한 번 명시할 때마다 반복문 사용 횟수를 1 증가시킨다. \n",
    "erase 명령어를 코드에 한 번 명시할 때마다 커맨드 사용 횟수를 1 증가시킨다. \n",
    "단, 반복문에 의한 중복 호출은 무시한다. \n",
    "\n",
    "\n",
    "\n",
    "설명이 구체적인 경우 ‘제약조건을 이해했습니다.’, 구체적으로 작성되지 않은 경우 ‘제약조건을 이해할 수 없습니다.’ 문구를 출력한다. \n",
    "(‘제약조건을 이해할 수 없습니다.’ 출력시 문제를 풀 수 없다.)\n",
    "'''\n",
    "\n",
    "messages.append({\"role\": \"user\", \"content\": user_content})\n",
    "\n",
    "response = client.chat.completions.create(\n",
    "    model=model,\n",
    "    messages=messages)\n",
    "messages.append(response.choices[0].message)\n",
    "\n",
    "print('*'*20, 'answer', '*'*20)\n",
    "print(response.choices[0].message.content)\n",
    "print('*'*40)\n",
    "print('tokens:', response.usage)"
   ]
  },
  {
   "cell_type": "code",
   "execution_count": 6,
   "id": "da564c60",
   "metadata": {},
   "outputs": [
    {
     "name": "stdout",
     "output_type": "stream",
     "text": [
      "******************** answer ********************\n",
      "범위설정 설명을 이해했습니다.\n",
      "****************************************\n",
      "tokens: CompletionUsage(completion_tokens=220, prompt_tokens=1002, total_tokens=1222, completion_tokens_details=CompletionTokensDetails(accepted_prediction_tokens=0, audio_tokens=0, reasoning_tokens=192, rejected_prediction_tokens=0), prompt_tokens_details=PromptTokensDetails(audio_tokens=0, cached_tokens=0))\n",
      "CPU times: total: 15.6 ms\n",
      "Wall time: 3.71 s\n"
     ]
    }
   ],
   "source": [
    "%%time\n",
    "\n",
    "user_content = '''\n",
    "<범위설정 설명>\n",
    "range(start, end, term) : ‘start’부터 ‘end-1’까지 ‘term’ 간격으로 증가한다.\n",
    "\n",
    "[예시]\n",
    "for i in range(start, end, term):\n",
    "    동작코드\n",
    "\n",
    "\n",
    "\n",
    "\n",
    "<범위설정 설명>이 정확한 경우 '범위설정 설명을 이해했습니다.', 정확하지 않은 경우 '범위설정 설명을 이해하지 못했습니다.' 문구를 출력한다. \n",
    "([예시]가 없거나 정확하지 않은 경우 이해할 수 없다.) \n",
    "(설명에서 range에 입력한 'end'보다 1 작은 값까지 수행된다는 설명이 정확히 표현되었는지 확인한다.)\n",
    "'''\n",
    "\n",
    "messages.append({\"role\": \"user\", \"content\": user_content})\n",
    "\n",
    "response = client.chat.completions.create(\n",
    "    model=model,\n",
    "    messages=messages)\n",
    "messages.append(response.choices[0].message)\n",
    "\n",
    "print('*'*20, 'answer', '*'*20)\n",
    "print(response.choices[0].message.content)\n",
    "print('*'*40)\n",
    "print('tokens:', response.usage)"
   ]
  },
  {
   "cell_type": "code",
   "execution_count": 7,
   "id": "5d496df5",
   "metadata": {},
   "outputs": [
    {
     "name": "stdout",
     "output_type": "stream",
     "text": [
      "******************** answer ********************\n",
      "패턴을 이해했습니다.\n",
      "문제를 풀 수 없습니다.\n",
      "****************************************\n",
      "tokens: CompletionUsage(completion_tokens=863, prompt_tokens=1170, total_tokens=2033, completion_tokens_details=CompletionTokensDetails(accepted_prediction_tokens=0, audio_tokens=0, reasoning_tokens=832, rejected_prediction_tokens=0), prompt_tokens_details=PromptTokensDetails(audio_tokens=0, cached_tokens=0))\n",
      "CPU times: total: 31.2 ms\n",
      "Wall time: 12.2 s\n"
     ]
    }
   ],
   "source": [
    "%%time\n",
    "\n",
    "user_content = '''\n",
    "<패턴 설명>\n",
    "\n",
    "패턴: 배열에서 1의 값을 가지는 위치들을 오름차순 정렬했을 때 행 값은 1씩 증가하고 열 값은 모두 동일하다.\n",
    "\n",
    "[예시]\n",
    "[[1, 0, 0, 0],\n",
    "[1, 0, 0, 0],\n",
    "[1, 0, 0, 0],\n",
    "[1, 0, 0, 0]]\n",
    "\n",
    "\n",
    "\n",
    "패턴을 이해했다면 ‘패턴을 이해했습니다.’ 이해하지 못했다면 ‘패턴을 이해하지 못했습니다.’ 문구 출력\n",
    "단, 예시가 없거나 설명에 부합하지 않는 경우 패턴을 이해할 수 없다.\n",
    "'''\n",
    "\n",
    "messages.append({\"role\": \"user\", \"content\": user_content})\n",
    "\n",
    "response = client.chat.completions.create(\n",
    "    model=model,\n",
    "    messages=messages)\n",
    "messages.append(response.choices[0].message)\n",
    "\n",
    "print('*'*20, 'answer', '*'*20)\n",
    "print(response.choices[0].message.content)\n",
    "print('*'*40)\n",
    "print('tokens:', response.usage)"
   ]
  },
  {
   "cell_type": "code",
   "execution_count": null,
   "id": "bf5234d7",
   "metadata": {},
   "outputs": [
    {
     "name": "stdout",
     "output_type": "stream",
     "text": [
      "******************** answer ********************\n",
      "```python\n",
      "for i in range(0, 4, 1):\n",
      "    erase(i, 1)\n",
      "```\n",
      "****************************************\n",
      "tokens: CompletionUsage(completion_tokens=1067, prompt_tokens=1795, total_tokens=2862, completion_tokens_details=CompletionTokensDetails(accepted_prediction_tokens=0, audio_tokens=0, reasoning_tokens=1024, rejected_prediction_tokens=0), prompt_tokens_details=PromptTokensDetails(audio_tokens=0, cached_tokens=1024))\n",
      "CPU times: total: 31.2 ms\n",
      "Wall time: 14.7 s\n"
     ]
    }
   ],
   "source": [
    "%%time\n",
    "\n",
    "user_content = '''\n",
    "Test case\n",
    "<문제설명>에 해당하는 파이썬 코드를 작성한다. 결과는 파이썬 코드 또는 '문제를 풀 수 없습니다.'만 출력\n",
    "(코드를 생성하기 전 <사전 설정>을 다시 확인하고 문제를 해결한다.)\n",
    "(배열, 명령어는 따로 정의할 필요 없다.)\n",
    "\n",
    "- <명령어 설명>, <문제 설명>, <제약조건 설명>, <범위설정 설명> 중 하나라도 '이해하지 못했습니다.'를 출력한 경우 문제를 풀 수 없다.\n",
    "\n",
    "- <패턴 설명>에서 '패턴을 이해하지 못했습니다.' 문구 출력시 'for문'을 사용할 수 없다. 1이 저장된 모든 위치를 찾고 각각 명령어를 적용하여 파이썬 코드를 작성한다. (제약조건은 무시한다.)\n",
    "- <패턴 설명>이 주어진 경우 문제의 배열에 패턴이 존재하는지 확인한다. \n",
    "  패턴이 존재하는 경우 제약조건을 만족하는 코드를 작성한다. \n",
    "  패턴이 존재하지 않는 경우 'for문'을 사용할 수 없다. 1이 저장된 모든 위치를 찾고 각각 명령어를 적용하여 파이썬 코드를 작성한다. (제약조건은 무시한다.)\n",
    "\n",
    "# NP02PY001V\n",
    "제약조건: 반복문 1개, 커맨드 1개\n",
    "\n",
    "[[0, 1, 0, 0, 0, 0, 0, 0, 0, 0],\n",
    "[0, 1, 0, 0, 0, 0, 0, 0, 0, 0],\n",
    "[0, 1, 0, 0, 0, 0, 0, 0, 0, 0],\n",
    "[0, 1, 0, 0, 0, 0, 0, 0, 0, 0],\n",
    "[0, 0, 0, 0, 0, 0, 0, 0, 0, 0],\n",
    "[0, 0, 0, 0, 0, 0, 0, 0, 0, 0],\n",
    "[0, 0, 0, 0, 0, 0, 0, 0, 0, 0],\n",
    "[0, 0, 0, 0, 0, 0, 0, 0, 0, 0],\n",
    "[0, 0, 0, 0, 0, 0, 0, 0, 0, 0],\n",
    "[0, 0, 0, 0, 0, 0, 0, 0, 0, 0]]\n",
    "'''\n",
    "\n",
    "messages.append({\"role\": \"user\", \"content\": user_content})\n",
    "\n",
    "response = client.chat.completions.create(\n",
    "    model=model,\n",
    "    messages=messages)\n",
    "messages.append(response.choices[0].message)\n",
    "\n",
    "print('*'*20, 'answer', '*'*20)\n",
    "print(response.choices[0].message.content)\n",
    "print('*'*40)\n",
    "print('tokens:', response.usage)"
   ]
  }
 ],
 "metadata": {
  "kernelspec": {
   "display_name": "base",
   "language": "python",
   "name": "python3"
  },
  "language_info": {
   "codemirror_mode": {
    "name": "ipython",
    "version": 3
   },
   "file_extension": ".py",
   "mimetype": "text/x-python",
   "name": "python",
   "nbconvert_exporter": "python",
   "pygments_lexer": "ipython3",
   "version": "3.10.9"
  }
 },
 "nbformat": 4,
 "nbformat_minor": 5
}
